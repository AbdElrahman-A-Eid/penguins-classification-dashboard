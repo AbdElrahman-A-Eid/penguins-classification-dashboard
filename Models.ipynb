{
 "cells": [
  {
   "cell_type": "markdown",
   "metadata": {},
   "source": [
    "## KNN MODELS"
   ]
  },
  {
   "cell_type": "code",
   "execution_count": 138,
   "metadata": {},
   "outputs": [],
   "source": [
    "import pandas as pd\n",
    "from imblearn.over_sampling import SMOTE\n",
    "from sklearn.neighbors import KNeighborsClassifier\n",
    "from sklearn.linear_model  import LogisticRegression\n",
    "from sklearn.metrics import confusion_matrix, classification_report\n"
   ]
  },
  {
   "cell_type": "markdown",
   "metadata": {},
   "source": [
    "## OverSampling Method"
   ]
  },
  {
   "cell_type": "code",
   "execution_count": 139,
   "metadata": {},
   "outputs": [],
   "source": [
    "def over_sampling(X_train,y_train):\n",
    "    oversampling = SMOTE()\n",
    "    X_train, y_train = oversampling.fit_resample(X_train, y_train)\n",
    "    return X_train,y_train"
   ]
  },
  {
   "cell_type": "markdown",
   "metadata": {},
   "source": [
    "## Split Data"
   ]
  },
  {
   "cell_type": "code",
   "execution_count": 140,
   "metadata": {},
   "outputs": [],
   "source": [
    "PATH='F:\\\\clustering-classification-dashboard\\\\data\\\\'\n",
    "def split_data(train_data,val_data):\n",
    "    X_train = train_data.drop(columns=['species'])\n",
    "    y_train = train_data['species']\n",
    "    X_val = val_data.drop(columns=['species'])\n",
    "    y_val = val_data['species']\n",
    "    return X_train,y_train,X_val,y_val\n",
    "    "
   ]
  },
  {
   "cell_type": "markdown",
   "metadata": {},
   "source": [
    "## Model Method"
   ]
  },
  {
   "cell_type": "code",
   "execution_count": 141,
   "metadata": {},
   "outputs": [],
   "source": [
    "def model(X_train, y_train, X_val, y_val, oversampling=True, n_neighbors=4):\n",
    "    if oversampling:\n",
    "        X_train, y_train = over_sampling(X_train, y_train)\n",
    "    knn = KNeighborsClassifier(n_neighbors=n_neighbors)\n",
    "    knn.fit(X_train, y_train)\n",
    "    print(y_train.value_counts())\n",
    "    print(confusion_matrix(y_val, knn.predict(X_val)))\n",
    "    print(classification_report(y_val, knn.predict(X_val)))\n",
    "\n",
    "def log_model(X_train, y_train, X_val, y_val, oversampling=True):\n",
    "    if oversampling:\n",
    "        X_train, y_train = over_sampling(X_train, y_train)\n",
    "    log = LogisticRegression()\n",
    "    log.fit(X_train, y_train)\n",
    "    print(y_train.value_counts())\n",
    "    print(confusion_matrix(y_val, log.predict(X_val)))\n",
    "    print(classification_report(y_val, log.predict(X_val)))\n"
   ]
  },
  {
   "cell_type": "markdown",
   "metadata": {},
   "source": [
    "## KNN Without Anything"
   ]
  },
  {
   "cell_type": "code",
   "execution_count": 142,
   "metadata": {},
   "outputs": [],
   "source": [
    "train_data = pd.read_csv(\n",
    "    PATH+'train_data_without_anything.csv')\n",
    "val_data=pd.read_csv(\n",
    "    PATH+'val_data_without_anything.csv')\n"
   ]
  },
  {
   "cell_type": "code",
   "execution_count": 143,
   "metadata": {},
   "outputs": [],
   "source": [
    "X_train,y_train,X_val,y_val=split_data(train_data,val_data)"
   ]
  },
  {
   "cell_type": "code",
   "execution_count": 144,
   "metadata": {},
   "outputs": [
    {
     "name": "stdout",
     "output_type": "stream",
     "text": [
      "0    121\n",
      "1    121\n",
      "2    121\n",
      "Name: species, dtype: int64\n",
      "[[27  0  3]\n",
      " [ 2 22  1]\n",
      " [ 8  0  6]]\n",
      "              precision    recall  f1-score   support\n",
      "\n",
      "           0       0.73      0.90      0.81        30\n",
      "           1       1.00      0.88      0.94        25\n",
      "           2       0.60      0.43      0.50        14\n",
      "\n",
      "    accuracy                           0.80        69\n",
      "   macro avg       0.78      0.74      0.75        69\n",
      "weighted avg       0.80      0.80      0.79        69\n",
      "\n"
     ]
    }
   ],
   "source": [
    "model(X_train,y_train,X_val,y_val)"
   ]
  },
  {
   "cell_type": "code",
   "execution_count": 145,
   "metadata": {},
   "outputs": [
    {
     "name": "stdout",
     "output_type": "stream",
     "text": [
      "0    121\n",
      "1    121\n",
      "2    121\n",
      "Name: species, dtype: int64\n",
      "[[30  0  0]\n",
      " [ 0 25  0]\n",
      " [ 1  0 13]]\n",
      "              precision    recall  f1-score   support\n",
      "\n",
      "           0       0.97      1.00      0.98        30\n",
      "           1       1.00      1.00      1.00        25\n",
      "           2       1.00      0.93      0.96        14\n",
      "\n",
      "    accuracy                           0.99        69\n",
      "   macro avg       0.99      0.98      0.98        69\n",
      "weighted avg       0.99      0.99      0.99        69\n",
      "\n"
     ]
    },
    {
     "name": "stderr",
     "output_type": "stream",
     "text": [
      "c:\\Users\\Ahmed Atef\\anaconda3\\lib\\site-packages\\sklearn\\linear_model\\_logistic.py:814: ConvergenceWarning: lbfgs failed to converge (status=1):\n",
      "STOP: TOTAL NO. of ITERATIONS REACHED LIMIT.\n",
      "\n",
      "Increase the number of iterations (max_iter) or scale the data as shown in:\n",
      "    https://scikit-learn.org/stable/modules/preprocessing.html\n",
      "Please also refer to the documentation for alternative solver options:\n",
      "    https://scikit-learn.org/stable/modules/linear_model.html#logistic-regression\n",
      "  n_iter_i = _check_optimize_result(\n"
     ]
    }
   ],
   "source": [
    "log_model(X_train, y_train, X_val, y_val)\n"
   ]
  },
  {
   "cell_type": "code",
   "execution_count": 146,
   "metadata": {},
   "outputs": [
    {
     "name": "stdout",
     "output_type": "stream",
     "text": [
      "0    121\n",
      "1     98\n",
      "2     54\n",
      "Name: species, dtype: int64\n",
      "[[28  0  2]\n",
      " [ 5 20  0]\n",
      " [12  0  2]]\n",
      "              precision    recall  f1-score   support\n",
      "\n",
      "           0       0.62      0.93      0.75        30\n",
      "           1       1.00      0.80      0.89        25\n",
      "           2       0.50      0.14      0.22        14\n",
      "\n",
      "    accuracy                           0.72        69\n",
      "   macro avg       0.71      0.63      0.62        69\n",
      "weighted avg       0.73      0.72      0.69        69\n",
      "\n"
     ]
    }
   ],
   "source": [
    "model(X_train,y_train,X_val,y_val,oversampling=False)"
   ]
  },
  {
   "cell_type": "code",
   "execution_count": 147,
   "metadata": {},
   "outputs": [
    {
     "name": "stdout",
     "output_type": "stream",
     "text": [
      "0    121\n",
      "1     98\n",
      "2     54\n",
      "Name: species, dtype: int64\n",
      "[[30  0  0]\n",
      " [ 0 25  0]\n",
      " [ 2  0 12]]\n",
      "              precision    recall  f1-score   support\n",
      "\n",
      "           0       0.94      1.00      0.97        30\n",
      "           1       1.00      1.00      1.00        25\n",
      "           2       1.00      0.86      0.92        14\n",
      "\n",
      "    accuracy                           0.97        69\n",
      "   macro avg       0.98      0.95      0.96        69\n",
      "weighted avg       0.97      0.97      0.97        69\n",
      "\n"
     ]
    },
    {
     "name": "stderr",
     "output_type": "stream",
     "text": [
      "c:\\Users\\Ahmed Atef\\anaconda3\\lib\\site-packages\\sklearn\\linear_model\\_logistic.py:814: ConvergenceWarning: lbfgs failed to converge (status=1):\n",
      "STOP: TOTAL NO. of ITERATIONS REACHED LIMIT.\n",
      "\n",
      "Increase the number of iterations (max_iter) or scale the data as shown in:\n",
      "    https://scikit-learn.org/stable/modules/preprocessing.html\n",
      "Please also refer to the documentation for alternative solver options:\n",
      "    https://scikit-learn.org/stable/modules/linear_model.html#logistic-regression\n",
      "  n_iter_i = _check_optimize_result(\n"
     ]
    }
   ],
   "source": [
    "log_model(X_train,y_train,X_val,y_val,oversampling=False)"
   ]
  },
  {
   "cell_type": "markdown",
   "metadata": {},
   "source": [
    "## KNN with Min_Max Scaler"
   ]
  },
  {
   "cell_type": "code",
   "execution_count": 148,
   "metadata": {},
   "outputs": [],
   "source": [
    "train_data = pd.read_csv(\n",
    "    PATH+'train_data_with_min_max_scaler.csv')\n",
    "val_data = pd.read_csv(\n",
    "    PATH+'val_data_with_min_max_scaler.csv')\n"
   ]
  },
  {
   "cell_type": "code",
   "execution_count": 149,
   "metadata": {},
   "outputs": [],
   "source": [
    "X_train, y_train, X_val, y_val = split_data(train_data, val_data)\n"
   ]
  },
  {
   "cell_type": "code",
   "execution_count": 150,
   "metadata": {},
   "outputs": [
    {
     "data": {
      "text/html": [
       "<div>\n",
       "<style scoped>\n",
       "    .dataframe tbody tr th:only-of-type {\n",
       "        vertical-align: middle;\n",
       "    }\n",
       "\n",
       "    .dataframe tbody tr th {\n",
       "        vertical-align: top;\n",
       "    }\n",
       "\n",
       "    .dataframe thead th {\n",
       "        text-align: right;\n",
       "    }\n",
       "</style>\n",
       "<table border=\"1\" class=\"dataframe\">\n",
       "  <thead>\n",
       "    <tr style=\"text-align: right;\">\n",
       "      <th></th>\n",
       "      <th>culmen_length_mm</th>\n",
       "      <th>culmen_depth_mm</th>\n",
       "      <th>flipper_length_mm</th>\n",
       "      <th>body_mass_g</th>\n",
       "      <th>sex_FEMALE</th>\n",
       "      <th>sex_MALE</th>\n",
       "      <th>island_Biscoe</th>\n",
       "      <th>island_Dream</th>\n",
       "      <th>island_Torgersen</th>\n",
       "    </tr>\n",
       "  </thead>\n",
       "  <tbody>\n",
       "    <tr>\n",
       "      <th>0</th>\n",
       "      <td>0.207547</td>\n",
       "      <td>0.464286</td>\n",
       "      <td>0.271186</td>\n",
       "      <td>0.055556</td>\n",
       "      <td>1.0</td>\n",
       "      <td>0.0</td>\n",
       "      <td>0.0</td>\n",
       "      <td>0.0</td>\n",
       "      <td>1.0</td>\n",
       "    </tr>\n",
       "    <tr>\n",
       "      <th>1</th>\n",
       "      <td>0.249057</td>\n",
       "      <td>0.547619</td>\n",
       "      <td>0.355932</td>\n",
       "      <td>0.138889</td>\n",
       "      <td>1.0</td>\n",
       "      <td>0.0</td>\n",
       "      <td>1.0</td>\n",
       "      <td>0.0</td>\n",
       "      <td>0.0</td>\n",
       "    </tr>\n",
       "    <tr>\n",
       "      <th>2</th>\n",
       "      <td>0.800000</td>\n",
       "      <td>0.309524</td>\n",
       "      <td>1.000000</td>\n",
       "      <td>0.819444</td>\n",
       "      <td>0.0</td>\n",
       "      <td>1.0</td>\n",
       "      <td>1.0</td>\n",
       "      <td>0.0</td>\n",
       "      <td>0.0</td>\n",
       "    </tr>\n",
       "    <tr>\n",
       "      <th>3</th>\n",
       "      <td>0.301887</td>\n",
       "      <td>0.607143</td>\n",
       "      <td>0.338983</td>\n",
       "      <td>0.375000</td>\n",
       "      <td>0.0</td>\n",
       "      <td>1.0</td>\n",
       "      <td>1.0</td>\n",
       "      <td>0.0</td>\n",
       "      <td>0.0</td>\n",
       "    </tr>\n",
       "    <tr>\n",
       "      <th>4</th>\n",
       "      <td>0.622642</td>\n",
       "      <td>0.607143</td>\n",
       "      <td>0.355932</td>\n",
       "      <td>0.298611</td>\n",
       "      <td>0.0</td>\n",
       "      <td>1.0</td>\n",
       "      <td>0.0</td>\n",
       "      <td>1.0</td>\n",
       "      <td>0.0</td>\n",
       "    </tr>\n",
       "  </tbody>\n",
       "</table>\n",
       "</div>"
      ],
      "text/plain": [
       "   culmen_length_mm  culmen_depth_mm  flipper_length_mm  body_mass_g  \\\n",
       "0          0.207547         0.464286           0.271186     0.055556   \n",
       "1          0.249057         0.547619           0.355932     0.138889   \n",
       "2          0.800000         0.309524           1.000000     0.819444   \n",
       "3          0.301887         0.607143           0.338983     0.375000   \n",
       "4          0.622642         0.607143           0.355932     0.298611   \n",
       "\n",
       "   sex_FEMALE  sex_MALE  island_Biscoe  island_Dream  island_Torgersen  \n",
       "0         1.0       0.0            0.0           0.0               1.0  \n",
       "1         1.0       0.0            1.0           0.0               0.0  \n",
       "2         0.0       1.0            1.0           0.0               0.0  \n",
       "3         0.0       1.0            1.0           0.0               0.0  \n",
       "4         0.0       1.0            0.0           1.0               0.0  "
      ]
     },
     "execution_count": 150,
     "metadata": {},
     "output_type": "execute_result"
    }
   ],
   "source": [
    "X_train.head()"
   ]
  },
  {
   "cell_type": "code",
   "execution_count": 151,
   "metadata": {},
   "outputs": [
    {
     "name": "stdout",
     "output_type": "stream",
     "text": [
      "0    121\n",
      "1    121\n",
      "2    121\n",
      "Name: species, dtype: int64\n",
      "[[30  0  0]\n",
      " [ 0 25  0]\n",
      " [ 0  0 14]]\n",
      "              precision    recall  f1-score   support\n",
      "\n",
      "           0       1.00      1.00      1.00        30\n",
      "           1       1.00      1.00      1.00        25\n",
      "           2       1.00      1.00      1.00        14\n",
      "\n",
      "    accuracy                           1.00        69\n",
      "   macro avg       1.00      1.00      1.00        69\n",
      "weighted avg       1.00      1.00      1.00        69\n",
      "\n"
     ]
    }
   ],
   "source": [
    "model(X_train,y_train,X_val,y_val)"
   ]
  },
  {
   "cell_type": "code",
   "execution_count": 152,
   "metadata": {},
   "outputs": [
    {
     "name": "stdout",
     "output_type": "stream",
     "text": [
      "0    121\n",
      "1    121\n",
      "2    121\n",
      "Name: species, dtype: int64\n",
      "[[30  0  0]\n",
      " [ 0 25  0]\n",
      " [ 0  0 14]]\n",
      "              precision    recall  f1-score   support\n",
      "\n",
      "           0       1.00      1.00      1.00        30\n",
      "           1       1.00      1.00      1.00        25\n",
      "           2       1.00      1.00      1.00        14\n",
      "\n",
      "    accuracy                           1.00        69\n",
      "   macro avg       1.00      1.00      1.00        69\n",
      "weighted avg       1.00      1.00      1.00        69\n",
      "\n"
     ]
    }
   ],
   "source": [
    "log_model(X_train,y_train,X_val,y_val)"
   ]
  },
  {
   "cell_type": "code",
   "execution_count": 153,
   "metadata": {},
   "outputs": [
    {
     "name": "stdout",
     "output_type": "stream",
     "text": [
      "0    121\n",
      "1     98\n",
      "2     54\n",
      "Name: species, dtype: int64\n",
      "[[30  0  0]\n",
      " [ 0 25  0]\n",
      " [ 0  0 14]]\n",
      "              precision    recall  f1-score   support\n",
      "\n",
      "           0       1.00      1.00      1.00        30\n",
      "           1       1.00      1.00      1.00        25\n",
      "           2       1.00      1.00      1.00        14\n",
      "\n",
      "    accuracy                           1.00        69\n",
      "   macro avg       1.00      1.00      1.00        69\n",
      "weighted avg       1.00      1.00      1.00        69\n",
      "\n"
     ]
    }
   ],
   "source": [
    "model(X_train, y_train, X_val, y_val, oversampling=False)\n"
   ]
  },
  {
   "cell_type": "code",
   "execution_count": 154,
   "metadata": {},
   "outputs": [
    {
     "name": "stdout",
     "output_type": "stream",
     "text": [
      "0    121\n",
      "1     98\n",
      "2     54\n",
      "Name: species, dtype: int64\n",
      "[[30  0  0]\n",
      " [ 0 25  0]\n",
      " [ 0  0 14]]\n",
      "              precision    recall  f1-score   support\n",
      "\n",
      "           0       1.00      1.00      1.00        30\n",
      "           1       1.00      1.00      1.00        25\n",
      "           2       1.00      1.00      1.00        14\n",
      "\n",
      "    accuracy                           1.00        69\n",
      "   macro avg       1.00      1.00      1.00        69\n",
      "weighted avg       1.00      1.00      1.00        69\n",
      "\n"
     ]
    }
   ],
   "source": [
    "log_model(X_train, y_train, X_val, y_val, oversampling=False)\n"
   ]
  },
  {
   "cell_type": "markdown",
   "metadata": {},
   "source": [
    "## KNN with Std_Scaler"
   ]
  },
  {
   "cell_type": "code",
   "execution_count": 155,
   "metadata": {},
   "outputs": [],
   "source": [
    "train_data = pd.read_csv(\n",
    "    PATH+'train_data_with_std_scaler.csv')\n",
    "val_data = pd.read_csv(\n",
    "    PATH+'val_data_with_std_scaler.csv')\n"
   ]
  },
  {
   "cell_type": "code",
   "execution_count": 156,
   "metadata": {},
   "outputs": [],
   "source": [
    "X_train, y_train, X_val, y_val = split_data(train_data, val_data)\n"
   ]
  },
  {
   "cell_type": "code",
   "execution_count": 157,
   "metadata": {},
   "outputs": [
    {
     "name": "stdout",
     "output_type": "stream",
     "text": [
      "0    121\n",
      "1    121\n",
      "2    121\n",
      "Name: species, dtype: int64\n",
      "[[30  0  0]\n",
      " [ 0 25  0]\n",
      " [ 0  0 14]]\n",
      "              precision    recall  f1-score   support\n",
      "\n",
      "           0       1.00      1.00      1.00        30\n",
      "           1       1.00      1.00      1.00        25\n",
      "           2       1.00      1.00      1.00        14\n",
      "\n",
      "    accuracy                           1.00        69\n",
      "   macro avg       1.00      1.00      1.00        69\n",
      "weighted avg       1.00      1.00      1.00        69\n",
      "\n"
     ]
    }
   ],
   "source": [
    "model(X_train, y_train, X_val, y_val)\n"
   ]
  },
  {
   "cell_type": "code",
   "execution_count": 158,
   "metadata": {},
   "outputs": [
    {
     "name": "stdout",
     "output_type": "stream",
     "text": [
      "0    121\n",
      "1    121\n",
      "2    121\n",
      "Name: species, dtype: int64\n",
      "[[30  0  0]\n",
      " [ 0 25  0]\n",
      " [ 0  0 14]]\n",
      "              precision    recall  f1-score   support\n",
      "\n",
      "           0       1.00      1.00      1.00        30\n",
      "           1       1.00      1.00      1.00        25\n",
      "           2       1.00      1.00      1.00        14\n",
      "\n",
      "    accuracy                           1.00        69\n",
      "   macro avg       1.00      1.00      1.00        69\n",
      "weighted avg       1.00      1.00      1.00        69\n",
      "\n"
     ]
    }
   ],
   "source": [
    "log_model(X_train, y_train, X_val, y_val)"
   ]
  },
  {
   "cell_type": "code",
   "execution_count": 159,
   "metadata": {},
   "outputs": [
    {
     "name": "stdout",
     "output_type": "stream",
     "text": [
      "0    121\n",
      "1     98\n",
      "2     54\n",
      "Name: species, dtype: int64\n",
      "[[30  0  0]\n",
      " [ 0 25  0]\n",
      " [ 0  0 14]]\n",
      "              precision    recall  f1-score   support\n",
      "\n",
      "           0       1.00      1.00      1.00        30\n",
      "           1       1.00      1.00      1.00        25\n",
      "           2       1.00      1.00      1.00        14\n",
      "\n",
      "    accuracy                           1.00        69\n",
      "   macro avg       1.00      1.00      1.00        69\n",
      "weighted avg       1.00      1.00      1.00        69\n",
      "\n"
     ]
    }
   ],
   "source": [
    "model(X_train, y_train, X_val, y_val, oversampling=False)\n"
   ]
  },
  {
   "cell_type": "code",
   "execution_count": 160,
   "metadata": {},
   "outputs": [
    {
     "name": "stdout",
     "output_type": "stream",
     "text": [
      "0    121\n",
      "1     98\n",
      "2     54\n",
      "Name: species, dtype: int64\n",
      "[[30  0  0]\n",
      " [ 0 25  0]\n",
      " [ 0  0 14]]\n",
      "              precision    recall  f1-score   support\n",
      "\n",
      "           0       1.00      1.00      1.00        30\n",
      "           1       1.00      1.00      1.00        25\n",
      "           2       1.00      1.00      1.00        14\n",
      "\n",
      "    accuracy                           1.00        69\n",
      "   macro avg       1.00      1.00      1.00        69\n",
      "weighted avg       1.00      1.00      1.00        69\n",
      "\n"
     ]
    }
   ],
   "source": [
    "log_model(X_train, y_train, X_val, y_val, oversampling=False)\n"
   ]
  },
  {
   "cell_type": "markdown",
   "metadata": {},
   "source": [
    "## KNN with Robust_Scaler"
   ]
  },
  {
   "cell_type": "code",
   "execution_count": 161,
   "metadata": {},
   "outputs": [],
   "source": [
    "train_data_with_min_max = pd.read_csv(\n",
    "    PATH+'train_data_with_robust_scaler.csv')\n",
    "val_data_with_min_max = pd.read_csv(\n",
    "    PATH+'val_data_with_robust_scaler.csv')\n"
   ]
  },
  {
   "cell_type": "code",
   "execution_count": 162,
   "metadata": {},
   "outputs": [],
   "source": [
    "X_train, y_train, X_val, y_val = split_data(train_data, val_data)\n"
   ]
  },
  {
   "cell_type": "code",
   "execution_count": 163,
   "metadata": {},
   "outputs": [
    {
     "name": "stdout",
     "output_type": "stream",
     "text": [
      "0    121\n",
      "1    121\n",
      "2    121\n",
      "Name: species, dtype: int64\n",
      "[[30  0  0]\n",
      " [ 0 25  0]\n",
      " [ 0  0 14]]\n",
      "              precision    recall  f1-score   support\n",
      "\n",
      "           0       1.00      1.00      1.00        30\n",
      "           1       1.00      1.00      1.00        25\n",
      "           2       1.00      1.00      1.00        14\n",
      "\n",
      "    accuracy                           1.00        69\n",
      "   macro avg       1.00      1.00      1.00        69\n",
      "weighted avg       1.00      1.00      1.00        69\n",
      "\n"
     ]
    }
   ],
   "source": [
    "model(X_train, y_train, X_val, y_val)\n"
   ]
  },
  {
   "cell_type": "code",
   "execution_count": 164,
   "metadata": {},
   "outputs": [
    {
     "name": "stdout",
     "output_type": "stream",
     "text": [
      "0    121\n",
      "1    121\n",
      "2    121\n",
      "Name: species, dtype: int64\n",
      "[[30  0  0]\n",
      " [ 0 25  0]\n",
      " [ 0  0 14]]\n",
      "              precision    recall  f1-score   support\n",
      "\n",
      "           0       1.00      1.00      1.00        30\n",
      "           1       1.00      1.00      1.00        25\n",
      "           2       1.00      1.00      1.00        14\n",
      "\n",
      "    accuracy                           1.00        69\n",
      "   macro avg       1.00      1.00      1.00        69\n",
      "weighted avg       1.00      1.00      1.00        69\n",
      "\n"
     ]
    }
   ],
   "source": [
    "log_model(X_train, y_train, X_val, y_val)\n"
   ]
  },
  {
   "cell_type": "code",
   "execution_count": 165,
   "metadata": {},
   "outputs": [
    {
     "name": "stdout",
     "output_type": "stream",
     "text": [
      "0    121\n",
      "1     98\n",
      "2     54\n",
      "Name: species, dtype: int64\n",
      "[[30  0  0]\n",
      " [ 0 25  0]\n",
      " [ 0  0 14]]\n",
      "              precision    recall  f1-score   support\n",
      "\n",
      "           0       1.00      1.00      1.00        30\n",
      "           1       1.00      1.00      1.00        25\n",
      "           2       1.00      1.00      1.00        14\n",
      "\n",
      "    accuracy                           1.00        69\n",
      "   macro avg       1.00      1.00      1.00        69\n",
      "weighted avg       1.00      1.00      1.00        69\n",
      "\n"
     ]
    }
   ],
   "source": [
    "model(X_train, y_train, X_val, y_val, oversampling=False)\n"
   ]
  },
  {
   "cell_type": "code",
   "execution_count": 166,
   "metadata": {},
   "outputs": [
    {
     "name": "stdout",
     "output_type": "stream",
     "text": [
      "0    121\n",
      "1     98\n",
      "2     54\n",
      "Name: species, dtype: int64\n",
      "[[30  0  0]\n",
      " [ 0 25  0]\n",
      " [ 0  0 14]]\n",
      "              precision    recall  f1-score   support\n",
      "\n",
      "           0       1.00      1.00      1.00        30\n",
      "           1       1.00      1.00      1.00        25\n",
      "           2       1.00      1.00      1.00        14\n",
      "\n",
      "    accuracy                           1.00        69\n",
      "   macro avg       1.00      1.00      1.00        69\n",
      "weighted avg       1.00      1.00      1.00        69\n",
      "\n"
     ]
    }
   ],
   "source": [
    "log_model(X_train, y_train, X_val, y_val, oversampling=False)\n"
   ]
  }
 ],
 "metadata": {
  "kernelspec": {
   "display_name": "Python 3.8.8 ('base')",
   "language": "python",
   "name": "python3"
  },
  "language_info": {
   "codemirror_mode": {
    "name": "ipython",
    "version": 3
   },
   "file_extension": ".py",
   "mimetype": "text/x-python",
   "name": "python",
   "nbconvert_exporter": "python",
   "pygments_lexer": "ipython3",
   "version": "3.8.8"
  },
  "orig_nbformat": 4,
  "vscode": {
   "interpreter": {
    "hash": "29eb490d9d566e339a907465d8c8896fb9fe01910bb21282fb1f6325ea9a51e7"
   }
  }
 },
 "nbformat": 4,
 "nbformat_minor": 2
}
