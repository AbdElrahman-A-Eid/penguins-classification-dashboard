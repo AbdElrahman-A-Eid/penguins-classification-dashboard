{
 "cells": [
  {
   "cell_type": "markdown",
   "metadata": {},
   "source": [
    "## KNN MODELS"
   ]
  },
  {
   "cell_type": "code",
   "execution_count": 3,
   "metadata": {},
   "outputs": [],
   "source": [
    "import pandas as pd\n",
    "from imblearn.over_sampling import SMOTE\n",
    "from sklearn.neighbors import KNeighborsClassifier\n",
    "from sklearn.metrics import confusion_matrix, classification_report\n"
   ]
  },
  {
   "cell_type": "markdown",
   "metadata": {},
   "source": [
    "## OverSampling Method"
   ]
  },
  {
   "cell_type": "code",
   "execution_count": 2,
   "metadata": {},
   "outputs": [],
   "source": [
    "def over_sampling(X_train,y_train):\n",
    "    oversampling = SMOTE()\n",
    "    X_train, y_train = oversampling.fit_resample(X_train, y_train)\n",
    "    return X_train,y_train"
   ]
  },
  {
   "cell_type": "markdown",
   "metadata": {},
   "source": [
    "## Model Method"
   ]
  },
  {
   "cell_type": "code",
   "execution_count": 19,
   "metadata": {},
   "outputs": [],
   "source": [
    "def model(X_train, y_train, X_val, y_val, oversampling=True, n_neighbors=1):\n",
    "    if oversampling:\n",
    "        X_train, y_train = over_sampling(X_train, y_train)\n",
    "    knn = KNeighborsClassifier(n_neighbors=n_neighbors)\n",
    "    knn.fit(X_train, y_train)\n",
    "    print(y_train.value_counts())\n",
    "    preds_knn = knn.predict(X_val)\n",
    "    print(confusion_matrix(y_val, preds_knn))\n",
    "    print(classification_report(y_val, preds_knn))\n"
   ]
  },
  {
   "cell_type": "markdown",
   "metadata": {},
   "source": [
    "## KNN Without Anything"
   ]
  },
  {
   "cell_type": "code",
   "execution_count": 4,
   "metadata": {},
   "outputs": [],
   "source": [
    "train_data = pd.read_csv(\n",
    "    'F:\\\\clustering-classification-dashboard\\\\data\\\\train_data_without_anything.csv')\n",
    "val_data=pd.read_csv(\n",
    "    'F:\\\\clustering-classification-dashboard\\\\data\\\\val_data_without_anything.csv')\n"
   ]
  },
  {
   "cell_type": "code",
   "execution_count": 5,
   "metadata": {},
   "outputs": [],
   "source": [
    "X_train = train_data.drop(columns=['species'])\n",
    "y_train = train_data['species']\n",
    "X_val = val_data.drop(columns=['species'])\n",
    "y_val = val_data['species']"
   ]
  },
  {
   "cell_type": "code",
   "execution_count": 20,
   "metadata": {},
   "outputs": [
    {
     "name": "stdout",
     "output_type": "stream",
     "text": [
      "0    121\n",
      "1    121\n",
      "2    121\n",
      "Name: species, dtype: int64\n",
      "[[30  0  0]\n",
      " [ 0 24  1]\n",
      " [ 3  0 11]]\n",
      "              precision    recall  f1-score   support\n",
      "\n",
      "           0       0.91      1.00      0.95        30\n",
      "           1       1.00      0.96      0.98        25\n",
      "           2       0.92      0.79      0.85        14\n",
      "\n",
      "    accuracy                           0.94        69\n",
      "   macro avg       0.94      0.92      0.93        69\n",
      "weighted avg       0.94      0.94      0.94        69\n",
      "\n"
     ]
    }
   ],
   "source": [
    "model(X_train,y_train,X_val,y_val)"
   ]
  },
  {
   "cell_type": "code",
   "execution_count": 21,
   "metadata": {},
   "outputs": [
    {
     "name": "stdout",
     "output_type": "stream",
     "text": [
      "0    121\n",
      "1     98\n",
      "2     54\n",
      "Name: species, dtype: int64\n",
      "[[30  0  0]\n",
      " [ 0 24  1]\n",
      " [ 3  0 11]]\n",
      "              precision    recall  f1-score   support\n",
      "\n",
      "           0       0.91      1.00      0.95        30\n",
      "           1       1.00      0.96      0.98        25\n",
      "           2       0.92      0.79      0.85        14\n",
      "\n",
      "    accuracy                           0.94        69\n",
      "   macro avg       0.94      0.92      0.93        69\n",
      "weighted avg       0.94      0.94      0.94        69\n",
      "\n"
     ]
    }
   ],
   "source": [
    "model(X_train, y_train, X_val, y_val,oversampling=False)\n"
   ]
  },
  {
   "cell_type": "markdown",
   "metadata": {},
   "source": [
    "## KNN with Min_Max Scaler"
   ]
  },
  {
   "cell_type": "code",
   "execution_count": 23,
   "metadata": {},
   "outputs": [],
   "source": [
    "train_data = pd.read_csv(\n",
    "    'F:\\\\clustering-classification-dashboard\\\\data\\\\train_data_with_min_max_scaler.csv')\n",
    "val_data = pd.read_csv(\n",
    "    'F:\\\\clustering-classification-dashboard\\\\data\\\\val_data_with_min_max_scaler.csv')\n"
   ]
  },
  {
   "cell_type": "code",
   "execution_count": 24,
   "metadata": {},
   "outputs": [],
   "source": [
    "X_train = train_data.drop(columns=['species'])\n",
    "y_train = train_data['species']\n",
    "X_val = val_data.drop(columns=['species'])\n",
    "y_val = val_data['species']\n"
   ]
  },
  {
   "cell_type": "code",
   "execution_count": 25,
   "metadata": {},
   "outputs": [
    {
     "name": "stdout",
     "output_type": "stream",
     "text": [
      "0    121\n",
      "1    121\n",
      "2    121\n",
      "Name: species, dtype: int64\n",
      "[[29  0  1]\n",
      " [ 0 25  0]\n",
      " [ 0  0 14]]\n",
      "              precision    recall  f1-score   support\n",
      "\n",
      "           0       1.00      0.97      0.98        30\n",
      "           1       1.00      1.00      1.00        25\n",
      "           2       0.93      1.00      0.97        14\n",
      "\n",
      "    accuracy                           0.99        69\n",
      "   macro avg       0.98      0.99      0.98        69\n",
      "weighted avg       0.99      0.99      0.99        69\n",
      "\n"
     ]
    }
   ],
   "source": [
    "model(X_train, y_train, X_val, y_val)\n"
   ]
  },
  {
   "cell_type": "code",
   "execution_count": 26,
   "metadata": {},
   "outputs": [
    {
     "name": "stdout",
     "output_type": "stream",
     "text": [
      "0    121\n",
      "1     98\n",
      "2     54\n",
      "Name: species, dtype: int64\n",
      "[[29  0  1]\n",
      " [ 0 25  0]\n",
      " [ 0  0 14]]\n",
      "              precision    recall  f1-score   support\n",
      "\n",
      "           0       1.00      0.97      0.98        30\n",
      "           1       1.00      1.00      1.00        25\n",
      "           2       0.93      1.00      0.97        14\n",
      "\n",
      "    accuracy                           0.99        69\n",
      "   macro avg       0.98      0.99      0.98        69\n",
      "weighted avg       0.99      0.99      0.99        69\n",
      "\n"
     ]
    }
   ],
   "source": [
    "model(X_train, y_train, X_val, y_val, oversampling=False)\n"
   ]
  },
  {
   "cell_type": "markdown",
   "metadata": {},
   "source": [
    "## KNN with Std_Scaler"
   ]
  },
  {
   "cell_type": "code",
   "execution_count": 27,
   "metadata": {},
   "outputs": [],
   "source": [
    "train_data_with_min_max = pd.read_csv(\n",
    "    'F:\\\\clustering-classification-dashboard\\\\data\\\\train_data_with_std_scaler.csv')\n",
    "val_data_with_min_max = pd.read_csv(\n",
    "    'F:\\\\clustering-classification-dashboard\\\\data\\\\val_data_with_std_scaler.csv')\n"
   ]
  },
  {
   "cell_type": "code",
   "execution_count": 28,
   "metadata": {},
   "outputs": [],
   "source": [
    "X_train = train_data.drop(columns=['species'])\n",
    "y_train = train_data['species']\n",
    "X_val = val_data.drop(columns=['species'])\n",
    "y_val = val_data['species']\n"
   ]
  },
  {
   "cell_type": "code",
   "execution_count": 29,
   "metadata": {},
   "outputs": [
    {
     "name": "stdout",
     "output_type": "stream",
     "text": [
      "0    121\n",
      "1    121\n",
      "2    121\n",
      "Name: species, dtype: int64\n",
      "[[30  0  0]\n",
      " [ 0 24  1]\n",
      " [ 3  0 11]]\n",
      "              precision    recall  f1-score   support\n",
      "\n",
      "           0       0.91      1.00      0.95        30\n",
      "           1       1.00      0.96      0.98        25\n",
      "           2       0.92      0.79      0.85        14\n",
      "\n",
      "    accuracy                           0.94        69\n",
      "   macro avg       0.94      0.92      0.93        69\n",
      "weighted avg       0.94      0.94      0.94        69\n",
      "\n"
     ]
    }
   ],
   "source": [
    "model(X_train, y_train, X_val, y_val)\n"
   ]
  },
  {
   "cell_type": "code",
   "execution_count": 30,
   "metadata": {},
   "outputs": [
    {
     "name": "stdout",
     "output_type": "stream",
     "text": [
      "0    121\n",
      "1     98\n",
      "2     54\n",
      "Name: species, dtype: int64\n",
      "[[30  0  0]\n",
      " [ 0 24  1]\n",
      " [ 3  0 11]]\n",
      "              precision    recall  f1-score   support\n",
      "\n",
      "           0       0.91      1.00      0.95        30\n",
      "           1       1.00      0.96      0.98        25\n",
      "           2       0.92      0.79      0.85        14\n",
      "\n",
      "    accuracy                           0.94        69\n",
      "   macro avg       0.94      0.92      0.93        69\n",
      "weighted avg       0.94      0.94      0.94        69\n",
      "\n"
     ]
    }
   ],
   "source": [
    "model(X_train, y_train, X_val, y_val, oversampling=False)\n"
   ]
  },
  {
   "cell_type": "markdown",
   "metadata": {},
   "source": [
    "## KNN with Robust_Scaler"
   ]
  },
  {
   "cell_type": "code",
   "execution_count": 31,
   "metadata": {},
   "outputs": [],
   "source": [
    "train_data_with_min_max = pd.read_csv(\n",
    "    'F:\\\\clustering-classification-dashboard\\\\data\\\\train_data_with_robust_scaler.csv')\n",
    "val_data_with_min_max = pd.read_csv(\n",
    "    'F:\\\\clustering-classification-dashboard\\\\data\\\\val_data_with_robust_scaler.csv')\n"
   ]
  },
  {
   "cell_type": "code",
   "execution_count": 32,
   "metadata": {},
   "outputs": [],
   "source": [
    "X_train = train_data.drop(columns=['species'])\n",
    "y_train = train_data['species']\n",
    "X_val = val_data.drop(columns=['species'])\n",
    "y_val = val_data['species']\n"
   ]
  },
  {
   "cell_type": "code",
   "execution_count": 33,
   "metadata": {},
   "outputs": [
    {
     "name": "stdout",
     "output_type": "stream",
     "text": [
      "0    121\n",
      "1    121\n",
      "2    121\n",
      "Name: species, dtype: int64\n",
      "[[30  0  0]\n",
      " [ 0 24  1]\n",
      " [ 3  0 11]]\n",
      "              precision    recall  f1-score   support\n",
      "\n",
      "           0       0.91      1.00      0.95        30\n",
      "           1       1.00      0.96      0.98        25\n",
      "           2       0.92      0.79      0.85        14\n",
      "\n",
      "    accuracy                           0.94        69\n",
      "   macro avg       0.94      0.92      0.93        69\n",
      "weighted avg       0.94      0.94      0.94        69\n",
      "\n"
     ]
    }
   ],
   "source": [
    "model(X_train, y_train, X_val, y_val)\n"
   ]
  },
  {
   "cell_type": "code",
   "execution_count": 34,
   "metadata": {},
   "outputs": [
    {
     "name": "stdout",
     "output_type": "stream",
     "text": [
      "0    121\n",
      "1     98\n",
      "2     54\n",
      "Name: species, dtype: int64\n",
      "[[30  0  0]\n",
      " [ 0 24  1]\n",
      " [ 3  0 11]]\n",
      "              precision    recall  f1-score   support\n",
      "\n",
      "           0       0.91      1.00      0.95        30\n",
      "           1       1.00      0.96      0.98        25\n",
      "           2       0.92      0.79      0.85        14\n",
      "\n",
      "    accuracy                           0.94        69\n",
      "   macro avg       0.94      0.92      0.93        69\n",
      "weighted avg       0.94      0.94      0.94        69\n",
      "\n"
     ]
    }
   ],
   "source": [
    "model(X_train, y_train, X_val, y_val, oversampling=False)\n"
   ]
  }
 ],
 "metadata": {
  "kernelspec": {
   "display_name": "Python 3.8.8 ('base')",
   "language": "python",
   "name": "python3"
  },
  "language_info": {
   "codemirror_mode": {
    "name": "ipython",
    "version": 3
   },
   "file_extension": ".py",
   "mimetype": "text/x-python",
   "name": "python",
   "nbconvert_exporter": "python",
   "pygments_lexer": "ipython3",
   "version": "3.8.8"
  },
  "orig_nbformat": 4,
  "vscode": {
   "interpreter": {
    "hash": "29eb490d9d566e339a907465d8c8896fb9fe01910bb21282fb1f6325ea9a51e7"
   }
  }
 },
 "nbformat": 4,
 "nbformat_minor": 2
}
