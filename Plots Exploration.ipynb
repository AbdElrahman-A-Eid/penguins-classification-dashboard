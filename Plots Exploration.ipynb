{
 "cells": [
  {
   "cell_type": "code",
   "execution_count": 24,
   "metadata": {},
   "outputs": [],
   "source": [
    "import pandas as pd\n",
    "import plotly.express as px\n",
    "import plotly.graph_objects as go"
   ]
  },
  {
   "cell_type": "code",
   "execution_count": 25,
   "metadata": {},
   "outputs": [
    {
     "data": {
      "text/html": [
       "<div>\n",
       "<style scoped>\n",
       "    .dataframe tbody tr th:only-of-type {\n",
       "        vertical-align: middle;\n",
       "    }\n",
       "\n",
       "    .dataframe tbody tr th {\n",
       "        vertical-align: top;\n",
       "    }\n",
       "\n",
       "    .dataframe thead th {\n",
       "        text-align: right;\n",
       "    }\n",
       "</style>\n",
       "<table border=\"1\" class=\"dataframe\">\n",
       "  <thead>\n",
       "    <tr style=\"text-align: right;\">\n",
       "      <th></th>\n",
       "      <th>species</th>\n",
       "      <th>island</th>\n",
       "      <th>culmen_length_mm</th>\n",
       "      <th>culmen_depth_mm</th>\n",
       "      <th>flipper_length_mm</th>\n",
       "      <th>body_mass_g</th>\n",
       "      <th>sex</th>\n",
       "    </tr>\n",
       "  </thead>\n",
       "  <tbody>\n",
       "    <tr>\n",
       "      <th>0</th>\n",
       "      <td>Adelie</td>\n",
       "      <td>Torgersen</td>\n",
       "      <td>39.10000</td>\n",
       "      <td>18.70000</td>\n",
       "      <td>181.000000</td>\n",
       "      <td>3750.000000</td>\n",
       "      <td>MALE</td>\n",
       "    </tr>\n",
       "    <tr>\n",
       "      <th>1</th>\n",
       "      <td>Adelie</td>\n",
       "      <td>Torgersen</td>\n",
       "      <td>39.50000</td>\n",
       "      <td>17.40000</td>\n",
       "      <td>186.000000</td>\n",
       "      <td>3800.000000</td>\n",
       "      <td>FEMALE</td>\n",
       "    </tr>\n",
       "    <tr>\n",
       "      <th>2</th>\n",
       "      <td>Adelie</td>\n",
       "      <td>Torgersen</td>\n",
       "      <td>40.30000</td>\n",
       "      <td>18.00000</td>\n",
       "      <td>195.000000</td>\n",
       "      <td>3250.000000</td>\n",
       "      <td>FEMALE</td>\n",
       "    </tr>\n",
       "    <tr>\n",
       "      <th>3</th>\n",
       "      <td>Adelie</td>\n",
       "      <td>Torgersen</td>\n",
       "      <td>43.92193</td>\n",
       "      <td>17.15117</td>\n",
       "      <td>200.915205</td>\n",
       "      <td>4201.754386</td>\n",
       "      <td>MALE</td>\n",
       "    </tr>\n",
       "    <tr>\n",
       "      <th>4</th>\n",
       "      <td>Adelie</td>\n",
       "      <td>Torgersen</td>\n",
       "      <td>36.70000</td>\n",
       "      <td>19.30000</td>\n",
       "      <td>193.000000</td>\n",
       "      <td>3450.000000</td>\n",
       "      <td>FEMALE</td>\n",
       "    </tr>\n",
       "  </tbody>\n",
       "</table>\n",
       "</div>"
      ],
      "text/plain": [
       "  species     island  culmen_length_mm  culmen_depth_mm  flipper_length_mm  \\\n",
       "0  Adelie  Torgersen          39.10000         18.70000         181.000000   \n",
       "1  Adelie  Torgersen          39.50000         17.40000         186.000000   \n",
       "2  Adelie  Torgersen          40.30000         18.00000         195.000000   \n",
       "3  Adelie  Torgersen          43.92193         17.15117         200.915205   \n",
       "4  Adelie  Torgersen          36.70000         19.30000         193.000000   \n",
       "\n",
       "   body_mass_g     sex  \n",
       "0  3750.000000    MALE  \n",
       "1  3800.000000  FEMALE  \n",
       "2  3250.000000  FEMALE  \n",
       "3  4201.754386    MALE  \n",
       "4  3450.000000  FEMALE  "
      ]
     },
     "execution_count": 25,
     "metadata": {},
     "output_type": "execute_result"
    }
   ],
   "source": [
    "df = pd.read_csv(\n",
    "    'F:\\\\clustering-classification-dashboard\\\\data\\\\penguins_cleaned.csv')\n",
    "df.head()\n"
   ]
  },
  {
   "cell_type": "code",
   "execution_count": 26,
   "metadata": {},
   "outputs": [
    {
     "data": {
      "application/vnd.plotly.v1+json": {
       "config": {
        "plotlyServerURL": "https://plot.ly"
       },
       "data": [
        {
         "hovertemplate": "species=Adelie<br>culmen_length_mm=%{x}<br>flipper_length_mm=%{y}<extra></extra>",
         "legendgroup": "Adelie",
         "marker": {
          "color": "#1F77B4",
          "symbol": "circle"
         },
         "mode": "markers",
         "name": "Adelie",
         "orientation": "v",
         "showlegend": true,
         "type": "scatter",
         "x": [
          39.1,
          39.5,
          40.3,
          43.92192982456142,
          36.7,
          39.3,
          38.9,
          39.2,
          34.1,
          42,
          37.8,
          37.8,
          41.1,
          38.6,
          34.6,
          36.6,
          38.7,
          42.5,
          34.4,
          46,
          37.8,
          37.7,
          35.9,
          38.2,
          38.8,
          35.3,
          40.6,
          40.5,
          37.9,
          40.5,
          39.5,
          37.2,
          39.5,
          40.9,
          36.4,
          39.2,
          38.8,
          42.2,
          37.6,
          39.8,
          36.5,
          40.8,
          36,
          44.1,
          37,
          39.6,
          41.1,
          37.5,
          36,
          42.3,
          39.6,
          40.1,
          35,
          42,
          34.5,
          41.4,
          39,
          40.6,
          36.5,
          37.6,
          35.7,
          41.3,
          37.6,
          41.1,
          36.4,
          41.6,
          35.5,
          41.1,
          35.9,
          41.8,
          33.5,
          39.7,
          39.6,
          45.8,
          35.5,
          42.8,
          40.9,
          37.2,
          36.2,
          42.1,
          34.6,
          42.9,
          36.7,
          35.1,
          37.3,
          41.3,
          36.3,
          36.9,
          38.3,
          38.9,
          35.7,
          41.1,
          34,
          39.6,
          36.2,
          40.8,
          38.1,
          40.3,
          33.1,
          43.2,
          35,
          41,
          37.7,
          37.8,
          37.9,
          39.7,
          38.6,
          38.2,
          38.1,
          43.2,
          38.1,
          45.6,
          39.7,
          42.2,
          39.6,
          42.7,
          38.6,
          37.3,
          35.7,
          41.1,
          36.2,
          37.7,
          40.2,
          41.4,
          35.2,
          40.6,
          38.8,
          41.5,
          39,
          44.1,
          38.5,
          43.1,
          36.8,
          37.5,
          38.1,
          41.1,
          35.6,
          40.2,
          37,
          39.7,
          40.2,
          40.6,
          32.1,
          40.7,
          37.3,
          39,
          39.2,
          36.6,
          36,
          37.8,
          36,
          41.5
         ],
         "xaxis": "x",
         "y": [
          181,
          186,
          195,
          200.91520467836256,
          193,
          190,
          181,
          195,
          193,
          190,
          186,
          180,
          182,
          191,
          198,
          185,
          195,
          197,
          184,
          194,
          174,
          180,
          189,
          185,
          180,
          187,
          183,
          187,
          172,
          180,
          178,
          178,
          188,
          184,
          195,
          196,
          190,
          180,
          181,
          184,
          182,
          195,
          186,
          196,
          185,
          190,
          182,
          179,
          190,
          191,
          186,
          188,
          190,
          200,
          187,
          191,
          186,
          193,
          181,
          194,
          185,
          195,
          185,
          192,
          184,
          192,
          195,
          188,
          190,
          198,
          190,
          190,
          196,
          197,
          190,
          195,
          191,
          184,
          187,
          195,
          189,
          196,
          187,
          193,
          191,
          194,
          190,
          189,
          189,
          190,
          202,
          205,
          185,
          186,
          187,
          208,
          190,
          196,
          178,
          192,
          192,
          203,
          183,
          190,
          193,
          184,
          199,
          190,
          181,
          197,
          198,
          191,
          193,
          197,
          191,
          196,
          188,
          199,
          189,
          189,
          187,
          198,
          176,
          202,
          186,
          199,
          191,
          195,
          191,
          210,
          190,
          197,
          193,
          199,
          187,
          190,
          191,
          200,
          185,
          193,
          193,
          187,
          188,
          190,
          192,
          185,
          190,
          184,
          195,
          193,
          187,
          201
         ],
         "yaxis": "y"
        },
        {
         "hovertemplate": "species=Chinstrap<br>culmen_length_mm=%{x}<br>flipper_length_mm=%{y}<extra></extra>",
         "legendgroup": "Chinstrap",
         "marker": {
          "color": "#FF7F0E",
          "symbol": "circle"
         },
         "mode": "markers",
         "name": "Chinstrap",
         "orientation": "v",
         "showlegend": true,
         "type": "scatter",
         "x": [
          46.5,
          50,
          51.3,
          45.4,
          52.7,
          45.2,
          46.1,
          51.3,
          46,
          51.3,
          46.6,
          51.7,
          47,
          52,
          45.9,
          50.5,
          50.3,
          58,
          46.4,
          49.2,
          42.4,
          48.5,
          43.2,
          50.6,
          46.7,
          52,
          50.5,
          49.5,
          46.4,
          52.8,
          40.9,
          54.2,
          42.5,
          51,
          49.7,
          47.5,
          47.6,
          52,
          46.9,
          53.5,
          49,
          46.2,
          50.9,
          45.5,
          50.9,
          50.8,
          50.1,
          49,
          51.5,
          49.8,
          48.1,
          51.4,
          45.7,
          50.7,
          42.5,
          52.2,
          45.2,
          49.3,
          50.2,
          45.6,
          51.9,
          46.8,
          45.7,
          55.8,
          43.5,
          49.6,
          50.8,
          50.2
         ],
         "xaxis": "x",
         "y": [
          192,
          196,
          193,
          188,
          197,
          198,
          178,
          197,
          195,
          198,
          193,
          194,
          185,
          201,
          190,
          201,
          197,
          181,
          190,
          195,
          181,
          191,
          187,
          193,
          195,
          197,
          200,
          200,
          191,
          205,
          187,
          201,
          187,
          203,
          195,
          199,
          195,
          210,
          192,
          205,
          210,
          187,
          196,
          196,
          196,
          201,
          190,
          212,
          187,
          198,
          199,
          201,
          193,
          203,
          187,
          197,
          191,
          203,
          202,
          194,
          206,
          189,
          195,
          207,
          202,
          193,
          210,
          198
         ],
         "yaxis": "y"
        },
        {
         "hovertemplate": "species=Gentoo<br>culmen_length_mm=%{x}<br>flipper_length_mm=%{y}<extra></extra>",
         "legendgroup": "Gentoo",
         "marker": {
          "color": "#2CA02C",
          "symbol": "circle"
         },
         "mode": "markers",
         "name": "Gentoo",
         "orientation": "v",
         "showlegend": true,
         "type": "scatter",
         "x": [
          46.1,
          50,
          48.7,
          50,
          47.6,
          46.5,
          45.4,
          46.7,
          43.3,
          46.8,
          40.9,
          49,
          45.5,
          48.4,
          45.8,
          49.3,
          42,
          49.2,
          46.2,
          48.7,
          50.2,
          45.1,
          46.5,
          46.3,
          42.9,
          46.1,
          44.5,
          47.8,
          48.2,
          50,
          47.3,
          42.8,
          45.1,
          59.6,
          49.1,
          48.4,
          42.6,
          44.4,
          44,
          48.7,
          42.7,
          49.6,
          45.3,
          49.6,
          50.5,
          43.6,
          45.5,
          50.5,
          44.9,
          45.2,
          46.6,
          48.5,
          45.1,
          50.1,
          46.5,
          45,
          43.8,
          45.5,
          43.2,
          50.4,
          45.3,
          46.2,
          45.7,
          54.3,
          45.8,
          49.8,
          46.2,
          49.5,
          43.5,
          50.7,
          47.7,
          46.4,
          48.2,
          46.5,
          46.4,
          48.6,
          47.5,
          51.1,
          45.2,
          45.2,
          49.1,
          52.5,
          47.4,
          50,
          44.9,
          50.8,
          43.4,
          51.3,
          47.5,
          52.1,
          47.5,
          52.2,
          45.5,
          49.5,
          44.5,
          50.8,
          49.4,
          46.9,
          48.4,
          51.1,
          48.5,
          55.9,
          47.2,
          49.1,
          47.3,
          46.8,
          41.7,
          53.4,
          43.3,
          48.1,
          50.5,
          49.8,
          43.5,
          51.5,
          46.2,
          55.1,
          44.5,
          48.8,
          47.2,
          43.92192982456142,
          46.8,
          50.4,
          45.2,
          49.9
         ],
         "xaxis": "x",
         "y": [
          211,
          230,
          210,
          218,
          215,
          210,
          211,
          219,
          209,
          215,
          214,
          216,
          214,
          213,
          210,
          217,
          210,
          221,
          209,
          222,
          218,
          215,
          213,
          215,
          215,
          215,
          216,
          215,
          210,
          220,
          222,
          209,
          207,
          230,
          220,
          220,
          213,
          219,
          208,
          208,
          208,
          225,
          210,
          216,
          222,
          217,
          210,
          225,
          213,
          215,
          210,
          220,
          210,
          225,
          217,
          220,
          208,
          220,
          208,
          224,
          208,
          221,
          214,
          231,
          219,
          230,
          214,
          229,
          220,
          223,
          216,
          221,
          221,
          217,
          216,
          230,
          209,
          220,
          215,
          223,
          212,
          221,
          212,
          224,
          212,
          228,
          218,
          218,
          212,
          230,
          218,
          228,
          212,
          224,
          214,
          226,
          216,
          222,
          203,
          225,
          219,
          228,
          215,
          228,
          216,
          215,
          210,
          219,
          208,
          209,
          216,
          229,
          213,
          230,
          217,
          230,
          217,
          222,
          214,
          200.91520467836256,
          215,
          222,
          212,
          213
         ],
         "yaxis": "y"
        }
       ],
       "layout": {
        "legend": {
         "title": {
          "text": "species"
         },
         "tracegroupgap": 0
        },
        "margin": {
         "t": 60
        },
        "template": {
         "data": {
          "bar": [
           {
            "error_x": {
             "color": "rgb(36,36,36)"
            },
            "error_y": {
             "color": "rgb(36,36,36)"
            },
            "marker": {
             "line": {
              "color": "white",
              "width": 0.5
             },
             "pattern": {
              "fillmode": "overlay",
              "size": 10,
              "solidity": 0.2
             }
            },
            "type": "bar"
           }
          ],
          "barpolar": [
           {
            "marker": {
             "line": {
              "color": "white",
              "width": 0.5
             },
             "pattern": {
              "fillmode": "overlay",
              "size": 10,
              "solidity": 0.2
             }
            },
            "type": "barpolar"
           }
          ],
          "carpet": [
           {
            "aaxis": {
             "endlinecolor": "rgb(36,36,36)",
             "gridcolor": "white",
             "linecolor": "white",
             "minorgridcolor": "white",
             "startlinecolor": "rgb(36,36,36)"
            },
            "baxis": {
             "endlinecolor": "rgb(36,36,36)",
             "gridcolor": "white",
             "linecolor": "white",
             "minorgridcolor": "white",
             "startlinecolor": "rgb(36,36,36)"
            },
            "type": "carpet"
           }
          ],
          "choropleth": [
           {
            "colorbar": {
             "outlinewidth": 1,
             "tickcolor": "rgb(36,36,36)",
             "ticks": "outside"
            },
            "type": "choropleth"
           }
          ],
          "contour": [
           {
            "colorbar": {
             "outlinewidth": 1,
             "tickcolor": "rgb(36,36,36)",
             "ticks": "outside"
            },
            "colorscale": [
             [
              0,
              "#440154"
             ],
             [
              0.1111111111111111,
              "#482878"
             ],
             [
              0.2222222222222222,
              "#3e4989"
             ],
             [
              0.3333333333333333,
              "#31688e"
             ],
             [
              0.4444444444444444,
              "#26828e"
             ],
             [
              0.5555555555555556,
              "#1f9e89"
             ],
             [
              0.6666666666666666,
              "#35b779"
             ],
             [
              0.7777777777777778,
              "#6ece58"
             ],
             [
              0.8888888888888888,
              "#b5de2b"
             ],
             [
              1,
              "#fde725"
             ]
            ],
            "type": "contour"
           }
          ],
          "contourcarpet": [
           {
            "colorbar": {
             "outlinewidth": 1,
             "tickcolor": "rgb(36,36,36)",
             "ticks": "outside"
            },
            "type": "contourcarpet"
           }
          ],
          "heatmap": [
           {
            "colorbar": {
             "outlinewidth": 1,
             "tickcolor": "rgb(36,36,36)",
             "ticks": "outside"
            },
            "colorscale": [
             [
              0,
              "#440154"
             ],
             [
              0.1111111111111111,
              "#482878"
             ],
             [
              0.2222222222222222,
              "#3e4989"
             ],
             [
              0.3333333333333333,
              "#31688e"
             ],
             [
              0.4444444444444444,
              "#26828e"
             ],
             [
              0.5555555555555556,
              "#1f9e89"
             ],
             [
              0.6666666666666666,
              "#35b779"
             ],
             [
              0.7777777777777778,
              "#6ece58"
             ],
             [
              0.8888888888888888,
              "#b5de2b"
             ],
             [
              1,
              "#fde725"
             ]
            ],
            "type": "heatmap"
           }
          ],
          "heatmapgl": [
           {
            "colorbar": {
             "outlinewidth": 1,
             "tickcolor": "rgb(36,36,36)",
             "ticks": "outside"
            },
            "colorscale": [
             [
              0,
              "#440154"
             ],
             [
              0.1111111111111111,
              "#482878"
             ],
             [
              0.2222222222222222,
              "#3e4989"
             ],
             [
              0.3333333333333333,
              "#31688e"
             ],
             [
              0.4444444444444444,
              "#26828e"
             ],
             [
              0.5555555555555556,
              "#1f9e89"
             ],
             [
              0.6666666666666666,
              "#35b779"
             ],
             [
              0.7777777777777778,
              "#6ece58"
             ],
             [
              0.8888888888888888,
              "#b5de2b"
             ],
             [
              1,
              "#fde725"
             ]
            ],
            "type": "heatmapgl"
           }
          ],
          "histogram": [
           {
            "marker": {
             "line": {
              "color": "white",
              "width": 0.6
             }
            },
            "type": "histogram"
           }
          ],
          "histogram2d": [
           {
            "colorbar": {
             "outlinewidth": 1,
             "tickcolor": "rgb(36,36,36)",
             "ticks": "outside"
            },
            "colorscale": [
             [
              0,
              "#440154"
             ],
             [
              0.1111111111111111,
              "#482878"
             ],
             [
              0.2222222222222222,
              "#3e4989"
             ],
             [
              0.3333333333333333,
              "#31688e"
             ],
             [
              0.4444444444444444,
              "#26828e"
             ],
             [
              0.5555555555555556,
              "#1f9e89"
             ],
             [
              0.6666666666666666,
              "#35b779"
             ],
             [
              0.7777777777777778,
              "#6ece58"
             ],
             [
              0.8888888888888888,
              "#b5de2b"
             ],
             [
              1,
              "#fde725"
             ]
            ],
            "type": "histogram2d"
           }
          ],
          "histogram2dcontour": [
           {
            "colorbar": {
             "outlinewidth": 1,
             "tickcolor": "rgb(36,36,36)",
             "ticks": "outside"
            },
            "colorscale": [
             [
              0,
              "#440154"
             ],
             [
              0.1111111111111111,
              "#482878"
             ],
             [
              0.2222222222222222,
              "#3e4989"
             ],
             [
              0.3333333333333333,
              "#31688e"
             ],
             [
              0.4444444444444444,
              "#26828e"
             ],
             [
              0.5555555555555556,
              "#1f9e89"
             ],
             [
              0.6666666666666666,
              "#35b779"
             ],
             [
              0.7777777777777778,
              "#6ece58"
             ],
             [
              0.8888888888888888,
              "#b5de2b"
             ],
             [
              1,
              "#fde725"
             ]
            ],
            "type": "histogram2dcontour"
           }
          ],
          "mesh3d": [
           {
            "colorbar": {
             "outlinewidth": 1,
             "tickcolor": "rgb(36,36,36)",
             "ticks": "outside"
            },
            "type": "mesh3d"
           }
          ],
          "parcoords": [
           {
            "line": {
             "colorbar": {
              "outlinewidth": 1,
              "tickcolor": "rgb(36,36,36)",
              "ticks": "outside"
             }
            },
            "type": "parcoords"
           }
          ],
          "pie": [
           {
            "automargin": true,
            "type": "pie"
           }
          ],
          "scatter": [
           {
            "fillpattern": {
             "fillmode": "overlay",
             "size": 10,
             "solidity": 0.2
            },
            "type": "scatter"
           }
          ],
          "scatter3d": [
           {
            "line": {
             "colorbar": {
              "outlinewidth": 1,
              "tickcolor": "rgb(36,36,36)",
              "ticks": "outside"
             }
            },
            "marker": {
             "colorbar": {
              "outlinewidth": 1,
              "tickcolor": "rgb(36,36,36)",
              "ticks": "outside"
             }
            },
            "type": "scatter3d"
           }
          ],
          "scattercarpet": [
           {
            "marker": {
             "colorbar": {
              "outlinewidth": 1,
              "tickcolor": "rgb(36,36,36)",
              "ticks": "outside"
             }
            },
            "type": "scattercarpet"
           }
          ],
          "scattergeo": [
           {
            "marker": {
             "colorbar": {
              "outlinewidth": 1,
              "tickcolor": "rgb(36,36,36)",
              "ticks": "outside"
             }
            },
            "type": "scattergeo"
           }
          ],
          "scattergl": [
           {
            "marker": {
             "colorbar": {
              "outlinewidth": 1,
              "tickcolor": "rgb(36,36,36)",
              "ticks": "outside"
             }
            },
            "type": "scattergl"
           }
          ],
          "scattermapbox": [
           {
            "marker": {
             "colorbar": {
              "outlinewidth": 1,
              "tickcolor": "rgb(36,36,36)",
              "ticks": "outside"
             }
            },
            "type": "scattermapbox"
           }
          ],
          "scatterpolar": [
           {
            "marker": {
             "colorbar": {
              "outlinewidth": 1,
              "tickcolor": "rgb(36,36,36)",
              "ticks": "outside"
             }
            },
            "type": "scatterpolar"
           }
          ],
          "scatterpolargl": [
           {
            "marker": {
             "colorbar": {
              "outlinewidth": 1,
              "tickcolor": "rgb(36,36,36)",
              "ticks": "outside"
             }
            },
            "type": "scatterpolargl"
           }
          ],
          "scatterternary": [
           {
            "marker": {
             "colorbar": {
              "outlinewidth": 1,
              "tickcolor": "rgb(36,36,36)",
              "ticks": "outside"
             }
            },
            "type": "scatterternary"
           }
          ],
          "surface": [
           {
            "colorbar": {
             "outlinewidth": 1,
             "tickcolor": "rgb(36,36,36)",
             "ticks": "outside"
            },
            "colorscale": [
             [
              0,
              "#440154"
             ],
             [
              0.1111111111111111,
              "#482878"
             ],
             [
              0.2222222222222222,
              "#3e4989"
             ],
             [
              0.3333333333333333,
              "#31688e"
             ],
             [
              0.4444444444444444,
              "#26828e"
             ],
             [
              0.5555555555555556,
              "#1f9e89"
             ],
             [
              0.6666666666666666,
              "#35b779"
             ],
             [
              0.7777777777777778,
              "#6ece58"
             ],
             [
              0.8888888888888888,
              "#b5de2b"
             ],
             [
              1,
              "#fde725"
             ]
            ],
            "type": "surface"
           }
          ],
          "table": [
           {
            "cells": {
             "fill": {
              "color": "rgb(237,237,237)"
             },
             "line": {
              "color": "white"
             }
            },
            "header": {
             "fill": {
              "color": "rgb(217,217,217)"
             },
             "line": {
              "color": "white"
             }
            },
            "type": "table"
           }
          ]
         },
         "layout": {
          "annotationdefaults": {
           "arrowhead": 0,
           "arrowwidth": 1
          },
          "autotypenumbers": "strict",
          "coloraxis": {
           "colorbar": {
            "outlinewidth": 1,
            "tickcolor": "rgb(36,36,36)",
            "ticks": "outside"
           }
          },
          "colorscale": {
           "diverging": [
            [
             0,
             "rgb(103,0,31)"
            ],
            [
             0.1,
             "rgb(178,24,43)"
            ],
            [
             0.2,
             "rgb(214,96,77)"
            ],
            [
             0.3,
             "rgb(244,165,130)"
            ],
            [
             0.4,
             "rgb(253,219,199)"
            ],
            [
             0.5,
             "rgb(247,247,247)"
            ],
            [
             0.6,
             "rgb(209,229,240)"
            ],
            [
             0.7,
             "rgb(146,197,222)"
            ],
            [
             0.8,
             "rgb(67,147,195)"
            ],
            [
             0.9,
             "rgb(33,102,172)"
            ],
            [
             1,
             "rgb(5,48,97)"
            ]
           ],
           "sequential": [
            [
             0,
             "#440154"
            ],
            [
             0.1111111111111111,
             "#482878"
            ],
            [
             0.2222222222222222,
             "#3e4989"
            ],
            [
             0.3333333333333333,
             "#31688e"
            ],
            [
             0.4444444444444444,
             "#26828e"
            ],
            [
             0.5555555555555556,
             "#1f9e89"
            ],
            [
             0.6666666666666666,
             "#35b779"
            ],
            [
             0.7777777777777778,
             "#6ece58"
            ],
            [
             0.8888888888888888,
             "#b5de2b"
            ],
            [
             1,
             "#fde725"
            ]
           ],
           "sequentialminus": [
            [
             0,
             "#440154"
            ],
            [
             0.1111111111111111,
             "#482878"
            ],
            [
             0.2222222222222222,
             "#3e4989"
            ],
            [
             0.3333333333333333,
             "#31688e"
            ],
            [
             0.4444444444444444,
             "#26828e"
            ],
            [
             0.5555555555555556,
             "#1f9e89"
            ],
            [
             0.6666666666666666,
             "#35b779"
            ],
            [
             0.7777777777777778,
             "#6ece58"
            ],
            [
             0.8888888888888888,
             "#b5de2b"
            ],
            [
             1,
             "#fde725"
            ]
           ]
          },
          "colorway": [
           "#1F77B4",
           "#FF7F0E",
           "#2CA02C",
           "#D62728",
           "#9467BD",
           "#8C564B",
           "#E377C2",
           "#7F7F7F",
           "#BCBD22",
           "#17BECF"
          ],
          "font": {
           "color": "rgb(36,36,36)"
          },
          "geo": {
           "bgcolor": "white",
           "lakecolor": "white",
           "landcolor": "white",
           "showlakes": true,
           "showland": true,
           "subunitcolor": "white"
          },
          "hoverlabel": {
           "align": "left"
          },
          "hovermode": "closest",
          "mapbox": {
           "style": "light"
          },
          "paper_bgcolor": "white",
          "plot_bgcolor": "white",
          "polar": {
           "angularaxis": {
            "gridcolor": "rgb(232,232,232)",
            "linecolor": "rgb(36,36,36)",
            "showgrid": false,
            "showline": true,
            "ticks": "outside"
           },
           "bgcolor": "white",
           "radialaxis": {
            "gridcolor": "rgb(232,232,232)",
            "linecolor": "rgb(36,36,36)",
            "showgrid": false,
            "showline": true,
            "ticks": "outside"
           }
          },
          "scene": {
           "xaxis": {
            "backgroundcolor": "white",
            "gridcolor": "rgb(232,232,232)",
            "gridwidth": 2,
            "linecolor": "rgb(36,36,36)",
            "showbackground": true,
            "showgrid": false,
            "showline": true,
            "ticks": "outside",
            "zeroline": false,
            "zerolinecolor": "rgb(36,36,36)"
           },
           "yaxis": {
            "backgroundcolor": "white",
            "gridcolor": "rgb(232,232,232)",
            "gridwidth": 2,
            "linecolor": "rgb(36,36,36)",
            "showbackground": true,
            "showgrid": false,
            "showline": true,
            "ticks": "outside",
            "zeroline": false,
            "zerolinecolor": "rgb(36,36,36)"
           },
           "zaxis": {
            "backgroundcolor": "white",
            "gridcolor": "rgb(232,232,232)",
            "gridwidth": 2,
            "linecolor": "rgb(36,36,36)",
            "showbackground": true,
            "showgrid": false,
            "showline": true,
            "ticks": "outside",
            "zeroline": false,
            "zerolinecolor": "rgb(36,36,36)"
           }
          },
          "shapedefaults": {
           "fillcolor": "black",
           "line": {
            "width": 0
           },
           "opacity": 0.3
          },
          "ternary": {
           "aaxis": {
            "gridcolor": "rgb(232,232,232)",
            "linecolor": "rgb(36,36,36)",
            "showgrid": false,
            "showline": true,
            "ticks": "outside"
           },
           "baxis": {
            "gridcolor": "rgb(232,232,232)",
            "linecolor": "rgb(36,36,36)",
            "showgrid": false,
            "showline": true,
            "ticks": "outside"
           },
           "bgcolor": "white",
           "caxis": {
            "gridcolor": "rgb(232,232,232)",
            "linecolor": "rgb(36,36,36)",
            "showgrid": false,
            "showline": true,
            "ticks": "outside"
           }
          },
          "title": {
           "x": 0.05
          },
          "xaxis": {
           "automargin": true,
           "gridcolor": "rgb(232,232,232)",
           "linecolor": "rgb(36,36,36)",
           "showgrid": false,
           "showline": true,
           "ticks": "outside",
           "title": {
            "standoff": 15
           },
           "zeroline": false,
           "zerolinecolor": "rgb(36,36,36)"
          },
          "yaxis": {
           "automargin": true,
           "gridcolor": "rgb(232,232,232)",
           "linecolor": "rgb(36,36,36)",
           "showgrid": false,
           "showline": true,
           "ticks": "outside",
           "title": {
            "standoff": 15
           },
           "zeroline": false,
           "zerolinecolor": "rgb(36,36,36)"
          }
         }
        },
        "xaxis": {
         "anchor": "y",
         "domain": [
          0,
          1
         ],
         "title": {
          "text": "culmen_length_mm"
         }
        },
        "yaxis": {
         "anchor": "x",
         "domain": [
          0,
          1
         ],
         "title": {
          "text": "flipper_length_mm"
         }
        }
       }
      }
     },
     "metadata": {},
     "output_type": "display_data"
    }
   ],
   "source": [
    "px.scatter(df, x='culmen_length_mm', y='flipper_length_mm', color='species', template='simple_white')"
   ]
  },
  {
   "cell_type": "code",
   "execution_count": 27,
   "metadata": {},
   "outputs": [
    {
     "data": {
      "application/vnd.plotly.v1+json": {
       "config": {
        "plotlyServerURL": "https://plot.ly"
       },
       "data": [
        {
         "alignmentgroup": "True",
         "box": {
          "visible": true
         },
         "customdata": [
          [
           "Torgersen",
           39.1,
           18.7,
           3750,
           "MALE"
          ],
          [
           "Torgersen",
           43.92192982456142,
           17.151169590643278,
           4201.754385964912,
           "MALE"
          ],
          [
           "Torgersen",
           39.3,
           20.6,
           3650,
           "MALE"
          ],
          [
           "Torgersen",
           39.2,
           19.6,
           4675,
           "MALE"
          ],
          [
           "Torgersen",
           34.1,
           18.1,
           3475,
           "MALE"
          ],
          [
           "Torgersen",
           42,
           20.2,
           4250,
           "MALE"
          ],
          [
           "Torgersen",
           37.8,
           17.1,
           3300,
           "MALE"
          ],
          [
           "Torgersen",
           37.8,
           17.3,
           3700,
           "MALE"
          ],
          [
           "Torgersen",
           38.6,
           21.2,
           3800,
           "MALE"
          ],
          [
           "Torgersen",
           34.6,
           21.1,
           4400,
           "MALE"
          ],
          [
           "Torgersen",
           42.5,
           20.7,
           4500,
           "MALE"
          ],
          [
           "Torgersen",
           46,
           21.5,
           4200,
           "MALE"
          ],
          [
           "Biscoe",
           37.7,
           18.7,
           3600,
           "MALE"
          ],
          [
           "Biscoe",
           38.2,
           18.1,
           3950,
           "MALE"
          ],
          [
           "Biscoe",
           38.8,
           17.2,
           3800,
           "MALE"
          ],
          [
           "Biscoe",
           40.6,
           18.6,
           3550,
           "MALE"
          ],
          [
           "Biscoe",
           40.5,
           18.9,
           3950,
           "MALE"
          ],
          [
           "Dream",
           37.2,
           18.1,
           3900,
           "MALE"
          ],
          [
           "Dream",
           40.9,
           18.9,
           3900,
           "MALE"
          ],
          [
           "Dream",
           39.2,
           21.1,
           4150,
           "MALE"
          ],
          [
           "Dream",
           38.8,
           20,
           3950,
           "MALE"
          ],
          [
           "Dream",
           39.8,
           19.1,
           4650,
           "MALE"
          ],
          [
           "Dream",
           40.8,
           18.4,
           3900,
           "MALE"
          ],
          [
           "Dream",
           44.1,
           19.7,
           4400,
           "MALE"
          ],
          [
           "Dream",
           39.6,
           18.8,
           4600,
           "MALE"
          ],
          [
           "Dream",
           41.1,
           19,
           3425,
           "MALE"
          ],
          [
           "Dream",
           37.5,
           18.9,
           2975,
           "MALE"
          ],
          [
           "Dream",
           42.3,
           21.2,
           4150,
           "MALE"
          ],
          [
           "Biscoe",
           40.1,
           18.9,
           4300,
           "MALE"
          ],
          [
           "Biscoe",
           42,
           19.5,
           4050,
           "MALE"
          ],
          [
           "Biscoe",
           41.4,
           18.6,
           3700,
           "MALE"
          ],
          [
           "Biscoe",
           40.6,
           18.8,
           3800,
           "MALE"
          ],
          [
           "Biscoe",
           37.6,
           19.1,
           3750,
           "MALE"
          ],
          [
           "Biscoe",
           41.3,
           21.1,
           4400,
           "MALE"
          ],
          [
           "Biscoe",
           41.1,
           18.2,
           4050,
           "MALE"
          ],
          [
           "Biscoe",
           41.6,
           18,
           3950,
           "MALE"
          ],
          [
           "Biscoe",
           41.1,
           19.1,
           4100,
           "MALE"
          ],
          [
           "Torgersen",
           41.8,
           19.4,
           4450,
           "MALE"
          ],
          [
           "Torgersen",
           39.7,
           18.4,
           3900,
           "MALE"
          ],
          [
           "Torgersen",
           45.8,
           18.9,
           4150,
           "MALE"
          ],
          [
           "Torgersen",
           42.8,
           18.5,
           4250,
           "MALE"
          ],
          [
           "Torgersen",
           37.2,
           19.4,
           3900,
           "MALE"
          ],
          [
           "Torgersen",
           42.1,
           19.1,
           4000,
           "MALE"
          ],
          [
           "Torgersen",
           42.9,
           17.6,
           4700,
           "MALE"
          ],
          [
           "Torgersen",
           35.1,
           19.4,
           4200,
           "MALE"
          ],
          [
           "Dream",
           41.3,
           20.3,
           3550,
           "MALE"
          ],
          [
           "Dream",
           36.3,
           19.5,
           3800,
           "MALE"
          ],
          [
           "Dream",
           38.3,
           19.2,
           3950,
           "MALE"
          ],
          [
           "Dream",
           41.1,
           18.1,
           4300,
           "MALE"
          ],
          [
           "Dream",
           39.6,
           18.1,
           4450,
           "MALE"
          ],
          [
           "Dream",
           40.8,
           18.9,
           4300,
           "MALE"
          ],
          [
           "Dream",
           40.3,
           18.5,
           4350,
           "MALE"
          ],
          [
           "Dream",
           43.2,
           18.5,
           4100,
           "MALE"
          ],
          [
           "Biscoe",
           41,
           20,
           4725,
           "MALE"
          ],
          [
           "Biscoe",
           37.8,
           20,
           4250,
           "MALE"
          ],
          [
           "Biscoe",
           39.7,
           18.9,
           3550,
           "MALE"
          ],
          [
           "Biscoe",
           38.2,
           20,
           3900,
           "MALE"
          ],
          [
           "Biscoe",
           43.2,
           19,
           4775,
           "MALE"
          ],
          [
           "Biscoe",
           45.6,
           20.3,
           4600,
           "MALE"
          ],
          [
           "Biscoe",
           42.2,
           19.5,
           4275,
           "MALE"
          ],
          [
           "Biscoe",
           42.7,
           18.3,
           4075,
           "MALE"
          ],
          [
           "Torgersen",
           37.3,
           20.5,
           3775,
           "MALE"
          ],
          [
           "Torgersen",
           41.1,
           18.6,
           3325,
           "MALE"
          ],
          [
           "Torgersen",
           37.7,
           19.8,
           3500,
           "MALE"
          ],
          [
           "Torgersen",
           41.4,
           18.5,
           3875,
           "MALE"
          ],
          [
           "Torgersen",
           40.6,
           19,
           4000,
           "MALE"
          ],
          [
           "Torgersen",
           41.5,
           18.3,
           4300,
           "MALE"
          ],
          [
           "Torgersen",
           44.1,
           18,
           4000,
           "MALE"
          ],
          [
           "Torgersen",
           43.1,
           19.2,
           3500,
           "MALE"
          ],
          [
           "Dream",
           37.5,
           18.5,
           4475,
           "MALE"
          ],
          [
           "Dream",
           41.1,
           17.5,
           3900,
           "MALE"
          ],
          [
           "Dream",
           40.2,
           20.1,
           3975,
           "MALE"
          ],
          [
           "Dream",
           39.7,
           17.9,
           4250,
           "MALE"
          ],
          [
           "Dream",
           40.6,
           17.2,
           3475,
           "MALE"
          ],
          [
           "Dream",
           40.7,
           17,
           3725,
           "MALE"
          ],
          [
           "Dream",
           39,
           18.7,
           3650,
           "MALE"
          ],
          [
           "Dream",
           39.2,
           18.6,
           4250,
           "MALE"
          ],
          [
           "Dream",
           37.8,
           18.1,
           3750,
           "MALE"
          ],
          [
           "Dream",
           41.5,
           18.5,
           4000,
           "MALE"
          ],
          [
           "Dream",
           50,
           19.5,
           3900,
           "MALE"
          ],
          [
           "Dream",
           51.3,
           19.2,
           3650,
           "MALE"
          ],
          [
           "Dream",
           52.7,
           19.8,
           3725,
           "MALE"
          ],
          [
           "Dream",
           51.3,
           18.2,
           3750,
           "MALE"
          ],
          [
           "Dream",
           51.3,
           19.9,
           3700,
           "MALE"
          ],
          [
           "Dream",
           51.7,
           20.3,
           3775,
           "MALE"
          ],
          [
           "Dream",
           52,
           18.1,
           4050,
           "MALE"
          ],
          [
           "Dream",
           50.5,
           19.6,
           4050,
           "MALE"
          ],
          [
           "Dream",
           50.3,
           20,
           3300,
           "MALE"
          ],
          [
           "Dream",
           49.2,
           18.2,
           4400,
           "MALE"
          ],
          [
           "Dream",
           48.5,
           17.5,
           3400,
           "MALE"
          ],
          [
           "Dream",
           50.6,
           19.4,
           3800,
           "MALE"
          ],
          [
           "Dream",
           52,
           19,
           4150,
           "MALE"
          ],
          [
           "Dream",
           49.5,
           19,
           3800,
           "MALE"
          ],
          [
           "Dream",
           52.8,
           20,
           4550,
           "MALE"
          ],
          [
           "Dream",
           54.2,
           20.8,
           4300,
           "MALE"
          ],
          [
           "Dream",
           51,
           18.8,
           4100,
           "MALE"
          ],
          [
           "Dream",
           49.7,
           18.6,
           3600,
           "MALE"
          ],
          [
           "Dream",
           52,
           20.7,
           4800,
           "MALE"
          ],
          [
           "Dream",
           53.5,
           19.9,
           4500,
           "MALE"
          ],
          [
           "Dream",
           49,
           19.5,
           3950,
           "MALE"
          ],
          [
           "Dream",
           50.9,
           19.1,
           3550,
           "MALE"
          ],
          [
           "Dream",
           50.8,
           18.5,
           4450,
           "MALE"
          ],
          [
           "Dream",
           49,
           19.6,
           4300,
           "MALE"
          ],
          [
           "Dream",
           51.5,
           18.7,
           3250,
           "MALE"
          ],
          [
           "Dream",
           51.4,
           19,
           3950,
           "MALE"
          ],
          [
           "Dream",
           50.7,
           19.7,
           4050,
           "MALE"
          ],
          [
           "Dream",
           52.2,
           18.8,
           3450,
           "MALE"
          ],
          [
           "Dream",
           49.3,
           19.9,
           4050,
           "MALE"
          ],
          [
           "Dream",
           50.2,
           18.8,
           3800,
           "MALE"
          ],
          [
           "Dream",
           51.9,
           19.5,
           3950,
           "MALE"
          ],
          [
           "Dream",
           55.8,
           19.8,
           4000,
           "MALE"
          ],
          [
           "Dream",
           49.6,
           18.2,
           3775,
           "MALE"
          ],
          [
           "Dream",
           50.8,
           19,
           4100,
           "MALE"
          ],
          [
           "Biscoe",
           50,
           16.3,
           5700,
           "MALE"
          ],
          [
           "Biscoe",
           50,
           15.2,
           5700,
           "MALE"
          ],
          [
           "Biscoe",
           47.6,
           14.5,
           5400,
           "MALE"
          ],
          [
           "Biscoe",
           46.7,
           15.3,
           5200,
           "MALE"
          ],
          [
           "Biscoe",
           46.8,
           15.4,
           5150,
           "MALE"
          ],
          [
           "Biscoe",
           49,
           16.1,
           5550,
           "MALE"
          ],
          [
           "Biscoe",
           48.4,
           14.6,
           5850,
           "MALE"
          ],
          [
           "Biscoe",
           49.3,
           15.7,
           5850,
           "MALE"
          ],
          [
           "Biscoe",
           49.2,
           15.2,
           6300,
           "MALE"
          ],
          [
           "Biscoe",
           48.7,
           15.1,
           5350,
           "MALE"
          ],
          [
           "Biscoe",
           50.2,
           14.3,
           5700,
           "MALE"
          ],
          [
           "Biscoe",
           46.3,
           15.8,
           5050,
           "MALE"
          ],
          [
           "Biscoe",
           46.1,
           15.1,
           5100,
           "MALE"
          ],
          [
           "Biscoe",
           44.5,
           14.3,
           4100,
           "MALE"
          ],
          [
           "Biscoe",
           47.8,
           15,
           5650,
           "MALE"
          ],
          [
           "Biscoe",
           50,
           15.3,
           5550,
           "MALE"
          ],
          [
           "Biscoe",
           47.3,
           15.3,
           5250,
           "MALE"
          ],
          [
           "Biscoe",
           59.6,
           17,
           6050,
           "MALE"
          ],
          [
           "Biscoe",
           48.4,
           16.3,
           5400,
           "MALE"
          ],
          [
           "Biscoe",
           44.4,
           17.3,
           5250,
           "MALE"
          ],
          [
           "Biscoe",
           48.7,
           15.7,
           5350,
           "MALE"
          ],
          [
           "Biscoe",
           49.6,
           16,
           5700,
           "MALE"
          ],
          [
           "Biscoe",
           49.6,
           15,
           4750,
           "MALE"
          ],
          [
           "Biscoe",
           50.5,
           15.9,
           5550,
           "MALE"
          ],
          [
           "Biscoe",
           50.5,
           15.9,
           5400,
           "MALE"
          ],
          [
           "Biscoe",
           45.2,
           15.8,
           5300,
           "MALE"
          ],
          [
           "Biscoe",
           48.5,
           14.1,
           5300,
           "MALE"
          ],
          [
           "Biscoe",
           50.1,
           15,
           5000,
           "MALE"
          ],
          [
           "Biscoe",
           45,
           15.4,
           5050,
           "MALE"
          ],
          [
           "Biscoe",
           45.5,
           15,
           5000,
           "MALE"
          ],
          [
           "Biscoe",
           50.4,
           15.3,
           5550,
           "MALE"
          ],
          [
           "Biscoe",
           46.2,
           14.9,
           5300,
           "MALE"
          ],
          [
           "Biscoe",
           54.3,
           15.7,
           5650,
           "MALE"
          ],
          [
           "Biscoe",
           49.8,
           16.8,
           5700,
           "MALE"
          ],
          [
           "Biscoe",
           46.2,
           14.4,
           4650,
           "MALE"
          ],
          [
           "Biscoe",
           49.5,
           16.2,
           5800,
           "MALE"
          ],
          [
           "Biscoe",
           50.7,
           15,
           5550,
           "MALE"
          ],
          [
           "Biscoe",
           46.4,
           15.6,
           5000,
           "MALE"
          ],
          [
           "Biscoe",
           48.2,
           15.6,
           5100,
           "MALE"
          ],
          [
           "Biscoe",
           48.6,
           16,
           5800,
           "MALE"
          ],
          [
           "Biscoe",
           51.1,
           16.3,
           6000,
           "MALE"
          ],
          [
           "Biscoe",
           45.2,
           16.4,
           5950,
           "MALE"
          ],
          [
           "Biscoe",
           52.5,
           15.6,
           5450,
           "MALE"
          ],
          [
           "Biscoe",
           50,
           15.9,
           5350,
           "MALE"
          ],
          [
           "Biscoe",
           50.8,
           17.3,
           5600,
           "MALE"
          ],
          [
           "Biscoe",
           51.3,
           14.2,
           5300,
           "MALE"
          ],
          [
           "Biscoe",
           52.1,
           17,
           5550,
           "MALE"
          ],
          [
           "Biscoe",
           52.2,
           17.1,
           5400,
           "MALE"
          ],
          [
           "Biscoe",
           49.5,
           16.1,
           5650,
           "MALE"
          ],
          [
           "Biscoe",
           50.8,
           15.7,
           5200,
           "MALE"
          ],
          [
           "Biscoe",
           49.4,
           15.8,
           4925,
           "MALE"
          ],
          [
           "Biscoe",
           51.1,
           16.5,
           5250,
           "MALE"
          ],
          [
           "Biscoe",
           55.9,
           17,
           5600,
           "MALE"
          ],
          [
           "Biscoe",
           49.1,
           15,
           5500,
           "MALE"
          ],
          [
           "Biscoe",
           47.3,
           13.8,
           4725,
           "MALE"
          ],
          [
           "Biscoe",
           46.8,
           16.1,
           5500,
           "MALE"
          ],
          [
           "Biscoe",
           53.4,
           15.8,
           5500,
           "MALE"
          ],
          [
           "Biscoe",
           48.1,
           15.1,
           5500,
           "MALE"
          ],
          [
           "Biscoe",
           49.8,
           15.9,
           5950,
           "MALE"
          ],
          [
           "Biscoe",
           51.5,
           16.3,
           5500,
           "MALE"
          ],
          [
           "Biscoe",
           55.1,
           16,
           5850,
           "MALE"
          ],
          [
           "Biscoe",
           48.8,
           16.2,
           6000,
           "MALE"
          ],
          [
           "Biscoe",
           43.92192982456142,
           17.151169590643278,
           4201.754385964912,
           "MALE"
          ],
          [
           "Biscoe",
           50.4,
           15.7,
           5750,
           "MALE"
          ],
          [
           "Biscoe",
           49.9,
           16.1,
           5400,
           "MALE"
          ]
         ],
         "hovertemplate": "sex=%{customdata[4]}<br>species=%{x}<br>flipper_length_mm=%{y}<br>island=%{customdata[0]}<br>culmen_length_mm=%{customdata[1]}<br>culmen_depth_mm=%{customdata[2]}<br>body_mass_g=%{customdata[3]}<extra></extra>",
         "legendgroup": "MALE",
         "marker": {
          "color": "#1F77B4"
         },
         "name": "MALE",
         "offsetgroup": "MALE",
         "orientation": "v",
         "scalegroup": "True",
         "showlegend": true,
         "type": "violin",
         "x": [
          "Adelie",
          "Adelie",
          "Adelie",
          "Adelie",
          "Adelie",
          "Adelie",
          "Adelie",
          "Adelie",
          "Adelie",
          "Adelie",
          "Adelie",
          "Adelie",
          "Adelie",
          "Adelie",
          "Adelie",
          "Adelie",
          "Adelie",
          "Adelie",
          "Adelie",
          "Adelie",
          "Adelie",
          "Adelie",
          "Adelie",
          "Adelie",
          "Adelie",
          "Adelie",
          "Adelie",
          "Adelie",
          "Adelie",
          "Adelie",
          "Adelie",
          "Adelie",
          "Adelie",
          "Adelie",
          "Adelie",
          "Adelie",
          "Adelie",
          "Adelie",
          "Adelie",
          "Adelie",
          "Adelie",
          "Adelie",
          "Adelie",
          "Adelie",
          "Adelie",
          "Adelie",
          "Adelie",
          "Adelie",
          "Adelie",
          "Adelie",
          "Adelie",
          "Adelie",
          "Adelie",
          "Adelie",
          "Adelie",
          "Adelie",
          "Adelie",
          "Adelie",
          "Adelie",
          "Adelie",
          "Adelie",
          "Adelie",
          "Adelie",
          "Adelie",
          "Adelie",
          "Adelie",
          "Adelie",
          "Adelie",
          "Adelie",
          "Adelie",
          "Adelie",
          "Adelie",
          "Adelie",
          "Adelie",
          "Adelie",
          "Adelie",
          "Adelie",
          "Adelie",
          "Adelie",
          "Chinstrap",
          "Chinstrap",
          "Chinstrap",
          "Chinstrap",
          "Chinstrap",
          "Chinstrap",
          "Chinstrap",
          "Chinstrap",
          "Chinstrap",
          "Chinstrap",
          "Chinstrap",
          "Chinstrap",
          "Chinstrap",
          "Chinstrap",
          "Chinstrap",
          "Chinstrap",
          "Chinstrap",
          "Chinstrap",
          "Chinstrap",
          "Chinstrap",
          "Chinstrap",
          "Chinstrap",
          "Chinstrap",
          "Chinstrap",
          "Chinstrap",
          "Chinstrap",
          "Chinstrap",
          "Chinstrap",
          "Chinstrap",
          "Chinstrap",
          "Chinstrap",
          "Chinstrap",
          "Chinstrap",
          "Chinstrap",
          "Gentoo",
          "Gentoo",
          "Gentoo",
          "Gentoo",
          "Gentoo",
          "Gentoo",
          "Gentoo",
          "Gentoo",
          "Gentoo",
          "Gentoo",
          "Gentoo",
          "Gentoo",
          "Gentoo",
          "Gentoo",
          "Gentoo",
          "Gentoo",
          "Gentoo",
          "Gentoo",
          "Gentoo",
          "Gentoo",
          "Gentoo",
          "Gentoo",
          "Gentoo",
          "Gentoo",
          "Gentoo",
          "Gentoo",
          "Gentoo",
          "Gentoo",
          "Gentoo",
          "Gentoo",
          "Gentoo",
          "Gentoo",
          "Gentoo",
          "Gentoo",
          "Gentoo",
          "Gentoo",
          "Gentoo",
          "Gentoo",
          "Gentoo",
          "Gentoo",
          "Gentoo",
          "Gentoo",
          "Gentoo",
          "Gentoo",
          "Gentoo",
          "Gentoo",
          "Gentoo",
          "Gentoo",
          "Gentoo",
          "Gentoo",
          "Gentoo",
          "Gentoo",
          "Gentoo",
          "Gentoo",
          "Gentoo",
          "Gentoo",
          "Gentoo",
          "Gentoo",
          "Gentoo",
          "Gentoo",
          "Gentoo",
          "Gentoo",
          "Gentoo",
          "Gentoo",
          "Gentoo"
         ],
         "x0": " ",
         "xaxis": "x",
         "y": [
          181,
          200.91520467836256,
          190,
          195,
          193,
          190,
          186,
          180,
          191,
          198,
          197,
          194,
          180,
          185,
          180,
          183,
          180,
          178,
          184,
          196,
          190,
          184,
          195,
          196,
          190,
          182,
          179,
          191,
          188,
          200,
          191,
          193,
          194,
          195,
          192,
          192,
          188,
          198,
          190,
          197,
          195,
          184,
          195,
          196,
          193,
          194,
          190,
          189,
          205,
          186,
          208,
          196,
          192,
          203,
          190,
          184,
          190,
          197,
          191,
          197,
          196,
          199,
          189,
          198,
          202,
          199,
          195,
          210,
          197,
          199,
          190,
          200,
          193,
          187,
          190,
          185,
          190,
          193,
          201,
          196,
          193,
          197,
          197,
          198,
          194,
          201,
          201,
          197,
          195,
          191,
          193,
          197,
          200,
          205,
          201,
          203,
          195,
          210,
          205,
          210,
          196,
          201,
          212,
          187,
          201,
          203,
          197,
          203,
          202,
          206,
          207,
          193,
          210,
          230,
          218,
          215,
          219,
          215,
          216,
          213,
          217,
          221,
          222,
          218,
          215,
          215,
          216,
          215,
          220,
          222,
          230,
          220,
          219,
          208,
          225,
          216,
          222,
          225,
          215,
          220,
          225,
          220,
          220,
          224,
          221,
          231,
          230,
          214,
          229,
          223,
          221,
          221,
          230,
          220,
          223,
          221,
          224,
          228,
          218,
          230,
          228,
          224,
          226,
          216,
          225,
          228,
          228,
          216,
          215,
          219,
          209,
          229,
          230,
          230,
          222,
          200.91520467836256,
          222,
          213
         ],
         "y0": " ",
         "yaxis": "y"
        },
        {
         "alignmentgroup": "True",
         "box": {
          "visible": true
         },
         "customdata": [
          [
           "Torgersen",
           39.5,
           17.4,
           3800,
           "FEMALE"
          ],
          [
           "Torgersen",
           40.3,
           18,
           3250,
           "FEMALE"
          ],
          [
           "Torgersen",
           36.7,
           19.3,
           3450,
           "FEMALE"
          ],
          [
           "Torgersen",
           38.9,
           17.8,
           3625,
           "FEMALE"
          ],
          [
           "Torgersen",
           41.1,
           17.6,
           3200,
           "FEMALE"
          ],
          [
           "Torgersen",
           36.6,
           17.8,
           3700,
           "FEMALE"
          ],
          [
           "Torgersen",
           38.7,
           19,
           3450,
           "FEMALE"
          ],
          [
           "Torgersen",
           34.4,
           18.4,
           3325,
           "FEMALE"
          ],
          [
           "Biscoe",
           37.8,
           18.3,
           3400,
           "FEMALE"
          ],
          [
           "Biscoe",
           35.9,
           19.2,
           3800,
           "FEMALE"
          ],
          [
           "Biscoe",
           35.3,
           18.9,
           3800,
           "FEMALE"
          ],
          [
           "Biscoe",
           40.5,
           17.9,
           3200,
           "FEMALE"
          ],
          [
           "Biscoe",
           37.9,
           18.6,
           3150,
           "FEMALE"
          ],
          [
           "Dream",
           39.5,
           16.7,
           3250,
           "FEMALE"
          ],
          [
           "Dream",
           39.5,
           17.8,
           3300,
           "FEMALE"
          ],
          [
           "Dream",
           36.4,
           17,
           3325,
           "FEMALE"
          ],
          [
           "Dream",
           42.2,
           18.5,
           3550,
           "FEMALE"
          ],
          [
           "Dream",
           37.6,
           19.3,
           3300,
           "FEMALE"
          ],
          [
           "Dream",
           36.5,
           18,
           3150,
           "FEMALE"
          ],
          [
           "Dream",
           36,
           18.5,
           3100,
           "FEMALE"
          ],
          [
           "Dream",
           37,
           16.9,
           3000,
           "FEMALE"
          ],
          [
           "Dream",
           36,
           17.9,
           3450,
           "FEMALE"
          ],
          [
           "Biscoe",
           39.6,
           17.7,
           3500,
           "FEMALE"
          ],
          [
           "Biscoe",
           35,
           17.9,
           3450,
           "FEMALE"
          ],
          [
           "Biscoe",
           34.5,
           18.1,
           2900,
           "FEMALE"
          ],
          [
           "Biscoe",
           39,
           17.5,
           3550,
           "FEMALE"
          ],
          [
           "Biscoe",
           36.5,
           16.6,
           2850,
           "FEMALE"
          ],
          [
           "Biscoe",
           35.7,
           16.9,
           3150,
           "FEMALE"
          ],
          [
           "Biscoe",
           37.6,
           17,
           3600,
           "FEMALE"
          ],
          [
           "Biscoe",
           36.4,
           17.1,
           2850,
           "FEMALE"
          ],
          [
           "Biscoe",
           35.5,
           16.2,
           3350,
           "FEMALE"
          ],
          [
           "Torgersen",
           35.9,
           16.6,
           3050,
           "FEMALE"
          ],
          [
           "Torgersen",
           33.5,
           19,
           3600,
           "FEMALE"
          ],
          [
           "Torgersen",
           39.6,
           17.2,
           3550,
           "FEMALE"
          ],
          [
           "Torgersen",
           35.5,
           17.5,
           3700,
           "FEMALE"
          ],
          [
           "Torgersen",
           40.9,
           16.8,
           3700,
           "FEMALE"
          ],
          [
           "Torgersen",
           36.2,
           16.1,
           3550,
           "FEMALE"
          ],
          [
           "Torgersen",
           34.6,
           17.2,
           3200,
           "FEMALE"
          ],
          [
           "Torgersen",
           36.7,
           18.8,
           3800,
           "FEMALE"
          ],
          [
           "Dream",
           37.3,
           17.8,
           3350,
           "FEMALE"
          ],
          [
           "Dream",
           36.9,
           18.6,
           3500,
           "FEMALE"
          ],
          [
           "Dream",
           38.9,
           18.8,
           3600,
           "FEMALE"
          ],
          [
           "Dream",
           35.7,
           18,
           3550,
           "FEMALE"
          ],
          [
           "Dream",
           34,
           17.1,
           3400,
           "FEMALE"
          ],
          [
           "Dream",
           36.2,
           17.3,
           3300,
           "FEMALE"
          ],
          [
           "Dream",
           38.1,
           18.6,
           3700,
           "FEMALE"
          ],
          [
           "Dream",
           33.1,
           16.1,
           2900,
           "FEMALE"
          ],
          [
           "Biscoe",
           35,
           17.9,
           3725,
           "FEMALE"
          ],
          [
           "Biscoe",
           37.7,
           16,
           3075,
           "FEMALE"
          ],
          [
           "Biscoe",
           37.9,
           18.6,
           2925,
           "FEMALE"
          ],
          [
           "Biscoe",
           38.6,
           17.2,
           3750,
           "FEMALE"
          ],
          [
           "Biscoe",
           38.1,
           17,
           3175,
           "FEMALE"
          ],
          [
           "Biscoe",
           38.1,
           16.5,
           3825,
           "FEMALE"
          ],
          [
           "Biscoe",
           39.7,
           17.7,
           3200,
           "FEMALE"
          ],
          [
           "Biscoe",
           39.6,
           20.7,
           3900,
           "FEMALE"
          ],
          [
           "Torgersen",
           38.6,
           17,
           2900,
           "FEMALE"
          ],
          [
           "Torgersen",
           35.7,
           17,
           3350,
           "FEMALE"
          ],
          [
           "Torgersen",
           36.2,
           17.2,
           3150,
           "FEMALE"
          ],
          [
           "Torgersen",
           40.2,
           17,
           3450,
           "FEMALE"
          ],
          [
           "Torgersen",
           35.2,
           15.9,
           3050,
           "FEMALE"
          ],
          [
           "Torgersen",
           38.8,
           17.6,
           3275,
           "FEMALE"
          ],
          [
           "Torgersen",
           39,
           17.1,
           3050,
           "FEMALE"
          ],
          [
           "Torgersen",
           38.5,
           17.9,
           3325,
           "FEMALE"
          ],
          [
           "Dream",
           36.8,
           18.5,
           3500,
           "FEMALE"
          ],
          [
           "Dream",
           38.1,
           17.6,
           3425,
           "FEMALE"
          ],
          [
           "Dream",
           35.6,
           17.5,
           3175,
           "FEMALE"
          ],
          [
           "Dream",
           37,
           16.5,
           3400,
           "FEMALE"
          ],
          [
           "Dream",
           40.2,
           17.1,
           3400,
           "FEMALE"
          ],
          [
           "Dream",
           32.1,
           15.5,
           3050,
           "FEMALE"
          ],
          [
           "Dream",
           37.3,
           16.8,
           3000,
           "FEMALE"
          ],
          [
           "Dream",
           36.6,
           18.4,
           3475,
           "FEMALE"
          ],
          [
           "Dream",
           36,
           17.8,
           3450,
           "FEMALE"
          ],
          [
           "Dream",
           36,
           17.1,
           3700,
           "FEMALE"
          ],
          [
           "Dream",
           46.5,
           17.9,
           3500,
           "FEMALE"
          ],
          [
           "Dream",
           45.4,
           18.7,
           3525,
           "FEMALE"
          ],
          [
           "Dream",
           45.2,
           17.8,
           3950,
           "FEMALE"
          ],
          [
           "Dream",
           46.1,
           18.2,
           3250,
           "FEMALE"
          ],
          [
           "Dream",
           46,
           18.9,
           4150,
           "FEMALE"
          ],
          [
           "Dream",
           46.6,
           17.8,
           3800,
           "FEMALE"
          ],
          [
           "Dream",
           47,
           17.3,
           3700,
           "FEMALE"
          ],
          [
           "Dream",
           45.9,
           17.1,
           3575,
           "FEMALE"
          ],
          [
           "Dream",
           58,
           17.8,
           3700,
           "FEMALE"
          ],
          [
           "Dream",
           46.4,
           18.6,
           3450,
           "FEMALE"
          ],
          [
           "Dream",
           42.4,
           17.3,
           3600,
           "FEMALE"
          ],
          [
           "Dream",
           43.2,
           16.6,
           2900,
           "FEMALE"
          ],
          [
           "Dream",
           46.7,
           17.9,
           3300,
           "FEMALE"
          ],
          [
           "Dream",
           50.5,
           18.4,
           3400,
           "FEMALE"
          ],
          [
           "Dream",
           46.4,
           17.8,
           3700,
           "FEMALE"
          ],
          [
           "Dream",
           40.9,
           16.6,
           3200,
           "FEMALE"
          ],
          [
           "Dream",
           42.5,
           16.7,
           3350,
           "FEMALE"
          ],
          [
           "Dream",
           47.5,
           16.8,
           3900,
           "FEMALE"
          ],
          [
           "Dream",
           47.6,
           18.3,
           3850,
           "FEMALE"
          ],
          [
           "Dream",
           46.9,
           16.6,
           2700,
           "FEMALE"
          ],
          [
           "Dream",
           46.2,
           17.5,
           3650,
           "FEMALE"
          ],
          [
           "Dream",
           45.5,
           17,
           3500,
           "FEMALE"
          ],
          [
           "Dream",
           50.9,
           17.9,
           3675,
           "FEMALE"
          ],
          [
           "Dream",
           50.1,
           17.9,
           3400,
           "FEMALE"
          ],
          [
           "Dream",
           49.8,
           17.3,
           3675,
           "FEMALE"
          ],
          [
           "Dream",
           48.1,
           16.4,
           3325,
           "FEMALE"
          ],
          [
           "Dream",
           45.7,
           17.3,
           3600,
           "FEMALE"
          ],
          [
           "Dream",
           42.5,
           17.3,
           3350,
           "FEMALE"
          ],
          [
           "Dream",
           45.2,
           16.6,
           3250,
           "FEMALE"
          ],
          [
           "Dream",
           45.6,
           19.4,
           3525,
           "FEMALE"
          ],
          [
           "Dream",
           46.8,
           16.5,
           3650,
           "FEMALE"
          ],
          [
           "Dream",
           45.7,
           17,
           3650,
           "FEMALE"
          ],
          [
           "Dream",
           43.5,
           18.1,
           3400,
           "FEMALE"
          ],
          [
           "Dream",
           50.2,
           18.7,
           3775,
           "FEMALE"
          ],
          [
           "Biscoe",
           46.1,
           13.2,
           4500,
           "FEMALE"
          ],
          [
           "Biscoe",
           48.7,
           14.1,
           4450,
           "FEMALE"
          ],
          [
           "Biscoe",
           46.5,
           13.5,
           4550,
           "FEMALE"
          ],
          [
           "Biscoe",
           45.4,
           14.6,
           4800,
           "FEMALE"
          ],
          [
           "Biscoe",
           43.3,
           13.4,
           4400,
           "FEMALE"
          ],
          [
           "Biscoe",
           40.9,
           13.7,
           4650,
           "FEMALE"
          ],
          [
           "Biscoe",
           45.5,
           13.7,
           4650,
           "FEMALE"
          ],
          [
           "Biscoe",
           45.8,
           14.6,
           4200,
           "FEMALE"
          ],
          [
           "Biscoe",
           42,
           13.5,
           4150,
           "FEMALE"
          ],
          [
           "Biscoe",
           46.2,
           14.5,
           4800,
           "FEMALE"
          ],
          [
           "Biscoe",
           45.1,
           14.5,
           5000,
           "FEMALE"
          ],
          [
           "Biscoe",
           46.5,
           14.5,
           4400,
           "FEMALE"
          ],
          [
           "Biscoe",
           42.9,
           13.1,
           5000,
           "FEMALE"
          ],
          [
           "Biscoe",
           48.2,
           14.3,
           4600,
           "FEMALE"
          ],
          [
           "Biscoe",
           42.8,
           14.2,
           4700,
           "FEMALE"
          ],
          [
           "Biscoe",
           45.1,
           14.5,
           5050,
           "FEMALE"
          ],
          [
           "Biscoe",
           49.1,
           14.8,
           5150,
           "FEMALE"
          ],
          [
           "Biscoe",
           42.6,
           13.7,
           4950,
           "FEMALE"
          ],
          [
           "Biscoe",
           44,
           13.6,
           4350,
           "FEMALE"
          ],
          [
           "Biscoe",
           42.7,
           13.7,
           3950,
           "FEMALE"
          ],
          [
           "Biscoe",
           45.3,
           13.7,
           4300,
           "FEMALE"
          ],
          [
           "Biscoe",
           43.6,
           13.9,
           4900,
           "FEMALE"
          ],
          [
           "Biscoe",
           45.5,
           13.9,
           4200,
           "FEMALE"
          ],
          [
           "Biscoe",
           44.9,
           13.3,
           5100,
           "FEMALE"
          ],
          [
           "Biscoe",
           46.6,
           14.2,
           4850,
           "FEMALE"
          ],
          [
           "Biscoe",
           45.1,
           14.4,
           4400,
           "FEMALE"
          ],
          [
           "Biscoe",
           46.5,
           14.4,
           4900,
           "FEMALE"
          ],
          [
           "Biscoe",
           43.8,
           13.9,
           4300,
           "FEMALE"
          ],
          [
           "Biscoe",
           43.2,
           14.5,
           4450,
           "FEMALE"
          ],
          [
           "Biscoe",
           45.3,
           13.8,
           4200,
           "FEMALE"
          ],
          [
           "Biscoe",
           45.7,
           13.9,
           4400,
           "FEMALE"
          ],
          [
           "Biscoe",
           45.8,
           14.2,
           4700,
           "FEMALE"
          ],
          [
           "Biscoe",
           43.5,
           14.2,
           4700,
           "FEMALE"
          ],
          [
           "Biscoe",
           47.7,
           15,
           4750,
           "FEMALE"
          ],
          [
           "Biscoe",
           46.5,
           14.8,
           5200,
           "FEMALE"
          ],
          [
           "Biscoe",
           46.4,
           15,
           4700,
           "FEMALE"
          ],
          [
           "Biscoe",
           47.5,
           14.2,
           4600,
           "FEMALE"
          ],
          [
           "Biscoe",
           45.2,
           13.8,
           4750,
           "FEMALE"
          ],
          [
           "Biscoe",
           49.1,
           14.5,
           4625,
           "FEMALE"
          ],
          [
           "Biscoe",
           47.4,
           14.6,
           4725,
           "FEMALE"
          ],
          [
           "Biscoe",
           44.9,
           13.8,
           4750,
           "FEMALE"
          ],
          [
           "Biscoe",
           43.4,
           14.4,
           4600,
           "FEMALE"
          ],
          [
           "Biscoe",
           47.5,
           14,
           4875,
           "FEMALE"
          ],
          [
           "Biscoe",
           47.5,
           15,
           4950,
           "FEMALE"
          ],
          [
           "Biscoe",
           45.5,
           14.5,
           4750,
           "FEMALE"
          ],
          [
           "Biscoe",
           44.5,
           14.7,
           4850,
           "FEMALE"
          ],
          [
           "Biscoe",
           46.9,
           14.6,
           4875,
           "FEMALE"
          ],
          [
           "Biscoe",
           48.4,
           14.4,
           4625,
           "FEMALE"
          ],
          [
           "Biscoe",
           48.5,
           15,
           4850,
           "FEMALE"
          ],
          [
           "Biscoe",
           47.2,
           15.5,
           4975,
           "FEMALE"
          ],
          [
           "Biscoe",
           41.7,
           14.7,
           4700,
           "FEMALE"
          ],
          [
           "Biscoe",
           43.3,
           14,
           4575,
           "FEMALE"
          ],
          [
           "Biscoe",
           50.5,
           15.2,
           5000,
           "FEMALE"
          ],
          [
           "Biscoe",
           43.5,
           15.2,
           4650,
           "FEMALE"
          ],
          [
           "Biscoe",
           46.2,
           14.1,
           4375,
           "FEMALE"
          ],
          [
           "Biscoe",
           44.5,
           15.7,
           4875,
           "FEMALE"
          ],
          [
           "Biscoe",
           47.2,
           13.7,
           4925,
           "FEMALE"
          ],
          [
           "Biscoe",
           46.8,
           14.3,
           4850,
           "FEMALE"
          ],
          [
           "Biscoe",
           45.2,
           14.8,
           5200,
           "FEMALE"
          ]
         ],
         "hovertemplate": "sex=%{customdata[4]}<br>species=%{x}<br>flipper_length_mm=%{y}<br>island=%{customdata[0]}<br>culmen_length_mm=%{customdata[1]}<br>culmen_depth_mm=%{customdata[2]}<br>body_mass_g=%{customdata[3]}<extra></extra>",
         "legendgroup": "FEMALE",
         "marker": {
          "color": "#FF7F0E"
         },
         "name": "FEMALE",
         "offsetgroup": "FEMALE",
         "orientation": "v",
         "scalegroup": "True",
         "showlegend": true,
         "type": "violin",
         "x": [
          "Adelie",
          "Adelie",
          "Adelie",
          "Adelie",
          "Adelie",
          "Adelie",
          "Adelie",
          "Adelie",
          "Adelie",
          "Adelie",
          "Adelie",
          "Adelie",
          "Adelie",
          "Adelie",
          "Adelie",
          "Adelie",
          "Adelie",
          "Adelie",
          "Adelie",
          "Adelie",
          "Adelie",
          "Adelie",
          "Adelie",
          "Adelie",
          "Adelie",
          "Adelie",
          "Adelie",
          "Adelie",
          "Adelie",
          "Adelie",
          "Adelie",
          "Adelie",
          "Adelie",
          "Adelie",
          "Adelie",
          "Adelie",
          "Adelie",
          "Adelie",
          "Adelie",
          "Adelie",
          "Adelie",
          "Adelie",
          "Adelie",
          "Adelie",
          "Adelie",
          "Adelie",
          "Adelie",
          "Adelie",
          "Adelie",
          "Adelie",
          "Adelie",
          "Adelie",
          "Adelie",
          "Adelie",
          "Adelie",
          "Adelie",
          "Adelie",
          "Adelie",
          "Adelie",
          "Adelie",
          "Adelie",
          "Adelie",
          "Adelie",
          "Adelie",
          "Adelie",
          "Adelie",
          "Adelie",
          "Adelie",
          "Adelie",
          "Adelie",
          "Adelie",
          "Adelie",
          "Adelie",
          "Chinstrap",
          "Chinstrap",
          "Chinstrap",
          "Chinstrap",
          "Chinstrap",
          "Chinstrap",
          "Chinstrap",
          "Chinstrap",
          "Chinstrap",
          "Chinstrap",
          "Chinstrap",
          "Chinstrap",
          "Chinstrap",
          "Chinstrap",
          "Chinstrap",
          "Chinstrap",
          "Chinstrap",
          "Chinstrap",
          "Chinstrap",
          "Chinstrap",
          "Chinstrap",
          "Chinstrap",
          "Chinstrap",
          "Chinstrap",
          "Chinstrap",
          "Chinstrap",
          "Chinstrap",
          "Chinstrap",
          "Chinstrap",
          "Chinstrap",
          "Chinstrap",
          "Chinstrap",
          "Chinstrap",
          "Chinstrap",
          "Gentoo",
          "Gentoo",
          "Gentoo",
          "Gentoo",
          "Gentoo",
          "Gentoo",
          "Gentoo",
          "Gentoo",
          "Gentoo",
          "Gentoo",
          "Gentoo",
          "Gentoo",
          "Gentoo",
          "Gentoo",
          "Gentoo",
          "Gentoo",
          "Gentoo",
          "Gentoo",
          "Gentoo",
          "Gentoo",
          "Gentoo",
          "Gentoo",
          "Gentoo",
          "Gentoo",
          "Gentoo",
          "Gentoo",
          "Gentoo",
          "Gentoo",
          "Gentoo",
          "Gentoo",
          "Gentoo",
          "Gentoo",
          "Gentoo",
          "Gentoo",
          "Gentoo",
          "Gentoo",
          "Gentoo",
          "Gentoo",
          "Gentoo",
          "Gentoo",
          "Gentoo",
          "Gentoo",
          "Gentoo",
          "Gentoo",
          "Gentoo",
          "Gentoo",
          "Gentoo",
          "Gentoo",
          "Gentoo",
          "Gentoo",
          "Gentoo",
          "Gentoo",
          "Gentoo",
          "Gentoo",
          "Gentoo",
          "Gentoo",
          "Gentoo",
          "Gentoo",
          "Gentoo"
         ],
         "x0": " ",
         "xaxis": "x",
         "y": [
          186,
          195,
          193,
          181,
          182,
          185,
          195,
          184,
          174,
          189,
          187,
          187,
          172,
          178,
          188,
          195,
          180,
          181,
          182,
          186,
          185,
          190,
          186,
          190,
          187,
          186,
          181,
          185,
          185,
          184,
          195,
          190,
          190,
          196,
          190,
          191,
          187,
          189,
          187,
          191,
          189,
          190,
          202,
          185,
          187,
          190,
          178,
          192,
          183,
          193,
          199,
          181,
          198,
          193,
          191,
          188,
          189,
          187,
          176,
          186,
          191,
          191,
          190,
          193,
          187,
          191,
          185,
          193,
          188,
          192,
          184,
          195,
          187,
          192,
          188,
          198,
          178,
          195,
          193,
          185,
          190,
          181,
          190,
          181,
          187,
          195,
          200,
          191,
          187,
          187,
          199,
          195,
          192,
          187,
          196,
          196,
          190,
          198,
          199,
          193,
          187,
          191,
          194,
          189,
          195,
          202,
          198,
          211,
          210,
          210,
          211,
          209,
          214,
          214,
          210,
          210,
          209,
          215,
          213,
          215,
          210,
          209,
          207,
          220,
          213,
          208,
          208,
          210,
          217,
          210,
          213,
          210,
          210,
          217,
          208,
          208,
          208,
          214,
          219,
          220,
          216,
          217,
          216,
          209,
          215,
          212,
          212,
          212,
          218,
          212,
          218,
          212,
          214,
          222,
          203,
          219,
          215,
          210,
          208,
          216,
          213,
          217,
          217,
          214,
          215,
          212
         ],
         "y0": " ",
         "yaxis": "y"
        }
       ],
       "layout": {
        "legend": {
         "title": {
          "text": "sex"
         },
         "tracegroupgap": 0
        },
        "margin": {
         "t": 60
        },
        "template": {
         "data": {
          "bar": [
           {
            "error_x": {
             "color": "rgb(36,36,36)"
            },
            "error_y": {
             "color": "rgb(36,36,36)"
            },
            "marker": {
             "line": {
              "color": "white",
              "width": 0.5
             },
             "pattern": {
              "fillmode": "overlay",
              "size": 10,
              "solidity": 0.2
             }
            },
            "type": "bar"
           }
          ],
          "barpolar": [
           {
            "marker": {
             "line": {
              "color": "white",
              "width": 0.5
             },
             "pattern": {
              "fillmode": "overlay",
              "size": 10,
              "solidity": 0.2
             }
            },
            "type": "barpolar"
           }
          ],
          "carpet": [
           {
            "aaxis": {
             "endlinecolor": "rgb(36,36,36)",
             "gridcolor": "white",
             "linecolor": "white",
             "minorgridcolor": "white",
             "startlinecolor": "rgb(36,36,36)"
            },
            "baxis": {
             "endlinecolor": "rgb(36,36,36)",
             "gridcolor": "white",
             "linecolor": "white",
             "minorgridcolor": "white",
             "startlinecolor": "rgb(36,36,36)"
            },
            "type": "carpet"
           }
          ],
          "choropleth": [
           {
            "colorbar": {
             "outlinewidth": 1,
             "tickcolor": "rgb(36,36,36)",
             "ticks": "outside"
            },
            "type": "choropleth"
           }
          ],
          "contour": [
           {
            "colorbar": {
             "outlinewidth": 1,
             "tickcolor": "rgb(36,36,36)",
             "ticks": "outside"
            },
            "colorscale": [
             [
              0,
              "#440154"
             ],
             [
              0.1111111111111111,
              "#482878"
             ],
             [
              0.2222222222222222,
              "#3e4989"
             ],
             [
              0.3333333333333333,
              "#31688e"
             ],
             [
              0.4444444444444444,
              "#26828e"
             ],
             [
              0.5555555555555556,
              "#1f9e89"
             ],
             [
              0.6666666666666666,
              "#35b779"
             ],
             [
              0.7777777777777778,
              "#6ece58"
             ],
             [
              0.8888888888888888,
              "#b5de2b"
             ],
             [
              1,
              "#fde725"
             ]
            ],
            "type": "contour"
           }
          ],
          "contourcarpet": [
           {
            "colorbar": {
             "outlinewidth": 1,
             "tickcolor": "rgb(36,36,36)",
             "ticks": "outside"
            },
            "type": "contourcarpet"
           }
          ],
          "heatmap": [
           {
            "colorbar": {
             "outlinewidth": 1,
             "tickcolor": "rgb(36,36,36)",
             "ticks": "outside"
            },
            "colorscale": [
             [
              0,
              "#440154"
             ],
             [
              0.1111111111111111,
              "#482878"
             ],
             [
              0.2222222222222222,
              "#3e4989"
             ],
             [
              0.3333333333333333,
              "#31688e"
             ],
             [
              0.4444444444444444,
              "#26828e"
             ],
             [
              0.5555555555555556,
              "#1f9e89"
             ],
             [
              0.6666666666666666,
              "#35b779"
             ],
             [
              0.7777777777777778,
              "#6ece58"
             ],
             [
              0.8888888888888888,
              "#b5de2b"
             ],
             [
              1,
              "#fde725"
             ]
            ],
            "type": "heatmap"
           }
          ],
          "heatmapgl": [
           {
            "colorbar": {
             "outlinewidth": 1,
             "tickcolor": "rgb(36,36,36)",
             "ticks": "outside"
            },
            "colorscale": [
             [
              0,
              "#440154"
             ],
             [
              0.1111111111111111,
              "#482878"
             ],
             [
              0.2222222222222222,
              "#3e4989"
             ],
             [
              0.3333333333333333,
              "#31688e"
             ],
             [
              0.4444444444444444,
              "#26828e"
             ],
             [
              0.5555555555555556,
              "#1f9e89"
             ],
             [
              0.6666666666666666,
              "#35b779"
             ],
             [
              0.7777777777777778,
              "#6ece58"
             ],
             [
              0.8888888888888888,
              "#b5de2b"
             ],
             [
              1,
              "#fde725"
             ]
            ],
            "type": "heatmapgl"
           }
          ],
          "histogram": [
           {
            "marker": {
             "line": {
              "color": "white",
              "width": 0.6
             }
            },
            "type": "histogram"
           }
          ],
          "histogram2d": [
           {
            "colorbar": {
             "outlinewidth": 1,
             "tickcolor": "rgb(36,36,36)",
             "ticks": "outside"
            },
            "colorscale": [
             [
              0,
              "#440154"
             ],
             [
              0.1111111111111111,
              "#482878"
             ],
             [
              0.2222222222222222,
              "#3e4989"
             ],
             [
              0.3333333333333333,
              "#31688e"
             ],
             [
              0.4444444444444444,
              "#26828e"
             ],
             [
              0.5555555555555556,
              "#1f9e89"
             ],
             [
              0.6666666666666666,
              "#35b779"
             ],
             [
              0.7777777777777778,
              "#6ece58"
             ],
             [
              0.8888888888888888,
              "#b5de2b"
             ],
             [
              1,
              "#fde725"
             ]
            ],
            "type": "histogram2d"
           }
          ],
          "histogram2dcontour": [
           {
            "colorbar": {
             "outlinewidth": 1,
             "tickcolor": "rgb(36,36,36)",
             "ticks": "outside"
            },
            "colorscale": [
             [
              0,
              "#440154"
             ],
             [
              0.1111111111111111,
              "#482878"
             ],
             [
              0.2222222222222222,
              "#3e4989"
             ],
             [
              0.3333333333333333,
              "#31688e"
             ],
             [
              0.4444444444444444,
              "#26828e"
             ],
             [
              0.5555555555555556,
              "#1f9e89"
             ],
             [
              0.6666666666666666,
              "#35b779"
             ],
             [
              0.7777777777777778,
              "#6ece58"
             ],
             [
              0.8888888888888888,
              "#b5de2b"
             ],
             [
              1,
              "#fde725"
             ]
            ],
            "type": "histogram2dcontour"
           }
          ],
          "mesh3d": [
           {
            "colorbar": {
             "outlinewidth": 1,
             "tickcolor": "rgb(36,36,36)",
             "ticks": "outside"
            },
            "type": "mesh3d"
           }
          ],
          "parcoords": [
           {
            "line": {
             "colorbar": {
              "outlinewidth": 1,
              "tickcolor": "rgb(36,36,36)",
              "ticks": "outside"
             }
            },
            "type": "parcoords"
           }
          ],
          "pie": [
           {
            "automargin": true,
            "type": "pie"
           }
          ],
          "scatter": [
           {
            "fillpattern": {
             "fillmode": "overlay",
             "size": 10,
             "solidity": 0.2
            },
            "type": "scatter"
           }
          ],
          "scatter3d": [
           {
            "line": {
             "colorbar": {
              "outlinewidth": 1,
              "tickcolor": "rgb(36,36,36)",
              "ticks": "outside"
             }
            },
            "marker": {
             "colorbar": {
              "outlinewidth": 1,
              "tickcolor": "rgb(36,36,36)",
              "ticks": "outside"
             }
            },
            "type": "scatter3d"
           }
          ],
          "scattercarpet": [
           {
            "marker": {
             "colorbar": {
              "outlinewidth": 1,
              "tickcolor": "rgb(36,36,36)",
              "ticks": "outside"
             }
            },
            "type": "scattercarpet"
           }
          ],
          "scattergeo": [
           {
            "marker": {
             "colorbar": {
              "outlinewidth": 1,
              "tickcolor": "rgb(36,36,36)",
              "ticks": "outside"
             }
            },
            "type": "scattergeo"
           }
          ],
          "scattergl": [
           {
            "marker": {
             "colorbar": {
              "outlinewidth": 1,
              "tickcolor": "rgb(36,36,36)",
              "ticks": "outside"
             }
            },
            "type": "scattergl"
           }
          ],
          "scattermapbox": [
           {
            "marker": {
             "colorbar": {
              "outlinewidth": 1,
              "tickcolor": "rgb(36,36,36)",
              "ticks": "outside"
             }
            },
            "type": "scattermapbox"
           }
          ],
          "scatterpolar": [
           {
            "marker": {
             "colorbar": {
              "outlinewidth": 1,
              "tickcolor": "rgb(36,36,36)",
              "ticks": "outside"
             }
            },
            "type": "scatterpolar"
           }
          ],
          "scatterpolargl": [
           {
            "marker": {
             "colorbar": {
              "outlinewidth": 1,
              "tickcolor": "rgb(36,36,36)",
              "ticks": "outside"
             }
            },
            "type": "scatterpolargl"
           }
          ],
          "scatterternary": [
           {
            "marker": {
             "colorbar": {
              "outlinewidth": 1,
              "tickcolor": "rgb(36,36,36)",
              "ticks": "outside"
             }
            },
            "type": "scatterternary"
           }
          ],
          "surface": [
           {
            "colorbar": {
             "outlinewidth": 1,
             "tickcolor": "rgb(36,36,36)",
             "ticks": "outside"
            },
            "colorscale": [
             [
              0,
              "#440154"
             ],
             [
              0.1111111111111111,
              "#482878"
             ],
             [
              0.2222222222222222,
              "#3e4989"
             ],
             [
              0.3333333333333333,
              "#31688e"
             ],
             [
              0.4444444444444444,
              "#26828e"
             ],
             [
              0.5555555555555556,
              "#1f9e89"
             ],
             [
              0.6666666666666666,
              "#35b779"
             ],
             [
              0.7777777777777778,
              "#6ece58"
             ],
             [
              0.8888888888888888,
              "#b5de2b"
             ],
             [
              1,
              "#fde725"
             ]
            ],
            "type": "surface"
           }
          ],
          "table": [
           {
            "cells": {
             "fill": {
              "color": "rgb(237,237,237)"
             },
             "line": {
              "color": "white"
             }
            },
            "header": {
             "fill": {
              "color": "rgb(217,217,217)"
             },
             "line": {
              "color": "white"
             }
            },
            "type": "table"
           }
          ]
         },
         "layout": {
          "annotationdefaults": {
           "arrowhead": 0,
           "arrowwidth": 1
          },
          "autotypenumbers": "strict",
          "coloraxis": {
           "colorbar": {
            "outlinewidth": 1,
            "tickcolor": "rgb(36,36,36)",
            "ticks": "outside"
           }
          },
          "colorscale": {
           "diverging": [
            [
             0,
             "rgb(103,0,31)"
            ],
            [
             0.1,
             "rgb(178,24,43)"
            ],
            [
             0.2,
             "rgb(214,96,77)"
            ],
            [
             0.3,
             "rgb(244,165,130)"
            ],
            [
             0.4,
             "rgb(253,219,199)"
            ],
            [
             0.5,
             "rgb(247,247,247)"
            ],
            [
             0.6,
             "rgb(209,229,240)"
            ],
            [
             0.7,
             "rgb(146,197,222)"
            ],
            [
             0.8,
             "rgb(67,147,195)"
            ],
            [
             0.9,
             "rgb(33,102,172)"
            ],
            [
             1,
             "rgb(5,48,97)"
            ]
           ],
           "sequential": [
            [
             0,
             "#440154"
            ],
            [
             0.1111111111111111,
             "#482878"
            ],
            [
             0.2222222222222222,
             "#3e4989"
            ],
            [
             0.3333333333333333,
             "#31688e"
            ],
            [
             0.4444444444444444,
             "#26828e"
            ],
            [
             0.5555555555555556,
             "#1f9e89"
            ],
            [
             0.6666666666666666,
             "#35b779"
            ],
            [
             0.7777777777777778,
             "#6ece58"
            ],
            [
             0.8888888888888888,
             "#b5de2b"
            ],
            [
             1,
             "#fde725"
            ]
           ],
           "sequentialminus": [
            [
             0,
             "#440154"
            ],
            [
             0.1111111111111111,
             "#482878"
            ],
            [
             0.2222222222222222,
             "#3e4989"
            ],
            [
             0.3333333333333333,
             "#31688e"
            ],
            [
             0.4444444444444444,
             "#26828e"
            ],
            [
             0.5555555555555556,
             "#1f9e89"
            ],
            [
             0.6666666666666666,
             "#35b779"
            ],
            [
             0.7777777777777778,
             "#6ece58"
            ],
            [
             0.8888888888888888,
             "#b5de2b"
            ],
            [
             1,
             "#fde725"
            ]
           ]
          },
          "colorway": [
           "#1F77B4",
           "#FF7F0E",
           "#2CA02C",
           "#D62728",
           "#9467BD",
           "#8C564B",
           "#E377C2",
           "#7F7F7F",
           "#BCBD22",
           "#17BECF"
          ],
          "font": {
           "color": "rgb(36,36,36)"
          },
          "geo": {
           "bgcolor": "white",
           "lakecolor": "white",
           "landcolor": "white",
           "showlakes": true,
           "showland": true,
           "subunitcolor": "white"
          },
          "hoverlabel": {
           "align": "left"
          },
          "hovermode": "closest",
          "mapbox": {
           "style": "light"
          },
          "paper_bgcolor": "white",
          "plot_bgcolor": "white",
          "polar": {
           "angularaxis": {
            "gridcolor": "rgb(232,232,232)",
            "linecolor": "rgb(36,36,36)",
            "showgrid": false,
            "showline": true,
            "ticks": "outside"
           },
           "bgcolor": "white",
           "radialaxis": {
            "gridcolor": "rgb(232,232,232)",
            "linecolor": "rgb(36,36,36)",
            "showgrid": false,
            "showline": true,
            "ticks": "outside"
           }
          },
          "scene": {
           "xaxis": {
            "backgroundcolor": "white",
            "gridcolor": "rgb(232,232,232)",
            "gridwidth": 2,
            "linecolor": "rgb(36,36,36)",
            "showbackground": true,
            "showgrid": false,
            "showline": true,
            "ticks": "outside",
            "zeroline": false,
            "zerolinecolor": "rgb(36,36,36)"
           },
           "yaxis": {
            "backgroundcolor": "white",
            "gridcolor": "rgb(232,232,232)",
            "gridwidth": 2,
            "linecolor": "rgb(36,36,36)",
            "showbackground": true,
            "showgrid": false,
            "showline": true,
            "ticks": "outside",
            "zeroline": false,
            "zerolinecolor": "rgb(36,36,36)"
           },
           "zaxis": {
            "backgroundcolor": "white",
            "gridcolor": "rgb(232,232,232)",
            "gridwidth": 2,
            "linecolor": "rgb(36,36,36)",
            "showbackground": true,
            "showgrid": false,
            "showline": true,
            "ticks": "outside",
            "zeroline": false,
            "zerolinecolor": "rgb(36,36,36)"
           }
          },
          "shapedefaults": {
           "fillcolor": "black",
           "line": {
            "width": 0
           },
           "opacity": 0.3
          },
          "ternary": {
           "aaxis": {
            "gridcolor": "rgb(232,232,232)",
            "linecolor": "rgb(36,36,36)",
            "showgrid": false,
            "showline": true,
            "ticks": "outside"
           },
           "baxis": {
            "gridcolor": "rgb(232,232,232)",
            "linecolor": "rgb(36,36,36)",
            "showgrid": false,
            "showline": true,
            "ticks": "outside"
           },
           "bgcolor": "white",
           "caxis": {
            "gridcolor": "rgb(232,232,232)",
            "linecolor": "rgb(36,36,36)",
            "showgrid": false,
            "showline": true,
            "ticks": "outside"
           }
          },
          "title": {
           "x": 0.05
          },
          "xaxis": {
           "automargin": true,
           "gridcolor": "rgb(232,232,232)",
           "linecolor": "rgb(36,36,36)",
           "showgrid": false,
           "showline": true,
           "ticks": "outside",
           "title": {
            "standoff": 15
           },
           "zeroline": false,
           "zerolinecolor": "rgb(36,36,36)"
          },
          "yaxis": {
           "automargin": true,
           "gridcolor": "rgb(232,232,232)",
           "linecolor": "rgb(36,36,36)",
           "showgrid": false,
           "showline": true,
           "ticks": "outside",
           "title": {
            "standoff": 15
           },
           "zeroline": false,
           "zerolinecolor": "rgb(36,36,36)"
          }
         }
        },
        "violinmode": "group",
        "xaxis": {
         "anchor": "y",
         "domain": [
          0,
          1
         ],
         "title": {
          "text": "species"
         }
        },
        "yaxis": {
         "anchor": "x",
         "domain": [
          0,
          1
         ],
         "title": {
          "text": "flipper_length_mm"
         }
        }
       }
      }
     },
     "metadata": {},
     "output_type": "display_data"
    }
   ],
   "source": [
    "fig = px.violin(df, y=\"flipper_length_mm\", x=\"species\", color=\"sex\", box=True,\n",
    "                hover_data=df.columns, template='simple_white')\n",
    "\n",
    "fig.show()\n"
   ]
  },
  {
   "cell_type": "code",
   "execution_count": 28,
   "metadata": {},
   "outputs": [
    {
     "data": {
      "application/vnd.plotly.v1+json": {
       "config": {
        "plotlyServerURL": "https://plot.ly"
       },
       "data": [
        {
         "alignmentgroup": "True",
         "bingroup": "x",
         "hovertemplate": "body_mass_g=%{x}<br>count=%{y}<extra></extra>",
         "legendgroup": "",
         "marker": {
          "color": "#1F77B4",
          "pattern": {
           "shape": ""
          }
         },
         "name": "",
         "offsetgroup": "",
         "orientation": "v",
         "showlegend": false,
         "type": "histogram",
         "x": [
          3750,
          3800,
          3250,
          4201.754385964912,
          3450,
          3650,
          3625,
          4675,
          3475,
          4250,
          3300,
          3700,
          3200,
          3800,
          4400,
          3700,
          3450,
          4500,
          3325,
          4200,
          3400,
          3600,
          3800,
          3950,
          3800,
          3800,
          3550,
          3200,
          3150,
          3950,
          3250,
          3900,
          3300,
          3900,
          3325,
          4150,
          3950,
          3550,
          3300,
          4650,
          3150,
          3900,
          3100,
          4400,
          3000,
          4600,
          3425,
          2975,
          3450,
          4150,
          3500,
          4300,
          3450,
          4050,
          2900,
          3700,
          3550,
          3800,
          2850,
          3750,
          3150,
          4400,
          3600,
          4050,
          2850,
          3950,
          3350,
          4100,
          3050,
          4450,
          3600,
          3900,
          3550,
          4150,
          3700,
          4250,
          3700,
          3900,
          3550,
          4000,
          3200,
          4700,
          3800,
          4200,
          3350,
          3550,
          3800,
          3500,
          3950,
          3600,
          3550,
          4300,
          3400,
          4450,
          3300,
          4300,
          3700,
          4350,
          2900,
          4100,
          3725,
          4725,
          3075,
          4250,
          2925,
          3550,
          3750,
          3900,
          3175,
          4775,
          3825,
          4600,
          3200,
          4275,
          3900,
          4075,
          2900,
          3775,
          3350,
          3325,
          3150,
          3500,
          3450,
          3875,
          3050,
          4000,
          3275,
          4300,
          3050,
          4000,
          3325,
          3500,
          3500,
          4475,
          3425,
          3900,
          3175,
          3975,
          3400,
          4250,
          3400,
          3475,
          3050,
          3725,
          3000,
          3650,
          4250,
          3475,
          3450,
          3750,
          3700,
          4000,
          3500,
          3900,
          3650,
          3525,
          3725,
          3950,
          3250,
          3750,
          4150,
          3700,
          3800,
          3775,
          3700,
          4050,
          3575,
          4050,
          3300,
          3700,
          3450,
          4400,
          3600,
          3400,
          2900,
          3800,
          3300,
          4150,
          3400,
          3800,
          3700,
          4550,
          3200,
          4300,
          3350,
          4100,
          3600,
          3900,
          3850,
          4800,
          2700,
          4500,
          3950,
          3650,
          3550,
          3500,
          3675,
          4450,
          3400,
          4300,
          3250,
          3675,
          3325,
          3950,
          3600,
          4050,
          3350,
          3450,
          3250,
          4050,
          3800,
          3525,
          3950,
          3650,
          3650,
          4000,
          3400,
          3775,
          4100,
          3775,
          4500,
          5700,
          4450,
          5700,
          5400,
          4550,
          4800,
          5200,
          4400,
          5150,
          4650,
          5550,
          4650,
          5850,
          4200,
          5850,
          4150,
          6300,
          4800,
          5350,
          5700,
          5000,
          4400,
          5050,
          5000,
          5100,
          4100,
          5650,
          4600,
          5550,
          5250,
          4700,
          5050,
          6050,
          5150,
          5400,
          4950,
          5250,
          4350,
          5350,
          3950,
          5700,
          4300,
          4750,
          5550,
          4900,
          4200,
          5400,
          5100,
          5300,
          4850,
          5300,
          4400,
          5000,
          4900,
          5050,
          4300,
          5000,
          4450,
          5550,
          4200,
          5300,
          4400,
          5650,
          4700,
          5700,
          4650,
          5800,
          4700,
          5550,
          4750,
          5000,
          5100,
          5200,
          4700,
          5800,
          4600,
          6000,
          4750,
          5950,
          4625,
          5450,
          4725,
          5350,
          4750,
          5600,
          4600,
          5300,
          4875,
          5550,
          4950,
          5400,
          4750,
          5650,
          4850,
          5200,
          4925,
          4875,
          4625,
          5250,
          4850,
          5600,
          4975,
          5500,
          4725,
          5500,
          4700,
          5500,
          4575,
          5500,
          5000,
          5950,
          4650,
          5500,
          4375,
          5850,
          4875,
          6000,
          4925,
          4201.754385964912,
          4850,
          5750,
          5200,
          5400
         ],
         "xaxis": "x",
         "yaxis": "y"
        }
       ],
       "layout": {
        "barmode": "relative",
        "legend": {
         "tracegroupgap": 0
        },
        "margin": {
         "t": 60
        },
        "template": {
         "data": {
          "bar": [
           {
            "error_x": {
             "color": "rgb(36,36,36)"
            },
            "error_y": {
             "color": "rgb(36,36,36)"
            },
            "marker": {
             "line": {
              "color": "white",
              "width": 0.5
             },
             "pattern": {
              "fillmode": "overlay",
              "size": 10,
              "solidity": 0.2
             }
            },
            "type": "bar"
           }
          ],
          "barpolar": [
           {
            "marker": {
             "line": {
              "color": "white",
              "width": 0.5
             },
             "pattern": {
              "fillmode": "overlay",
              "size": 10,
              "solidity": 0.2
             }
            },
            "type": "barpolar"
           }
          ],
          "carpet": [
           {
            "aaxis": {
             "endlinecolor": "rgb(36,36,36)",
             "gridcolor": "white",
             "linecolor": "white",
             "minorgridcolor": "white",
             "startlinecolor": "rgb(36,36,36)"
            },
            "baxis": {
             "endlinecolor": "rgb(36,36,36)",
             "gridcolor": "white",
             "linecolor": "white",
             "minorgridcolor": "white",
             "startlinecolor": "rgb(36,36,36)"
            },
            "type": "carpet"
           }
          ],
          "choropleth": [
           {
            "colorbar": {
             "outlinewidth": 1,
             "tickcolor": "rgb(36,36,36)",
             "ticks": "outside"
            },
            "type": "choropleth"
           }
          ],
          "contour": [
           {
            "colorbar": {
             "outlinewidth": 1,
             "tickcolor": "rgb(36,36,36)",
             "ticks": "outside"
            },
            "colorscale": [
             [
              0,
              "#440154"
             ],
             [
              0.1111111111111111,
              "#482878"
             ],
             [
              0.2222222222222222,
              "#3e4989"
             ],
             [
              0.3333333333333333,
              "#31688e"
             ],
             [
              0.4444444444444444,
              "#26828e"
             ],
             [
              0.5555555555555556,
              "#1f9e89"
             ],
             [
              0.6666666666666666,
              "#35b779"
             ],
             [
              0.7777777777777778,
              "#6ece58"
             ],
             [
              0.8888888888888888,
              "#b5de2b"
             ],
             [
              1,
              "#fde725"
             ]
            ],
            "type": "contour"
           }
          ],
          "contourcarpet": [
           {
            "colorbar": {
             "outlinewidth": 1,
             "tickcolor": "rgb(36,36,36)",
             "ticks": "outside"
            },
            "type": "contourcarpet"
           }
          ],
          "heatmap": [
           {
            "colorbar": {
             "outlinewidth": 1,
             "tickcolor": "rgb(36,36,36)",
             "ticks": "outside"
            },
            "colorscale": [
             [
              0,
              "#440154"
             ],
             [
              0.1111111111111111,
              "#482878"
             ],
             [
              0.2222222222222222,
              "#3e4989"
             ],
             [
              0.3333333333333333,
              "#31688e"
             ],
             [
              0.4444444444444444,
              "#26828e"
             ],
             [
              0.5555555555555556,
              "#1f9e89"
             ],
             [
              0.6666666666666666,
              "#35b779"
             ],
             [
              0.7777777777777778,
              "#6ece58"
             ],
             [
              0.8888888888888888,
              "#b5de2b"
             ],
             [
              1,
              "#fde725"
             ]
            ],
            "type": "heatmap"
           }
          ],
          "heatmapgl": [
           {
            "colorbar": {
             "outlinewidth": 1,
             "tickcolor": "rgb(36,36,36)",
             "ticks": "outside"
            },
            "colorscale": [
             [
              0,
              "#440154"
             ],
             [
              0.1111111111111111,
              "#482878"
             ],
             [
              0.2222222222222222,
              "#3e4989"
             ],
             [
              0.3333333333333333,
              "#31688e"
             ],
             [
              0.4444444444444444,
              "#26828e"
             ],
             [
              0.5555555555555556,
              "#1f9e89"
             ],
             [
              0.6666666666666666,
              "#35b779"
             ],
             [
              0.7777777777777778,
              "#6ece58"
             ],
             [
              0.8888888888888888,
              "#b5de2b"
             ],
             [
              1,
              "#fde725"
             ]
            ],
            "type": "heatmapgl"
           }
          ],
          "histogram": [
           {
            "marker": {
             "line": {
              "color": "white",
              "width": 0.6
             }
            },
            "type": "histogram"
           }
          ],
          "histogram2d": [
           {
            "colorbar": {
             "outlinewidth": 1,
             "tickcolor": "rgb(36,36,36)",
             "ticks": "outside"
            },
            "colorscale": [
             [
              0,
              "#440154"
             ],
             [
              0.1111111111111111,
              "#482878"
             ],
             [
              0.2222222222222222,
              "#3e4989"
             ],
             [
              0.3333333333333333,
              "#31688e"
             ],
             [
              0.4444444444444444,
              "#26828e"
             ],
             [
              0.5555555555555556,
              "#1f9e89"
             ],
             [
              0.6666666666666666,
              "#35b779"
             ],
             [
              0.7777777777777778,
              "#6ece58"
             ],
             [
              0.8888888888888888,
              "#b5de2b"
             ],
             [
              1,
              "#fde725"
             ]
            ],
            "type": "histogram2d"
           }
          ],
          "histogram2dcontour": [
           {
            "colorbar": {
             "outlinewidth": 1,
             "tickcolor": "rgb(36,36,36)",
             "ticks": "outside"
            },
            "colorscale": [
             [
              0,
              "#440154"
             ],
             [
              0.1111111111111111,
              "#482878"
             ],
             [
              0.2222222222222222,
              "#3e4989"
             ],
             [
              0.3333333333333333,
              "#31688e"
             ],
             [
              0.4444444444444444,
              "#26828e"
             ],
             [
              0.5555555555555556,
              "#1f9e89"
             ],
             [
              0.6666666666666666,
              "#35b779"
             ],
             [
              0.7777777777777778,
              "#6ece58"
             ],
             [
              0.8888888888888888,
              "#b5de2b"
             ],
             [
              1,
              "#fde725"
             ]
            ],
            "type": "histogram2dcontour"
           }
          ],
          "mesh3d": [
           {
            "colorbar": {
             "outlinewidth": 1,
             "tickcolor": "rgb(36,36,36)",
             "ticks": "outside"
            },
            "type": "mesh3d"
           }
          ],
          "parcoords": [
           {
            "line": {
             "colorbar": {
              "outlinewidth": 1,
              "tickcolor": "rgb(36,36,36)",
              "ticks": "outside"
             }
            },
            "type": "parcoords"
           }
          ],
          "pie": [
           {
            "automargin": true,
            "type": "pie"
           }
          ],
          "scatter": [
           {
            "fillpattern": {
             "fillmode": "overlay",
             "size": 10,
             "solidity": 0.2
            },
            "type": "scatter"
           }
          ],
          "scatter3d": [
           {
            "line": {
             "colorbar": {
              "outlinewidth": 1,
              "tickcolor": "rgb(36,36,36)",
              "ticks": "outside"
             }
            },
            "marker": {
             "colorbar": {
              "outlinewidth": 1,
              "tickcolor": "rgb(36,36,36)",
              "ticks": "outside"
             }
            },
            "type": "scatter3d"
           }
          ],
          "scattercarpet": [
           {
            "marker": {
             "colorbar": {
              "outlinewidth": 1,
              "tickcolor": "rgb(36,36,36)",
              "ticks": "outside"
             }
            },
            "type": "scattercarpet"
           }
          ],
          "scattergeo": [
           {
            "marker": {
             "colorbar": {
              "outlinewidth": 1,
              "tickcolor": "rgb(36,36,36)",
              "ticks": "outside"
             }
            },
            "type": "scattergeo"
           }
          ],
          "scattergl": [
           {
            "marker": {
             "colorbar": {
              "outlinewidth": 1,
              "tickcolor": "rgb(36,36,36)",
              "ticks": "outside"
             }
            },
            "type": "scattergl"
           }
          ],
          "scattermapbox": [
           {
            "marker": {
             "colorbar": {
              "outlinewidth": 1,
              "tickcolor": "rgb(36,36,36)",
              "ticks": "outside"
             }
            },
            "type": "scattermapbox"
           }
          ],
          "scatterpolar": [
           {
            "marker": {
             "colorbar": {
              "outlinewidth": 1,
              "tickcolor": "rgb(36,36,36)",
              "ticks": "outside"
             }
            },
            "type": "scatterpolar"
           }
          ],
          "scatterpolargl": [
           {
            "marker": {
             "colorbar": {
              "outlinewidth": 1,
              "tickcolor": "rgb(36,36,36)",
              "ticks": "outside"
             }
            },
            "type": "scatterpolargl"
           }
          ],
          "scatterternary": [
           {
            "marker": {
             "colorbar": {
              "outlinewidth": 1,
              "tickcolor": "rgb(36,36,36)",
              "ticks": "outside"
             }
            },
            "type": "scatterternary"
           }
          ],
          "surface": [
           {
            "colorbar": {
             "outlinewidth": 1,
             "tickcolor": "rgb(36,36,36)",
             "ticks": "outside"
            },
            "colorscale": [
             [
              0,
              "#440154"
             ],
             [
              0.1111111111111111,
              "#482878"
             ],
             [
              0.2222222222222222,
              "#3e4989"
             ],
             [
              0.3333333333333333,
              "#31688e"
             ],
             [
              0.4444444444444444,
              "#26828e"
             ],
             [
              0.5555555555555556,
              "#1f9e89"
             ],
             [
              0.6666666666666666,
              "#35b779"
             ],
             [
              0.7777777777777778,
              "#6ece58"
             ],
             [
              0.8888888888888888,
              "#b5de2b"
             ],
             [
              1,
              "#fde725"
             ]
            ],
            "type": "surface"
           }
          ],
          "table": [
           {
            "cells": {
             "fill": {
              "color": "rgb(237,237,237)"
             },
             "line": {
              "color": "white"
             }
            },
            "header": {
             "fill": {
              "color": "rgb(217,217,217)"
             },
             "line": {
              "color": "white"
             }
            },
            "type": "table"
           }
          ]
         },
         "layout": {
          "annotationdefaults": {
           "arrowhead": 0,
           "arrowwidth": 1
          },
          "autotypenumbers": "strict",
          "coloraxis": {
           "colorbar": {
            "outlinewidth": 1,
            "tickcolor": "rgb(36,36,36)",
            "ticks": "outside"
           }
          },
          "colorscale": {
           "diverging": [
            [
             0,
             "rgb(103,0,31)"
            ],
            [
             0.1,
             "rgb(178,24,43)"
            ],
            [
             0.2,
             "rgb(214,96,77)"
            ],
            [
             0.3,
             "rgb(244,165,130)"
            ],
            [
             0.4,
             "rgb(253,219,199)"
            ],
            [
             0.5,
             "rgb(247,247,247)"
            ],
            [
             0.6,
             "rgb(209,229,240)"
            ],
            [
             0.7,
             "rgb(146,197,222)"
            ],
            [
             0.8,
             "rgb(67,147,195)"
            ],
            [
             0.9,
             "rgb(33,102,172)"
            ],
            [
             1,
             "rgb(5,48,97)"
            ]
           ],
           "sequential": [
            [
             0,
             "#440154"
            ],
            [
             0.1111111111111111,
             "#482878"
            ],
            [
             0.2222222222222222,
             "#3e4989"
            ],
            [
             0.3333333333333333,
             "#31688e"
            ],
            [
             0.4444444444444444,
             "#26828e"
            ],
            [
             0.5555555555555556,
             "#1f9e89"
            ],
            [
             0.6666666666666666,
             "#35b779"
            ],
            [
             0.7777777777777778,
             "#6ece58"
            ],
            [
             0.8888888888888888,
             "#b5de2b"
            ],
            [
             1,
             "#fde725"
            ]
           ],
           "sequentialminus": [
            [
             0,
             "#440154"
            ],
            [
             0.1111111111111111,
             "#482878"
            ],
            [
             0.2222222222222222,
             "#3e4989"
            ],
            [
             0.3333333333333333,
             "#31688e"
            ],
            [
             0.4444444444444444,
             "#26828e"
            ],
            [
             0.5555555555555556,
             "#1f9e89"
            ],
            [
             0.6666666666666666,
             "#35b779"
            ],
            [
             0.7777777777777778,
             "#6ece58"
            ],
            [
             0.8888888888888888,
             "#b5de2b"
            ],
            [
             1,
             "#fde725"
            ]
           ]
          },
          "colorway": [
           "#1F77B4",
           "#FF7F0E",
           "#2CA02C",
           "#D62728",
           "#9467BD",
           "#8C564B",
           "#E377C2",
           "#7F7F7F",
           "#BCBD22",
           "#17BECF"
          ],
          "font": {
           "color": "rgb(36,36,36)"
          },
          "geo": {
           "bgcolor": "white",
           "lakecolor": "white",
           "landcolor": "white",
           "showlakes": true,
           "showland": true,
           "subunitcolor": "white"
          },
          "hoverlabel": {
           "align": "left"
          },
          "hovermode": "closest",
          "mapbox": {
           "style": "light"
          },
          "paper_bgcolor": "white",
          "plot_bgcolor": "white",
          "polar": {
           "angularaxis": {
            "gridcolor": "rgb(232,232,232)",
            "linecolor": "rgb(36,36,36)",
            "showgrid": false,
            "showline": true,
            "ticks": "outside"
           },
           "bgcolor": "white",
           "radialaxis": {
            "gridcolor": "rgb(232,232,232)",
            "linecolor": "rgb(36,36,36)",
            "showgrid": false,
            "showline": true,
            "ticks": "outside"
           }
          },
          "scene": {
           "xaxis": {
            "backgroundcolor": "white",
            "gridcolor": "rgb(232,232,232)",
            "gridwidth": 2,
            "linecolor": "rgb(36,36,36)",
            "showbackground": true,
            "showgrid": false,
            "showline": true,
            "ticks": "outside",
            "zeroline": false,
            "zerolinecolor": "rgb(36,36,36)"
           },
           "yaxis": {
            "backgroundcolor": "white",
            "gridcolor": "rgb(232,232,232)",
            "gridwidth": 2,
            "linecolor": "rgb(36,36,36)",
            "showbackground": true,
            "showgrid": false,
            "showline": true,
            "ticks": "outside",
            "zeroline": false,
            "zerolinecolor": "rgb(36,36,36)"
           },
           "zaxis": {
            "backgroundcolor": "white",
            "gridcolor": "rgb(232,232,232)",
            "gridwidth": 2,
            "linecolor": "rgb(36,36,36)",
            "showbackground": true,
            "showgrid": false,
            "showline": true,
            "ticks": "outside",
            "zeroline": false,
            "zerolinecolor": "rgb(36,36,36)"
           }
          },
          "shapedefaults": {
           "fillcolor": "black",
           "line": {
            "width": 0
           },
           "opacity": 0.3
          },
          "ternary": {
           "aaxis": {
            "gridcolor": "rgb(232,232,232)",
            "linecolor": "rgb(36,36,36)",
            "showgrid": false,
            "showline": true,
            "ticks": "outside"
           },
           "baxis": {
            "gridcolor": "rgb(232,232,232)",
            "linecolor": "rgb(36,36,36)",
            "showgrid": false,
            "showline": true,
            "ticks": "outside"
           },
           "bgcolor": "white",
           "caxis": {
            "gridcolor": "rgb(232,232,232)",
            "linecolor": "rgb(36,36,36)",
            "showgrid": false,
            "showline": true,
            "ticks": "outside"
           }
          },
          "title": {
           "x": 0.05
          },
          "xaxis": {
           "automargin": true,
           "gridcolor": "rgb(232,232,232)",
           "linecolor": "rgb(36,36,36)",
           "showgrid": false,
           "showline": true,
           "ticks": "outside",
           "title": {
            "standoff": 15
           },
           "zeroline": false,
           "zerolinecolor": "rgb(36,36,36)"
          },
          "yaxis": {
           "automargin": true,
           "gridcolor": "rgb(232,232,232)",
           "linecolor": "rgb(36,36,36)",
           "showgrid": false,
           "showline": true,
           "ticks": "outside",
           "title": {
            "standoff": 15
           },
           "zeroline": false,
           "zerolinecolor": "rgb(36,36,36)"
          }
         }
        },
        "xaxis": {
         "anchor": "y",
         "domain": [
          0,
          1
         ],
         "title": {
          "text": "body_mass_g"
         }
        },
        "yaxis": {
         "anchor": "x",
         "domain": [
          0,
          1
         ],
         "title": {
          "text": "count"
         }
        }
       }
      }
     },
     "metadata": {},
     "output_type": "display_data"
    }
   ],
   "source": [
    "fig2 = px.histogram(df, x=\"body_mass_g\", template='simple_white')\n",
    "fig2.show()\n"
   ]
  },
  {
   "cell_type": "code",
   "execution_count": 34,
   "metadata": {},
   "outputs": [
    {
     "data": {
      "application/vnd.plotly.v1+json": {
       "config": {
        "plotlyServerURL": "https://plot.ly"
       },
       "data": [
        {
         "alignmentgroup": "True",
         "bingroup": "x",
         "hovertemplate": "sex=%{x}<br>count=%{y}<extra></extra>",
         "legendgroup": "MALE",
         "marker": {
          "color": "#1F77B4",
          "pattern": {
           "shape": ""
          }
         },
         "name": "MALE",
         "offsetgroup": "MALE",
         "orientation": "v",
         "showlegend": true,
         "type": "histogram",
         "x": [
          "MALE",
          "MALE",
          "MALE",
          "MALE",
          "MALE",
          "MALE",
          "MALE",
          "MALE",
          "MALE",
          "MALE",
          "MALE",
          "MALE",
          "MALE",
          "MALE",
          "MALE",
          "MALE",
          "MALE",
          "MALE",
          "MALE",
          "MALE",
          "MALE",
          "MALE",
          "MALE",
          "MALE",
          "MALE",
          "MALE",
          "MALE",
          "MALE",
          "MALE",
          "MALE",
          "MALE",
          "MALE",
          "MALE",
          "MALE",
          "MALE",
          "MALE",
          "MALE",
          "MALE",
          "MALE",
          "MALE",
          "MALE",
          "MALE",
          "MALE",
          "MALE",
          "MALE",
          "MALE",
          "MALE",
          "MALE",
          "MALE",
          "MALE",
          "MALE",
          "MALE",
          "MALE",
          "MALE",
          "MALE",
          "MALE",
          "MALE",
          "MALE",
          "MALE",
          "MALE",
          "MALE",
          "MALE",
          "MALE",
          "MALE",
          "MALE",
          "MALE",
          "MALE",
          "MALE",
          "MALE",
          "MALE",
          "MALE",
          "MALE",
          "MALE",
          "MALE",
          "MALE",
          "MALE",
          "MALE",
          "MALE",
          "MALE",
          "MALE",
          "MALE",
          "MALE",
          "MALE",
          "MALE",
          "MALE",
          "MALE",
          "MALE",
          "MALE",
          "MALE",
          "MALE",
          "MALE",
          "MALE",
          "MALE",
          "MALE",
          "MALE",
          "MALE",
          "MALE",
          "MALE",
          "MALE",
          "MALE",
          "MALE",
          "MALE",
          "MALE",
          "MALE",
          "MALE",
          "MALE",
          "MALE",
          "MALE",
          "MALE",
          "MALE",
          "MALE",
          "MALE",
          "MALE",
          "MALE",
          "MALE",
          "MALE",
          "MALE",
          "MALE",
          "MALE",
          "MALE",
          "MALE",
          "MALE",
          "MALE",
          "MALE",
          "MALE",
          "MALE",
          "MALE",
          "MALE",
          "MALE",
          "MALE",
          "MALE",
          "MALE",
          "MALE",
          "MALE",
          "MALE",
          "MALE",
          "MALE",
          "MALE",
          "MALE",
          "MALE",
          "MALE",
          "MALE",
          "MALE",
          "MALE",
          "MALE",
          "MALE",
          "MALE",
          "MALE",
          "MALE",
          "MALE",
          "MALE",
          "MALE",
          "MALE",
          "MALE",
          "MALE",
          "MALE",
          "MALE",
          "MALE",
          "MALE",
          "MALE",
          "MALE",
          "MALE",
          "MALE",
          "MALE",
          "MALE",
          "MALE",
          "MALE",
          "MALE",
          "MALE",
          "MALE",
          "MALE",
          "MALE",
          "MALE",
          "MALE",
          "MALE",
          "MALE",
          "MALE",
          "MALE"
         ],
         "xaxis": "x",
         "yaxis": "y"
        },
        {
         "alignmentgroup": "True",
         "bingroup": "x",
         "hovertemplate": "sex=%{x}<br>count=%{y}<extra></extra>",
         "legendgroup": "FEMALE",
         "marker": {
          "color": "#FF7F0E",
          "pattern": {
           "shape": ""
          }
         },
         "name": "FEMALE",
         "offsetgroup": "FEMALE",
         "orientation": "v",
         "showlegend": true,
         "type": "histogram",
         "x": [
          "FEMALE",
          "FEMALE",
          "FEMALE",
          "FEMALE",
          "FEMALE",
          "FEMALE",
          "FEMALE",
          "FEMALE",
          "FEMALE",
          "FEMALE",
          "FEMALE",
          "FEMALE",
          "FEMALE",
          "FEMALE",
          "FEMALE",
          "FEMALE",
          "FEMALE",
          "FEMALE",
          "FEMALE",
          "FEMALE",
          "FEMALE",
          "FEMALE",
          "FEMALE",
          "FEMALE",
          "FEMALE",
          "FEMALE",
          "FEMALE",
          "FEMALE",
          "FEMALE",
          "FEMALE",
          "FEMALE",
          "FEMALE",
          "FEMALE",
          "FEMALE",
          "FEMALE",
          "FEMALE",
          "FEMALE",
          "FEMALE",
          "FEMALE",
          "FEMALE",
          "FEMALE",
          "FEMALE",
          "FEMALE",
          "FEMALE",
          "FEMALE",
          "FEMALE",
          "FEMALE",
          "FEMALE",
          "FEMALE",
          "FEMALE",
          "FEMALE",
          "FEMALE",
          "FEMALE",
          "FEMALE",
          "FEMALE",
          "FEMALE",
          "FEMALE",
          "FEMALE",
          "FEMALE",
          "FEMALE",
          "FEMALE",
          "FEMALE",
          "FEMALE",
          "FEMALE",
          "FEMALE",
          "FEMALE",
          "FEMALE",
          "FEMALE",
          "FEMALE",
          "FEMALE",
          "FEMALE",
          "FEMALE",
          "FEMALE",
          "FEMALE",
          "FEMALE",
          "FEMALE",
          "FEMALE",
          "FEMALE",
          "FEMALE",
          "FEMALE",
          "FEMALE",
          "FEMALE",
          "FEMALE",
          "FEMALE",
          "FEMALE",
          "FEMALE",
          "FEMALE",
          "FEMALE",
          "FEMALE",
          "FEMALE",
          "FEMALE",
          "FEMALE",
          "FEMALE",
          "FEMALE",
          "FEMALE",
          "FEMALE",
          "FEMALE",
          "FEMALE",
          "FEMALE",
          "FEMALE",
          "FEMALE",
          "FEMALE",
          "FEMALE",
          "FEMALE",
          "FEMALE",
          "FEMALE",
          "FEMALE",
          "FEMALE",
          "FEMALE",
          "FEMALE",
          "FEMALE",
          "FEMALE",
          "FEMALE",
          "FEMALE",
          "FEMALE",
          "FEMALE",
          "FEMALE",
          "FEMALE",
          "FEMALE",
          "FEMALE",
          "FEMALE",
          "FEMALE",
          "FEMALE",
          "FEMALE",
          "FEMALE",
          "FEMALE",
          "FEMALE",
          "FEMALE",
          "FEMALE",
          "FEMALE",
          "FEMALE",
          "FEMALE",
          "FEMALE",
          "FEMALE",
          "FEMALE",
          "FEMALE",
          "FEMALE",
          "FEMALE",
          "FEMALE",
          "FEMALE",
          "FEMALE",
          "FEMALE",
          "FEMALE",
          "FEMALE",
          "FEMALE",
          "FEMALE",
          "FEMALE",
          "FEMALE",
          "FEMALE",
          "FEMALE",
          "FEMALE",
          "FEMALE",
          "FEMALE",
          "FEMALE",
          "FEMALE",
          "FEMALE",
          "FEMALE",
          "FEMALE",
          "FEMALE",
          "FEMALE",
          "FEMALE",
          "FEMALE",
          "FEMALE",
          "FEMALE",
          "FEMALE",
          "FEMALE"
         ],
         "xaxis": "x",
         "yaxis": "y"
        }
       ],
       "layout": {
        "barmode": "relative",
        "legend": {
         "title": {
          "text": "sex"
         },
         "tracegroupgap": 0
        },
        "margin": {
         "t": 60
        },
        "template": {
         "data": {
          "bar": [
           {
            "error_x": {
             "color": "rgb(36,36,36)"
            },
            "error_y": {
             "color": "rgb(36,36,36)"
            },
            "marker": {
             "line": {
              "color": "white",
              "width": 0.5
             },
             "pattern": {
              "fillmode": "overlay",
              "size": 10,
              "solidity": 0.2
             }
            },
            "type": "bar"
           }
          ],
          "barpolar": [
           {
            "marker": {
             "line": {
              "color": "white",
              "width": 0.5
             },
             "pattern": {
              "fillmode": "overlay",
              "size": 10,
              "solidity": 0.2
             }
            },
            "type": "barpolar"
           }
          ],
          "carpet": [
           {
            "aaxis": {
             "endlinecolor": "rgb(36,36,36)",
             "gridcolor": "white",
             "linecolor": "white",
             "minorgridcolor": "white",
             "startlinecolor": "rgb(36,36,36)"
            },
            "baxis": {
             "endlinecolor": "rgb(36,36,36)",
             "gridcolor": "white",
             "linecolor": "white",
             "minorgridcolor": "white",
             "startlinecolor": "rgb(36,36,36)"
            },
            "type": "carpet"
           }
          ],
          "choropleth": [
           {
            "colorbar": {
             "outlinewidth": 1,
             "tickcolor": "rgb(36,36,36)",
             "ticks": "outside"
            },
            "type": "choropleth"
           }
          ],
          "contour": [
           {
            "colorbar": {
             "outlinewidth": 1,
             "tickcolor": "rgb(36,36,36)",
             "ticks": "outside"
            },
            "colorscale": [
             [
              0,
              "#440154"
             ],
             [
              0.1111111111111111,
              "#482878"
             ],
             [
              0.2222222222222222,
              "#3e4989"
             ],
             [
              0.3333333333333333,
              "#31688e"
             ],
             [
              0.4444444444444444,
              "#26828e"
             ],
             [
              0.5555555555555556,
              "#1f9e89"
             ],
             [
              0.6666666666666666,
              "#35b779"
             ],
             [
              0.7777777777777778,
              "#6ece58"
             ],
             [
              0.8888888888888888,
              "#b5de2b"
             ],
             [
              1,
              "#fde725"
             ]
            ],
            "type": "contour"
           }
          ],
          "contourcarpet": [
           {
            "colorbar": {
             "outlinewidth": 1,
             "tickcolor": "rgb(36,36,36)",
             "ticks": "outside"
            },
            "type": "contourcarpet"
           }
          ],
          "heatmap": [
           {
            "colorbar": {
             "outlinewidth": 1,
             "tickcolor": "rgb(36,36,36)",
             "ticks": "outside"
            },
            "colorscale": [
             [
              0,
              "#440154"
             ],
             [
              0.1111111111111111,
              "#482878"
             ],
             [
              0.2222222222222222,
              "#3e4989"
             ],
             [
              0.3333333333333333,
              "#31688e"
             ],
             [
              0.4444444444444444,
              "#26828e"
             ],
             [
              0.5555555555555556,
              "#1f9e89"
             ],
             [
              0.6666666666666666,
              "#35b779"
             ],
             [
              0.7777777777777778,
              "#6ece58"
             ],
             [
              0.8888888888888888,
              "#b5de2b"
             ],
             [
              1,
              "#fde725"
             ]
            ],
            "type": "heatmap"
           }
          ],
          "heatmapgl": [
           {
            "colorbar": {
             "outlinewidth": 1,
             "tickcolor": "rgb(36,36,36)",
             "ticks": "outside"
            },
            "colorscale": [
             [
              0,
              "#440154"
             ],
             [
              0.1111111111111111,
              "#482878"
             ],
             [
              0.2222222222222222,
              "#3e4989"
             ],
             [
              0.3333333333333333,
              "#31688e"
             ],
             [
              0.4444444444444444,
              "#26828e"
             ],
             [
              0.5555555555555556,
              "#1f9e89"
             ],
             [
              0.6666666666666666,
              "#35b779"
             ],
             [
              0.7777777777777778,
              "#6ece58"
             ],
             [
              0.8888888888888888,
              "#b5de2b"
             ],
             [
              1,
              "#fde725"
             ]
            ],
            "type": "heatmapgl"
           }
          ],
          "histogram": [
           {
            "marker": {
             "line": {
              "color": "white",
              "width": 0.6
             }
            },
            "type": "histogram"
           }
          ],
          "histogram2d": [
           {
            "colorbar": {
             "outlinewidth": 1,
             "tickcolor": "rgb(36,36,36)",
             "ticks": "outside"
            },
            "colorscale": [
             [
              0,
              "#440154"
             ],
             [
              0.1111111111111111,
              "#482878"
             ],
             [
              0.2222222222222222,
              "#3e4989"
             ],
             [
              0.3333333333333333,
              "#31688e"
             ],
             [
              0.4444444444444444,
              "#26828e"
             ],
             [
              0.5555555555555556,
              "#1f9e89"
             ],
             [
              0.6666666666666666,
              "#35b779"
             ],
             [
              0.7777777777777778,
              "#6ece58"
             ],
             [
              0.8888888888888888,
              "#b5de2b"
             ],
             [
              1,
              "#fde725"
             ]
            ],
            "type": "histogram2d"
           }
          ],
          "histogram2dcontour": [
           {
            "colorbar": {
             "outlinewidth": 1,
             "tickcolor": "rgb(36,36,36)",
             "ticks": "outside"
            },
            "colorscale": [
             [
              0,
              "#440154"
             ],
             [
              0.1111111111111111,
              "#482878"
             ],
             [
              0.2222222222222222,
              "#3e4989"
             ],
             [
              0.3333333333333333,
              "#31688e"
             ],
             [
              0.4444444444444444,
              "#26828e"
             ],
             [
              0.5555555555555556,
              "#1f9e89"
             ],
             [
              0.6666666666666666,
              "#35b779"
             ],
             [
              0.7777777777777778,
              "#6ece58"
             ],
             [
              0.8888888888888888,
              "#b5de2b"
             ],
             [
              1,
              "#fde725"
             ]
            ],
            "type": "histogram2dcontour"
           }
          ],
          "mesh3d": [
           {
            "colorbar": {
             "outlinewidth": 1,
             "tickcolor": "rgb(36,36,36)",
             "ticks": "outside"
            },
            "type": "mesh3d"
           }
          ],
          "parcoords": [
           {
            "line": {
             "colorbar": {
              "outlinewidth": 1,
              "tickcolor": "rgb(36,36,36)",
              "ticks": "outside"
             }
            },
            "type": "parcoords"
           }
          ],
          "pie": [
           {
            "automargin": true,
            "type": "pie"
           }
          ],
          "scatter": [
           {
            "fillpattern": {
             "fillmode": "overlay",
             "size": 10,
             "solidity": 0.2
            },
            "type": "scatter"
           }
          ],
          "scatter3d": [
           {
            "line": {
             "colorbar": {
              "outlinewidth": 1,
              "tickcolor": "rgb(36,36,36)",
              "ticks": "outside"
             }
            },
            "marker": {
             "colorbar": {
              "outlinewidth": 1,
              "tickcolor": "rgb(36,36,36)",
              "ticks": "outside"
             }
            },
            "type": "scatter3d"
           }
          ],
          "scattercarpet": [
           {
            "marker": {
             "colorbar": {
              "outlinewidth": 1,
              "tickcolor": "rgb(36,36,36)",
              "ticks": "outside"
             }
            },
            "type": "scattercarpet"
           }
          ],
          "scattergeo": [
           {
            "marker": {
             "colorbar": {
              "outlinewidth": 1,
              "tickcolor": "rgb(36,36,36)",
              "ticks": "outside"
             }
            },
            "type": "scattergeo"
           }
          ],
          "scattergl": [
           {
            "marker": {
             "colorbar": {
              "outlinewidth": 1,
              "tickcolor": "rgb(36,36,36)",
              "ticks": "outside"
             }
            },
            "type": "scattergl"
           }
          ],
          "scattermapbox": [
           {
            "marker": {
             "colorbar": {
              "outlinewidth": 1,
              "tickcolor": "rgb(36,36,36)",
              "ticks": "outside"
             }
            },
            "type": "scattermapbox"
           }
          ],
          "scatterpolar": [
           {
            "marker": {
             "colorbar": {
              "outlinewidth": 1,
              "tickcolor": "rgb(36,36,36)",
              "ticks": "outside"
             }
            },
            "type": "scatterpolar"
           }
          ],
          "scatterpolargl": [
           {
            "marker": {
             "colorbar": {
              "outlinewidth": 1,
              "tickcolor": "rgb(36,36,36)",
              "ticks": "outside"
             }
            },
            "type": "scatterpolargl"
           }
          ],
          "scatterternary": [
           {
            "marker": {
             "colorbar": {
              "outlinewidth": 1,
              "tickcolor": "rgb(36,36,36)",
              "ticks": "outside"
             }
            },
            "type": "scatterternary"
           }
          ],
          "surface": [
           {
            "colorbar": {
             "outlinewidth": 1,
             "tickcolor": "rgb(36,36,36)",
             "ticks": "outside"
            },
            "colorscale": [
             [
              0,
              "#440154"
             ],
             [
              0.1111111111111111,
              "#482878"
             ],
             [
              0.2222222222222222,
              "#3e4989"
             ],
             [
              0.3333333333333333,
              "#31688e"
             ],
             [
              0.4444444444444444,
              "#26828e"
             ],
             [
              0.5555555555555556,
              "#1f9e89"
             ],
             [
              0.6666666666666666,
              "#35b779"
             ],
             [
              0.7777777777777778,
              "#6ece58"
             ],
             [
              0.8888888888888888,
              "#b5de2b"
             ],
             [
              1,
              "#fde725"
             ]
            ],
            "type": "surface"
           }
          ],
          "table": [
           {
            "cells": {
             "fill": {
              "color": "rgb(237,237,237)"
             },
             "line": {
              "color": "white"
             }
            },
            "header": {
             "fill": {
              "color": "rgb(217,217,217)"
             },
             "line": {
              "color": "white"
             }
            },
            "type": "table"
           }
          ]
         },
         "layout": {
          "annotationdefaults": {
           "arrowhead": 0,
           "arrowwidth": 1
          },
          "autotypenumbers": "strict",
          "coloraxis": {
           "colorbar": {
            "outlinewidth": 1,
            "tickcolor": "rgb(36,36,36)",
            "ticks": "outside"
           }
          },
          "colorscale": {
           "diverging": [
            [
             0,
             "rgb(103,0,31)"
            ],
            [
             0.1,
             "rgb(178,24,43)"
            ],
            [
             0.2,
             "rgb(214,96,77)"
            ],
            [
             0.3,
             "rgb(244,165,130)"
            ],
            [
             0.4,
             "rgb(253,219,199)"
            ],
            [
             0.5,
             "rgb(247,247,247)"
            ],
            [
             0.6,
             "rgb(209,229,240)"
            ],
            [
             0.7,
             "rgb(146,197,222)"
            ],
            [
             0.8,
             "rgb(67,147,195)"
            ],
            [
             0.9,
             "rgb(33,102,172)"
            ],
            [
             1,
             "rgb(5,48,97)"
            ]
           ],
           "sequential": [
            [
             0,
             "#440154"
            ],
            [
             0.1111111111111111,
             "#482878"
            ],
            [
             0.2222222222222222,
             "#3e4989"
            ],
            [
             0.3333333333333333,
             "#31688e"
            ],
            [
             0.4444444444444444,
             "#26828e"
            ],
            [
             0.5555555555555556,
             "#1f9e89"
            ],
            [
             0.6666666666666666,
             "#35b779"
            ],
            [
             0.7777777777777778,
             "#6ece58"
            ],
            [
             0.8888888888888888,
             "#b5de2b"
            ],
            [
             1,
             "#fde725"
            ]
           ],
           "sequentialminus": [
            [
             0,
             "#440154"
            ],
            [
             0.1111111111111111,
             "#482878"
            ],
            [
             0.2222222222222222,
             "#3e4989"
            ],
            [
             0.3333333333333333,
             "#31688e"
            ],
            [
             0.4444444444444444,
             "#26828e"
            ],
            [
             0.5555555555555556,
             "#1f9e89"
            ],
            [
             0.6666666666666666,
             "#35b779"
            ],
            [
             0.7777777777777778,
             "#6ece58"
            ],
            [
             0.8888888888888888,
             "#b5de2b"
            ],
            [
             1,
             "#fde725"
            ]
           ]
          },
          "colorway": [
           "#1F77B4",
           "#FF7F0E",
           "#2CA02C",
           "#D62728",
           "#9467BD",
           "#8C564B",
           "#E377C2",
           "#7F7F7F",
           "#BCBD22",
           "#17BECF"
          ],
          "font": {
           "color": "rgb(36,36,36)"
          },
          "geo": {
           "bgcolor": "white",
           "lakecolor": "white",
           "landcolor": "white",
           "showlakes": true,
           "showland": true,
           "subunitcolor": "white"
          },
          "hoverlabel": {
           "align": "left"
          },
          "hovermode": "closest",
          "mapbox": {
           "style": "light"
          },
          "paper_bgcolor": "white",
          "plot_bgcolor": "white",
          "polar": {
           "angularaxis": {
            "gridcolor": "rgb(232,232,232)",
            "linecolor": "rgb(36,36,36)",
            "showgrid": false,
            "showline": true,
            "ticks": "outside"
           },
           "bgcolor": "white",
           "radialaxis": {
            "gridcolor": "rgb(232,232,232)",
            "linecolor": "rgb(36,36,36)",
            "showgrid": false,
            "showline": true,
            "ticks": "outside"
           }
          },
          "scene": {
           "xaxis": {
            "backgroundcolor": "white",
            "gridcolor": "rgb(232,232,232)",
            "gridwidth": 2,
            "linecolor": "rgb(36,36,36)",
            "showbackground": true,
            "showgrid": false,
            "showline": true,
            "ticks": "outside",
            "zeroline": false,
            "zerolinecolor": "rgb(36,36,36)"
           },
           "yaxis": {
            "backgroundcolor": "white",
            "gridcolor": "rgb(232,232,232)",
            "gridwidth": 2,
            "linecolor": "rgb(36,36,36)",
            "showbackground": true,
            "showgrid": false,
            "showline": true,
            "ticks": "outside",
            "zeroline": false,
            "zerolinecolor": "rgb(36,36,36)"
           },
           "zaxis": {
            "backgroundcolor": "white",
            "gridcolor": "rgb(232,232,232)",
            "gridwidth": 2,
            "linecolor": "rgb(36,36,36)",
            "showbackground": true,
            "showgrid": false,
            "showline": true,
            "ticks": "outside",
            "zeroline": false,
            "zerolinecolor": "rgb(36,36,36)"
           }
          },
          "shapedefaults": {
           "fillcolor": "black",
           "line": {
            "width": 0
           },
           "opacity": 0.3
          },
          "ternary": {
           "aaxis": {
            "gridcolor": "rgb(232,232,232)",
            "linecolor": "rgb(36,36,36)",
            "showgrid": false,
            "showline": true,
            "ticks": "outside"
           },
           "baxis": {
            "gridcolor": "rgb(232,232,232)",
            "linecolor": "rgb(36,36,36)",
            "showgrid": false,
            "showline": true,
            "ticks": "outside"
           },
           "bgcolor": "white",
           "caxis": {
            "gridcolor": "rgb(232,232,232)",
            "linecolor": "rgb(36,36,36)",
            "showgrid": false,
            "showline": true,
            "ticks": "outside"
           }
          },
          "title": {
           "x": 0.05
          },
          "xaxis": {
           "automargin": true,
           "gridcolor": "rgb(232,232,232)",
           "linecolor": "rgb(36,36,36)",
           "showgrid": false,
           "showline": true,
           "ticks": "outside",
           "title": {
            "standoff": 15
           },
           "zeroline": false,
           "zerolinecolor": "rgb(36,36,36)"
          },
          "yaxis": {
           "automargin": true,
           "gridcolor": "rgb(232,232,232)",
           "linecolor": "rgb(36,36,36)",
           "showgrid": false,
           "showline": true,
           "ticks": "outside",
           "title": {
            "standoff": 15
           },
           "zeroline": false,
           "zerolinecolor": "rgb(36,36,36)"
          }
         }
        },
        "xaxis": {
         "anchor": "y",
         "categoryarray": [
          "MALE",
          "FEMALE"
         ],
         "categoryorder": "array",
         "domain": [
          0,
          1
         ],
         "title": {
          "text": "sex"
         }
        },
        "yaxis": {
         "anchor": "x",
         "domain": [
          0,
          1
         ],
         "title": {
          "text": "count"
         }
        }
       }
      }
     },
     "metadata": {},
     "output_type": "display_data"
    }
   ],
   "source": [
    "fig = px.histogram(df, x='sex' ,template='simple_white',color='sex')\n",
    "fig.show()\n"
   ]
  },
  {
   "cell_type": "code",
   "execution_count": 29,
   "metadata": {},
   "outputs": [],
   "source": [
    "# df = df.dropna(axis=0, subset=['culmen_length_mm',\n",
    "#                                'culmen_depth_mm', 'flipper_length_mm', 'body_mass_g'])\n",
    "# df['sex'] = df['sex'].fillna(df['sex'].mode()[0])\n",
    "# df.loc[df['sex'] == '.', 'sex'] = 'MALE'\n"
   ]
  },
  {
   "cell_type": "code",
   "execution_count": null,
   "metadata": {},
   "outputs": [],
   "source": []
  },
  {
   "cell_type": "code",
   "execution_count": 30,
   "metadata": {},
   "outputs": [],
   "source": [
    "# cols=['species','sex','island']\n",
    "# from sklearn import preprocessing\n",
    "# label_encoder = preprocessing.LabelEncoder()\n",
    "# for col in cols:\n",
    "#     df[col]=label_encoder.fit_transform(df[col])\n"
   ]
  },
  {
   "cell_type": "code",
   "execution_count": 31,
   "metadata": {},
   "outputs": [
    {
     "name": "stderr",
     "output_type": "stream",
     "text": [
      "c:\\Users\\Ahmed Atef\\anaconda3\\lib\\site-packages\\sklearn\\manifold\\_t_sne.py:790: FutureWarning:\n",
      "\n",
      "The default learning rate in TSNE will change from 200.0 to 'auto' in 1.2.\n",
      "\n"
     ]
    },
    {
     "ename": "ValueError",
     "evalue": "could not convert string to float: 'Torgersen'",
     "output_type": "error",
     "traceback": [
      "\u001b[1;31m---------------------------------------------------------------------------\u001b[0m",
      "\u001b[1;31mValueError\u001b[0m                                Traceback (most recent call last)",
      "\u001b[1;32mf:\\clustering-classification-dashboard\\Plots Exploration.ipynb Cell 9'\u001b[0m in \u001b[0;36m<cell line: 4>\u001b[1;34m()\u001b[0m\n\u001b[0;32m      <a href='vscode-notebook-cell:/f%3A/clustering-classification-dashboard/Plots%20Exploration.ipynb#ch0000007?line=1'>2</a>\u001b[0m train_data\u001b[39m=\u001b[39mdf\u001b[39m.\u001b[39mdrop(columns\u001b[39m=\u001b[39m[\u001b[39m'\u001b[39m\u001b[39mspecies\u001b[39m\u001b[39m'\u001b[39m])\n\u001b[0;32m      <a href='vscode-notebook-cell:/f%3A/clustering-classification-dashboard/Plots%20Exploration.ipynb#ch0000007?line=2'>3</a>\u001b[0m tsne \u001b[39m=\u001b[39m TSNE(init\u001b[39m=\u001b[39m\u001b[39m'\u001b[39m\u001b[39mpca\u001b[39m\u001b[39m'\u001b[39m,n_components\u001b[39m=\u001b[39m\u001b[39m3\u001b[39m, random_state\u001b[39m=\u001b[39m\u001b[39m0\u001b[39m)\n\u001b[1;32m----> <a href='vscode-notebook-cell:/f%3A/clustering-classification-dashboard/Plots%20Exploration.ipynb#ch0000007?line=3'>4</a>\u001b[0m projections \u001b[39m=\u001b[39m pd\u001b[39m.\u001b[39mDataFrame(tsne\u001b[39m.\u001b[39;49mfit_transform(train_data))\n\u001b[0;32m      <a href='vscode-notebook-cell:/f%3A/clustering-classification-dashboard/Plots%20Exploration.ipynb#ch0000007?line=5'>6</a>\u001b[0m fig \u001b[39m=\u001b[39m px\u001b[39m.\u001b[39mscatter_3d(\n\u001b[0;32m      <a href='vscode-notebook-cell:/f%3A/clustering-classification-dashboard/Plots%20Exploration.ipynb#ch0000007?line=6'>7</a>\u001b[0m     projections, x\u001b[39m=\u001b[39m\u001b[39m0\u001b[39m, y\u001b[39m=\u001b[39m\u001b[39m1\u001b[39m,z\u001b[39m=\u001b[39m\u001b[39m2\u001b[39m,\n\u001b[0;32m      <a href='vscode-notebook-cell:/f%3A/clustering-classification-dashboard/Plots%20Exploration.ipynb#ch0000007?line=7'>8</a>\u001b[0m     color\u001b[39m=\u001b[39mdf\u001b[39m.\u001b[39mspecies, labels\u001b[39m=\u001b[39m{\u001b[39m'\u001b[39m\u001b[39mcolor\u001b[39m\u001b[39m'\u001b[39m: \u001b[39m'\u001b[39m\u001b[39mspecies\u001b[39m\u001b[39m'\u001b[39m}\n\u001b[0;32m      <a href='vscode-notebook-cell:/f%3A/clustering-classification-dashboard/Plots%20Exploration.ipynb#ch0000007?line=8'>9</a>\u001b[0m )\n\u001b[0;32m     <a href='vscode-notebook-cell:/f%3A/clustering-classification-dashboard/Plots%20Exploration.ipynb#ch0000007?line=9'>10</a>\u001b[0m fig\u001b[39m.\u001b[39mshow()\n",
      "File \u001b[1;32mc:\\Users\\Ahmed Atef\\anaconda3\\lib\\site-packages\\sklearn\\manifold\\_t_sne.py:1108\u001b[0m, in \u001b[0;36mTSNE.fit_transform\u001b[1;34m(self, X, y)\u001b[0m\n\u001b[0;32m   <a href='file:///c%3A/Users/Ahmed%20Atef/anaconda3/lib/site-packages/sklearn/manifold/_t_sne.py?line=1087'>1088</a>\u001b[0m \u001b[39mdef\u001b[39;00m \u001b[39mfit_transform\u001b[39m(\u001b[39mself\u001b[39m, X, y\u001b[39m=\u001b[39m\u001b[39mNone\u001b[39;00m):\n\u001b[0;32m   <a href='file:///c%3A/Users/Ahmed%20Atef/anaconda3/lib/site-packages/sklearn/manifold/_t_sne.py?line=1088'>1089</a>\u001b[0m     \u001b[39m\"\"\"Fit X into an embedded space and return that transformed output.\u001b[39;00m\n\u001b[0;32m   <a href='file:///c%3A/Users/Ahmed%20Atef/anaconda3/lib/site-packages/sklearn/manifold/_t_sne.py?line=1089'>1090</a>\u001b[0m \n\u001b[0;32m   <a href='file:///c%3A/Users/Ahmed%20Atef/anaconda3/lib/site-packages/sklearn/manifold/_t_sne.py?line=1090'>1091</a>\u001b[0m \u001b[39m    Parameters\u001b[39;00m\n\u001b[1;32m   (...)\u001b[0m\n\u001b[0;32m   <a href='file:///c%3A/Users/Ahmed%20Atef/anaconda3/lib/site-packages/sklearn/manifold/_t_sne.py?line=1105'>1106</a>\u001b[0m \u001b[39m        Embedding of the training data in low-dimensional space.\u001b[39;00m\n\u001b[0;32m   <a href='file:///c%3A/Users/Ahmed%20Atef/anaconda3/lib/site-packages/sklearn/manifold/_t_sne.py?line=1106'>1107</a>\u001b[0m \u001b[39m    \"\"\"\u001b[39;00m\n\u001b[1;32m-> <a href='file:///c%3A/Users/Ahmed%20Atef/anaconda3/lib/site-packages/sklearn/manifold/_t_sne.py?line=1107'>1108</a>\u001b[0m     embedding \u001b[39m=\u001b[39m \u001b[39mself\u001b[39;49m\u001b[39m.\u001b[39;49m_fit(X)\n\u001b[0;32m   <a href='file:///c%3A/Users/Ahmed%20Atef/anaconda3/lib/site-packages/sklearn/manifold/_t_sne.py?line=1108'>1109</a>\u001b[0m     \u001b[39mself\u001b[39m\u001b[39m.\u001b[39membedding_ \u001b[39m=\u001b[39m embedding\n\u001b[0;32m   <a href='file:///c%3A/Users/Ahmed%20Atef/anaconda3/lib/site-packages/sklearn/manifold/_t_sne.py?line=1109'>1110</a>\u001b[0m     \u001b[39mreturn\u001b[39;00m \u001b[39mself\u001b[39m\u001b[39m.\u001b[39membedding_\n",
      "File \u001b[1;32mc:\\Users\\Ahmed Atef\\anaconda3\\lib\\site-packages\\sklearn\\manifold\\_t_sne.py:830\u001b[0m, in \u001b[0;36mTSNE._fit\u001b[1;34m(self, X, skip_num_points)\u001b[0m\n\u001b[0;32m    <a href='file:///c%3A/Users/Ahmed%20Atef/anaconda3/lib/site-packages/sklearn/manifold/_t_sne.py?line=818'>819</a>\u001b[0m     warnings\u001b[39m.\u001b[39mwarn(\n\u001b[0;32m    <a href='file:///c%3A/Users/Ahmed%20Atef/anaconda3/lib/site-packages/sklearn/manifold/_t_sne.py?line=819'>820</a>\u001b[0m         \u001b[39m\"\u001b[39m\u001b[39m'\u001b[39m\u001b[39msquare_distances\u001b[39m\u001b[39m'\u001b[39m\u001b[39m has been introduced in 0.24 to help phase \u001b[39m\u001b[39m\"\u001b[39m\n\u001b[0;32m    <a href='file:///c%3A/Users/Ahmed%20Atef/anaconda3/lib/site-packages/sklearn/manifold/_t_sne.py?line=820'>821</a>\u001b[0m         \u001b[39m\"\u001b[39m\u001b[39mout legacy squaring behavior. The \u001b[39m\u001b[39m'\u001b[39m\u001b[39mlegacy\u001b[39m\u001b[39m'\u001b[39m\u001b[39m setting will be \u001b[39m\u001b[39m\"\u001b[39m\n\u001b[1;32m   (...)\u001b[0m\n\u001b[0;32m    <a href='file:///c%3A/Users/Ahmed%20Atef/anaconda3/lib/site-packages/sklearn/manifold/_t_sne.py?line=826'>827</a>\u001b[0m         \u001b[39mFutureWarning\u001b[39;00m,\n\u001b[0;32m    <a href='file:///c%3A/Users/Ahmed%20Atef/anaconda3/lib/site-packages/sklearn/manifold/_t_sne.py?line=827'>828</a>\u001b[0m     )\n\u001b[0;32m    <a href='file:///c%3A/Users/Ahmed%20Atef/anaconda3/lib/site-packages/sklearn/manifold/_t_sne.py?line=828'>829</a>\u001b[0m \u001b[39mif\u001b[39;00m \u001b[39mself\u001b[39m\u001b[39m.\u001b[39mmethod \u001b[39m==\u001b[39m \u001b[39m\"\u001b[39m\u001b[39mbarnes_hut\u001b[39m\u001b[39m\"\u001b[39m:\n\u001b[1;32m--> <a href='file:///c%3A/Users/Ahmed%20Atef/anaconda3/lib/site-packages/sklearn/manifold/_t_sne.py?line=829'>830</a>\u001b[0m     X \u001b[39m=\u001b[39m \u001b[39mself\u001b[39;49m\u001b[39m.\u001b[39;49m_validate_data(\n\u001b[0;32m    <a href='file:///c%3A/Users/Ahmed%20Atef/anaconda3/lib/site-packages/sklearn/manifold/_t_sne.py?line=830'>831</a>\u001b[0m         X,\n\u001b[0;32m    <a href='file:///c%3A/Users/Ahmed%20Atef/anaconda3/lib/site-packages/sklearn/manifold/_t_sne.py?line=831'>832</a>\u001b[0m         accept_sparse\u001b[39m=\u001b[39;49m[\u001b[39m\"\u001b[39;49m\u001b[39mcsr\u001b[39;49m\u001b[39m\"\u001b[39;49m],\n\u001b[0;32m    <a href='file:///c%3A/Users/Ahmed%20Atef/anaconda3/lib/site-packages/sklearn/manifold/_t_sne.py?line=832'>833</a>\u001b[0m         ensure_min_samples\u001b[39m=\u001b[39;49m\u001b[39m2\u001b[39;49m,\n\u001b[0;32m    <a href='file:///c%3A/Users/Ahmed%20Atef/anaconda3/lib/site-packages/sklearn/manifold/_t_sne.py?line=833'>834</a>\u001b[0m         dtype\u001b[39m=\u001b[39;49m[np\u001b[39m.\u001b[39;49mfloat32, np\u001b[39m.\u001b[39;49mfloat64],\n\u001b[0;32m    <a href='file:///c%3A/Users/Ahmed%20Atef/anaconda3/lib/site-packages/sklearn/manifold/_t_sne.py?line=834'>835</a>\u001b[0m     )\n\u001b[0;32m    <a href='file:///c%3A/Users/Ahmed%20Atef/anaconda3/lib/site-packages/sklearn/manifold/_t_sne.py?line=835'>836</a>\u001b[0m \u001b[39melse\u001b[39;00m:\n\u001b[0;32m    <a href='file:///c%3A/Users/Ahmed%20Atef/anaconda3/lib/site-packages/sklearn/manifold/_t_sne.py?line=836'>837</a>\u001b[0m     X \u001b[39m=\u001b[39m \u001b[39mself\u001b[39m\u001b[39m.\u001b[39m_validate_data(\n\u001b[0;32m    <a href='file:///c%3A/Users/Ahmed%20Atef/anaconda3/lib/site-packages/sklearn/manifold/_t_sne.py?line=837'>838</a>\u001b[0m         X, accept_sparse\u001b[39m=\u001b[39m[\u001b[39m\"\u001b[39m\u001b[39mcsr\u001b[39m\u001b[39m\"\u001b[39m, \u001b[39m\"\u001b[39m\u001b[39mcsc\u001b[39m\u001b[39m\"\u001b[39m, \u001b[39m\"\u001b[39m\u001b[39mcoo\u001b[39m\u001b[39m\"\u001b[39m], dtype\u001b[39m=\u001b[39m[np\u001b[39m.\u001b[39mfloat32, np\u001b[39m.\u001b[39mfloat64]\n\u001b[0;32m    <a href='file:///c%3A/Users/Ahmed%20Atef/anaconda3/lib/site-packages/sklearn/manifold/_t_sne.py?line=838'>839</a>\u001b[0m     )\n",
      "File \u001b[1;32mc:\\Users\\Ahmed Atef\\anaconda3\\lib\\site-packages\\sklearn\\base.py:566\u001b[0m, in \u001b[0;36mBaseEstimator._validate_data\u001b[1;34m(self, X, y, reset, validate_separately, **check_params)\u001b[0m\n\u001b[0;32m    <a href='file:///c%3A/Users/Ahmed%20Atef/anaconda3/lib/site-packages/sklearn/base.py?line=563'>564</a>\u001b[0m     \u001b[39mraise\u001b[39;00m \u001b[39mValueError\u001b[39;00m(\u001b[39m\"\u001b[39m\u001b[39mValidation should be done on X, y or both.\u001b[39m\u001b[39m\"\u001b[39m)\n\u001b[0;32m    <a href='file:///c%3A/Users/Ahmed%20Atef/anaconda3/lib/site-packages/sklearn/base.py?line=564'>565</a>\u001b[0m \u001b[39melif\u001b[39;00m \u001b[39mnot\u001b[39;00m no_val_X \u001b[39mand\u001b[39;00m no_val_y:\n\u001b[1;32m--> <a href='file:///c%3A/Users/Ahmed%20Atef/anaconda3/lib/site-packages/sklearn/base.py?line=565'>566</a>\u001b[0m     X \u001b[39m=\u001b[39m check_array(X, \u001b[39m*\u001b[39;49m\u001b[39m*\u001b[39;49mcheck_params)\n\u001b[0;32m    <a href='file:///c%3A/Users/Ahmed%20Atef/anaconda3/lib/site-packages/sklearn/base.py?line=566'>567</a>\u001b[0m     out \u001b[39m=\u001b[39m X\n\u001b[0;32m    <a href='file:///c%3A/Users/Ahmed%20Atef/anaconda3/lib/site-packages/sklearn/base.py?line=567'>568</a>\u001b[0m \u001b[39melif\u001b[39;00m no_val_X \u001b[39mand\u001b[39;00m \u001b[39mnot\u001b[39;00m no_val_y:\n",
      "File \u001b[1;32mc:\\Users\\Ahmed Atef\\anaconda3\\lib\\site-packages\\sklearn\\utils\\validation.py:746\u001b[0m, in \u001b[0;36mcheck_array\u001b[1;34m(array, accept_sparse, accept_large_sparse, dtype, order, copy, force_all_finite, ensure_2d, allow_nd, ensure_min_samples, ensure_min_features, estimator)\u001b[0m\n\u001b[0;32m    <a href='file:///c%3A/Users/Ahmed%20Atef/anaconda3/lib/site-packages/sklearn/utils/validation.py?line=743'>744</a>\u001b[0m         array \u001b[39m=\u001b[39m array\u001b[39m.\u001b[39mastype(dtype, casting\u001b[39m=\u001b[39m\u001b[39m\"\u001b[39m\u001b[39munsafe\u001b[39m\u001b[39m\"\u001b[39m, copy\u001b[39m=\u001b[39m\u001b[39mFalse\u001b[39;00m)\n\u001b[0;32m    <a href='file:///c%3A/Users/Ahmed%20Atef/anaconda3/lib/site-packages/sklearn/utils/validation.py?line=744'>745</a>\u001b[0m     \u001b[39melse\u001b[39;00m:\n\u001b[1;32m--> <a href='file:///c%3A/Users/Ahmed%20Atef/anaconda3/lib/site-packages/sklearn/utils/validation.py?line=745'>746</a>\u001b[0m         array \u001b[39m=\u001b[39m np\u001b[39m.\u001b[39;49masarray(array, order\u001b[39m=\u001b[39;49morder, dtype\u001b[39m=\u001b[39;49mdtype)\n\u001b[0;32m    <a href='file:///c%3A/Users/Ahmed%20Atef/anaconda3/lib/site-packages/sklearn/utils/validation.py?line=746'>747</a>\u001b[0m \u001b[39mexcept\u001b[39;00m ComplexWarning \u001b[39mas\u001b[39;00m complex_warning:\n\u001b[0;32m    <a href='file:///c%3A/Users/Ahmed%20Atef/anaconda3/lib/site-packages/sklearn/utils/validation.py?line=747'>748</a>\u001b[0m     \u001b[39mraise\u001b[39;00m \u001b[39mValueError\u001b[39;00m(\n\u001b[0;32m    <a href='file:///c%3A/Users/Ahmed%20Atef/anaconda3/lib/site-packages/sklearn/utils/validation.py?line=748'>749</a>\u001b[0m         \u001b[39m\"\u001b[39m\u001b[39mComplex data not supported\u001b[39m\u001b[39m\\n\u001b[39;00m\u001b[39m{}\u001b[39;00m\u001b[39m\\n\u001b[39;00m\u001b[39m\"\u001b[39m\u001b[39m.\u001b[39mformat(array)\n\u001b[0;32m    <a href='file:///c%3A/Users/Ahmed%20Atef/anaconda3/lib/site-packages/sklearn/utils/validation.py?line=749'>750</a>\u001b[0m     ) \u001b[39mfrom\u001b[39;00m \u001b[39mcomplex_warning\u001b[39;00m\n",
      "File \u001b[1;32mc:\\Users\\Ahmed Atef\\anaconda3\\lib\\site-packages\\numpy\\core\\_asarray.py:102\u001b[0m, in \u001b[0;36masarray\u001b[1;34m(a, dtype, order, like)\u001b[0m\n\u001b[0;32m     <a href='file:///c%3A/Users/Ahmed%20Atef/anaconda3/lib/site-packages/numpy/core/_asarray.py?line=98'>99</a>\u001b[0m \u001b[39mif\u001b[39;00m like \u001b[39mis\u001b[39;00m \u001b[39mnot\u001b[39;00m \u001b[39mNone\u001b[39;00m:\n\u001b[0;32m    <a href='file:///c%3A/Users/Ahmed%20Atef/anaconda3/lib/site-packages/numpy/core/_asarray.py?line=99'>100</a>\u001b[0m     \u001b[39mreturn\u001b[39;00m _asarray_with_like(a, dtype\u001b[39m=\u001b[39mdtype, order\u001b[39m=\u001b[39morder, like\u001b[39m=\u001b[39mlike)\n\u001b[1;32m--> <a href='file:///c%3A/Users/Ahmed%20Atef/anaconda3/lib/site-packages/numpy/core/_asarray.py?line=101'>102</a>\u001b[0m \u001b[39mreturn\u001b[39;00m array(a, dtype, copy\u001b[39m=\u001b[39;49m\u001b[39mFalse\u001b[39;49;00m, order\u001b[39m=\u001b[39;49morder)\n",
      "File \u001b[1;32mc:\\Users\\Ahmed Atef\\anaconda3\\lib\\site-packages\\pandas\\core\\generic.py:2064\u001b[0m, in \u001b[0;36mNDFrame.__array__\u001b[1;34m(self, dtype)\u001b[0m\n\u001b[0;32m   <a href='file:///c%3A/Users/Ahmed%20Atef/anaconda3/lib/site-packages/pandas/core/generic.py?line=2062'>2063</a>\u001b[0m \u001b[39mdef\u001b[39;00m \u001b[39m__array__\u001b[39m(\u001b[39mself\u001b[39m, dtype: npt\u001b[39m.\u001b[39mDTypeLike \u001b[39m|\u001b[39m \u001b[39mNone\u001b[39;00m \u001b[39m=\u001b[39m \u001b[39mNone\u001b[39;00m) \u001b[39m-\u001b[39m\u001b[39m>\u001b[39m np\u001b[39m.\u001b[39mndarray:\n\u001b[1;32m-> <a href='file:///c%3A/Users/Ahmed%20Atef/anaconda3/lib/site-packages/pandas/core/generic.py?line=2063'>2064</a>\u001b[0m     \u001b[39mreturn\u001b[39;00m np\u001b[39m.\u001b[39;49masarray(\u001b[39mself\u001b[39;49m\u001b[39m.\u001b[39;49m_values, dtype\u001b[39m=\u001b[39;49mdtype)\n",
      "File \u001b[1;32mc:\\Users\\Ahmed Atef\\anaconda3\\lib\\site-packages\\numpy\\core\\_asarray.py:102\u001b[0m, in \u001b[0;36masarray\u001b[1;34m(a, dtype, order, like)\u001b[0m\n\u001b[0;32m     <a href='file:///c%3A/Users/Ahmed%20Atef/anaconda3/lib/site-packages/numpy/core/_asarray.py?line=98'>99</a>\u001b[0m \u001b[39mif\u001b[39;00m like \u001b[39mis\u001b[39;00m \u001b[39mnot\u001b[39;00m \u001b[39mNone\u001b[39;00m:\n\u001b[0;32m    <a href='file:///c%3A/Users/Ahmed%20Atef/anaconda3/lib/site-packages/numpy/core/_asarray.py?line=99'>100</a>\u001b[0m     \u001b[39mreturn\u001b[39;00m _asarray_with_like(a, dtype\u001b[39m=\u001b[39mdtype, order\u001b[39m=\u001b[39morder, like\u001b[39m=\u001b[39mlike)\n\u001b[1;32m--> <a href='file:///c%3A/Users/Ahmed%20Atef/anaconda3/lib/site-packages/numpy/core/_asarray.py?line=101'>102</a>\u001b[0m \u001b[39mreturn\u001b[39;00m array(a, dtype, copy\u001b[39m=\u001b[39;49m\u001b[39mFalse\u001b[39;49;00m, order\u001b[39m=\u001b[39;49morder)\n",
      "\u001b[1;31mValueError\u001b[0m: could not convert string to float: 'Torgersen'"
     ]
    }
   ],
   "source": [
    "# from sklearn.manifold import TSNE\n",
    "# train_data=df.drop(columns=['species'])\n",
    "# tsne = TSNE(init='pca',n_components=3, random_state=0)\n",
    "# projections = pd.DataFrame(tsne.fit_transform(train_data))\n",
    "\n",
    "# fig = px.scatter_3d(\n",
    "#     projections, x=0, y=1,z=2,\n",
    "#     color=df.species, labels={'color': 'species'}\n",
    "# )\n",
    "# fig.show()\n"
   ]
  }
 ],
 "metadata": {
  "kernelspec": {
   "display_name": "Python 3.8.8 ('base')",
   "language": "python",
   "name": "python3"
  },
  "language_info": {
   "codemirror_mode": {
    "name": "ipython",
    "version": 3
   },
   "file_extension": ".py",
   "mimetype": "text/x-python",
   "name": "python",
   "nbconvert_exporter": "python",
   "pygments_lexer": "ipython3",
   "version": "3.8.8"
  },
  "orig_nbformat": 4,
  "vscode": {
   "interpreter": {
    "hash": "29eb490d9d566e339a907465d8c8896fb9fe01910bb21282fb1f6325ea9a51e7"
   }
  }
 },
 "nbformat": 4,
 "nbformat_minor": 2
}
