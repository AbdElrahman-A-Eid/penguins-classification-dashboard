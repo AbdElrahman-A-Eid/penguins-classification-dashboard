{
 "cells": [
  {
   "cell_type": "code",
   "execution_count": 1,
   "metadata": {},
   "outputs": [],
   "source": [
    "import pandas as pd\n",
    "import plotly.express as px\n",
    "import plotly.graph_objects as go"
   ]
  },
  {
   "cell_type": "code",
   "execution_count": 8,
   "metadata": {},
   "outputs": [
    {
     "data": {
      "text/html": [
       "<div>\n",
       "<style scoped>\n",
       "    .dataframe tbody tr th:only-of-type {\n",
       "        vertical-align: middle;\n",
       "    }\n",
       "\n",
       "    .dataframe tbody tr th {\n",
       "        vertical-align: top;\n",
       "    }\n",
       "\n",
       "    .dataframe thead th {\n",
       "        text-align: right;\n",
       "    }\n",
       "</style>\n",
       "<table border=\"1\" class=\"dataframe\">\n",
       "  <thead>\n",
       "    <tr style=\"text-align: right;\">\n",
       "      <th></th>\n",
       "      <th>Unnamed: 0</th>\n",
       "      <th>species</th>\n",
       "      <th>culmen_length_mm</th>\n",
       "      <th>culmen_depth_mm</th>\n",
       "      <th>flipper_length_mm</th>\n",
       "      <th>body_mass_g</th>\n",
       "      <th>SEX_MALE</th>\n",
       "      <th>SEX_FEMALE</th>\n",
       "      <th>island_Dream</th>\n",
       "      <th>island_Biscoe</th>\n",
       "      <th>island_Torgersen</th>\n",
       "    </tr>\n",
       "  </thead>\n",
       "  <tbody>\n",
       "    <tr>\n",
       "      <th>0</th>\n",
       "      <td>116</td>\n",
       "      <td>0</td>\n",
       "      <td>38.6</td>\n",
       "      <td>17.0</td>\n",
       "      <td>188.0</td>\n",
       "      <td>2900.0</td>\n",
       "      <td>1.0</td>\n",
       "      <td>0.0</td>\n",
       "      <td>0.0</td>\n",
       "      <td>0.0</td>\n",
       "      <td>1.0</td>\n",
       "    </tr>\n",
       "    <tr>\n",
       "      <th>1</th>\n",
       "      <td>112</td>\n",
       "      <td>0</td>\n",
       "      <td>39.7</td>\n",
       "      <td>17.7</td>\n",
       "      <td>193.0</td>\n",
       "      <td>3200.0</td>\n",
       "      <td>1.0</td>\n",
       "      <td>0.0</td>\n",
       "      <td>1.0</td>\n",
       "      <td>0.0</td>\n",
       "      <td>0.0</td>\n",
       "    </tr>\n",
       "    <tr>\n",
       "      <th>2</th>\n",
       "      <td>283</td>\n",
       "      <td>1</td>\n",
       "      <td>54.3</td>\n",
       "      <td>15.7</td>\n",
       "      <td>231.0</td>\n",
       "      <td>5650.0</td>\n",
       "      <td>0.0</td>\n",
       "      <td>1.0</td>\n",
       "      <td>1.0</td>\n",
       "      <td>0.0</td>\n",
       "      <td>0.0</td>\n",
       "    </tr>\n",
       "    <tr>\n",
       "      <th>3</th>\n",
       "      <td>63</td>\n",
       "      <td>0</td>\n",
       "      <td>41.1</td>\n",
       "      <td>18.2</td>\n",
       "      <td>192.0</td>\n",
       "      <td>4050.0</td>\n",
       "      <td>0.0</td>\n",
       "      <td>1.0</td>\n",
       "      <td>1.0</td>\n",
       "      <td>0.0</td>\n",
       "      <td>0.0</td>\n",
       "    </tr>\n",
       "    <tr>\n",
       "      <th>4</th>\n",
       "      <td>217</td>\n",
       "      <td>2</td>\n",
       "      <td>49.6</td>\n",
       "      <td>18.2</td>\n",
       "      <td>193.0</td>\n",
       "      <td>3775.0</td>\n",
       "      <td>0.0</td>\n",
       "      <td>1.0</td>\n",
       "      <td>0.0</td>\n",
       "      <td>1.0</td>\n",
       "      <td>0.0</td>\n",
       "    </tr>\n",
       "  </tbody>\n",
       "</table>\n",
       "</div>"
      ],
      "text/plain": [
       "   Unnamed: 0  species  culmen_length_mm  culmen_depth_mm  flipper_length_mm  \\\n",
       "0         116        0              38.6             17.0              188.0   \n",
       "1         112        0              39.7             17.7              193.0   \n",
       "2         283        1              54.3             15.7              231.0   \n",
       "3          63        0              41.1             18.2              192.0   \n",
       "4         217        2              49.6             18.2              193.0   \n",
       "\n",
       "   body_mass_g  SEX_MALE  SEX_FEMALE  island_Dream  island_Biscoe  \\\n",
       "0       2900.0       1.0         0.0           0.0            0.0   \n",
       "1       3200.0       1.0         0.0           1.0            0.0   \n",
       "2       5650.0       0.0         1.0           1.0            0.0   \n",
       "3       4050.0       0.0         1.0           1.0            0.0   \n",
       "4       3775.0       0.0         1.0           0.0            1.0   \n",
       "\n",
       "   island_Torgersen  \n",
       "0               1.0  \n",
       "1               0.0  \n",
       "2               0.0  \n",
       "3               0.0  \n",
       "4               0.0  "
      ]
     },
     "execution_count": 8,
     "metadata": {},
     "output_type": "execute_result"
    }
   ],
   "source": [
    "df = pd.read_csv(\n",
    "    'F:\\\\clustering-classification-dashboard\\\\data\\\\train_data_without_anything.csv')\n",
    "df.head()\n"
   ]
  },
  {
   "cell_type": "code",
   "execution_count": 9,
   "metadata": {},
   "outputs": [
    {
     "data": {
      "application/vnd.plotly.v1+json": {
       "config": {
        "plotlyServerURL": "https://plot.ly"
       },
       "data": [
        {
         "hovertemplate": "culmen_length_mm=%{x}<br>flipper_length_mm=%{y}<br>species=%{marker.color}<extra></extra>",
         "legendgroup": "",
         "marker": {
          "color": [
           0,
           0,
           1,
           0,
           2,
           0,
           0,
           0,
           0,
           1,
           0,
           1,
           2,
           0,
           0,
           2,
           0,
           1,
           1,
           0,
           0,
           1,
           1,
           0,
           1,
           0,
           0,
           2,
           0,
           0,
           0,
           1,
           0,
           2,
           1,
           0,
           1,
           1,
           0,
           1,
           2,
           0,
           0,
           0,
           0,
           1,
           0,
           0,
           0,
           1,
           1,
           1,
           0,
           1,
           1,
           2,
           1,
           1,
           1,
           1,
           0,
           2,
           0,
           2,
           1,
           0,
           0,
           2,
           0,
           0,
           0,
           0,
           1,
           2,
           2,
           1,
           0,
           2,
           2,
           1,
           1,
           1,
           0,
           1,
           0,
           0,
           1,
           2,
           2,
           1,
           2,
           1,
           0,
           1,
           2,
           0,
           2,
           0,
           2,
           0,
           0,
           1,
           2,
           0,
           0,
           2,
           1,
           0,
           0,
           1,
           1,
           2,
           1,
           0,
           2,
           2,
           1,
           2,
           1,
           1,
           0,
           1,
           1,
           1,
           1,
           1,
           0,
           0,
           2,
           0,
           1,
           1,
           1,
           0,
           1,
           0,
           0,
           0,
           0,
           0,
           2,
           1,
           0,
           0,
           0,
           1,
           0,
           0,
           0,
           1,
           1,
           1,
           1,
           2,
           2,
           0,
           0,
           0,
           0,
           1,
           1,
           0,
           1,
           0,
           1,
           1,
           1,
           0,
           1,
           2,
           2,
           1,
           0,
           1,
           0,
           2,
           0,
           0,
           2,
           0,
           2,
           0,
           0,
           0,
           2,
           0,
           1,
           0,
           2,
           2,
           0,
           0,
           2,
           1,
           0,
           1,
           1,
           2,
           1,
           1,
           1,
           0,
           1,
           2,
           0,
           2,
           2,
           2,
           0,
           0,
           0,
           1,
           0,
           1,
           1,
           1,
           0,
           0,
           0,
           1,
           0,
           0,
           1,
           0,
           0,
           1,
           1,
           0,
           2,
           0,
           1,
           2,
           0,
           1,
           0,
           1,
           2,
           2,
           0,
           1,
           1,
           2,
           1,
           1,
           1,
           1,
           0,
           1,
           0,
           0,
           0,
           1,
           0,
           0,
           0,
           0,
           2,
           0,
           1,
           2,
           1,
           2,
           1,
           0,
           1,
           2,
           0,
           1,
           0,
           2,
           0,
           0,
           0
          ],
          "coloraxis": "coloraxis",
          "symbol": "circle"
         },
         "mode": "markers",
         "name": "",
         "orientation": "v",
         "showlegend": false,
         "type": "scatter",
         "x": [
          38.6,
          39.7,
          54.3,
          41.1,
          49.6,
          35.6,
          41.1,
          44.1,
          36.9,
          45.2,
          41.3,
          45.1,
          49.3,
          36.2,
          37.9,
          43.5,
          38.2,
          48.1,
          48.5,
          42.9,
          35.1,
          51.1,
          47.5,
          45.8,
          43.3,
          36.4,
          40.6,
          45.6,
          37.8,
          35.9,
          45.6,
          45.2,
          40.3,
          51,
          50,
          36.4,
          47.4,
          46.8,
          42.5,
          46.4,
          45.2,
          37.2,
          40.9,
          40.8,
          40.6,
          45.1,
          34.5,
          34.4,
          35.3,
          55.9,
          46.8,
          48.8,
          41.4,
          42.9,
          49.9,
          46.8,
          46.4,
          50,
          49.5,
          47.5,
          39.7,
          48.5,
          39,
          49.7,
          44,
          36,
          39.5,
          52.7,
          38.9,
          40.3,
          36.5,
          42.1,
          46.1,
          43.2,
          50.8,
          46.2,
          41,
          46.9,
          47.5,
          43.5,
          40.9,
          44.9,
          36,
          44.4,
          35.5,
          39.3,
          43.5,
          49,
          52,
          50.7,
          45.2,
          42.6,
          41.8,
          44.5,
          50.8,
          39,
          50.9,
          38.6,
          48.1,
          39.7,
          34.1,
          45.5,
          47,
          46,
          38.1,
          50.2,
          44.5,
          36.7,
          36.2,
          45.4,
          59.6,
          46.5,
          49.3,
          37.8,
          46.7,
          52.8,
          44.5,
          50.5,
          46.5,
          46.8,
          36.3,
          46.2,
          50.8,
          45.2,
          43.4,
          50.4,
          38.8,
          42,
          55.8,
          39.6,
          45.1,
          52.5,
          47.2,
          43.2,
          45.5,
          40.8,
          39.7,
          41.3,
          36,
          37,
          50.2,
          47.6,
          39.2,
          41.5,
          37.5,
          43.6,
          37.3,
          41.1,
          37.2,
          48.4,
          49.8,
          55.1,
          50.4,
          40.9,
          51.7,
          40.5,
          41.1,
          41.1,
          35.7,
          44.9,
          48.7,
          40.6,
          46.3,
          37.6,
          46.7,
          51.3,
          42.7,
          39.8,
          45.7,
          42.5,
          45.9,
          48.4,
          40.2,
          49.1,
          39.1,
          50.9,
          38.1,
          37.7,
          46.4,
          39.2,
          52,
          44.1,
          37.3,
          36.8,
          54.2,
          43.2,
          47.5,
          34.6,
          51.9,
          50.1,
          37.8,
          37.7,
          50.5,
          46.2,
          40.9,
          49.4,
          48.5,
          45.7,
          53.4,
          50.2,
          45,
          36.2,
          50.1,
          47.6,
          35.5,
          50.3,
          58,
          46.1,
          38.8,
          40.2,
          37,
          49.2,
          38.1,
          46.6,
          45.5,
          45.2,
          41.6,
          40.6,
          38.1,
          45.8,
          35,
          33.5,
          48.2,
          39.6,
          42.2,
          49.1,
          46.5,
          39.6,
          49.8,
          40.7,
          42,
          51.3,
          38.6,
          46.1,
          39,
          47.3,
          50,
          45.5,
          42.7,
          52.2,
          46.9,
          52,
          48.7,
          51.1,
          49,
          48.7,
          38.8,
          48.6,
          38.7,
          41.4,
          37.5,
          47.3,
          36.7,
          33.1,
          40.5,
          42.2,
          49.5,
          36.6,
          50.5,
          45.4,
          45.3,
          42.4,
          52.1,
          40.1,
          51.5,
          53.5,
          35.2,
          49.5,
          41.1,
          46.2,
          35.7,
          39.5,
          37.8
         ],
         "xaxis": "x",
         "y": [
          188,
          193,
          231,
          192,
          193,
          191,
          182,
          196,
          189,
          215,
          195,
          215,
          203,
          187,
          172,
          202,
          185,
          209,
          219,
          196,
          193,
          220,
          209,
          197,
          209,
          195,
          187,
          194,
          186,
          190,
          191,
          215,
          196,
          203,
          230,
          184,
          212,
          215,
          197,
          216,
          198,
          178,
          184,
          195,
          199,
          207,
          187,
          184,
          187,
          228,
          215,
          222,
          202,
          215,
          213,
          189,
          221,
          218,
          229,
          218,
          184,
          191,
          186,
          195,
          208,
          190,
          178,
          197,
          181,
          195,
          182,
          195,
          211,
          187,
          201,
          214,
          203,
          192,
          199,
          220,
          214,
          213,
          187,
          219,
          190,
          190,
          213,
          210,
          201,
          223,
          191,
          213,
          198,
          214,
          210,
          191,
          196,
          191,
          199,
          193,
          193,
          212,
          185,
          194,
          190,
          202,
          216,
          187,
          187,
          211,
          230,
          192,
          217,
          193,
          195,
          205,
          217,
          201,
          217,
          215,
          190,
          217,
          226,
          223,
          218,
          224,
          191,
          190,
          207,
          186,
          210,
          221,
          214,
          192,
          220,
          208,
          190,
          194,
          195,
          185,
          198,
          215,
          196,
          195,
          179,
          217,
          191,
          182,
          184,
          213,
          229,
          230,
          222,
          187,
          194,
          187,
          190,
          189,
          189,
          212,
          210,
          193,
          215,
          185,
          219,
          218,
          208,
          184,
          214,
          187,
          190,
          203,
          193,
          212,
          181,
          196,
          198,
          183,
          191,
          195,
          210,
          210,
          192,
          193,
          201,
          197,
          212,
          198,
          206,
          190,
          174,
          198,
          200,
          209,
          191,
          216,
          220,
          193,
          219,
          218,
          220,
          187,
          225,
          195,
          195,
          197,
          181,
          178,
          180,
          200,
          185,
          221,
          181,
          210,
          210,
          212,
          192,
          183,
          187,
          219,
          190,
          190,
          221,
          190,
          180,
          220,
          217,
          191,
          198,
          190,
          210,
          198,
          199,
          215,
          185,
          222,
          196,
          196,
          196,
          228,
          222,
          197,
          222,
          225,
          216,
          208,
          190,
          230,
          195,
          191,
          199,
          216,
          193,
          178,
          180,
          197,
          200,
          184,
          225,
          188,
          208,
          181,
          230,
          188,
          230,
          205,
          186,
          224,
          188,
          187,
          202,
          188,
          180
         ],
         "yaxis": "y"
        }
       ],
       "layout": {
        "coloraxis": {
         "colorbar": {
          "title": {
           "text": "species"
          }
         },
         "colorscale": [
          [
           0,
           "#440154"
          ],
          [
           0.1111111111111111,
           "#482878"
          ],
          [
           0.2222222222222222,
           "#3e4989"
          ],
          [
           0.3333333333333333,
           "#31688e"
          ],
          [
           0.4444444444444444,
           "#26828e"
          ],
          [
           0.5555555555555556,
           "#1f9e89"
          ],
          [
           0.6666666666666666,
           "#35b779"
          ],
          [
           0.7777777777777778,
           "#6ece58"
          ],
          [
           0.8888888888888888,
           "#b5de2b"
          ],
          [
           1,
           "#fde725"
          ]
         ]
        },
        "legend": {
         "tracegroupgap": 0
        },
        "margin": {
         "t": 60
        },
        "template": {
         "data": {
          "bar": [
           {
            "error_x": {
             "color": "rgb(36,36,36)"
            },
            "error_y": {
             "color": "rgb(36,36,36)"
            },
            "marker": {
             "line": {
              "color": "white",
              "width": 0.5
             },
             "pattern": {
              "fillmode": "overlay",
              "size": 10,
              "solidity": 0.2
             }
            },
            "type": "bar"
           }
          ],
          "barpolar": [
           {
            "marker": {
             "line": {
              "color": "white",
              "width": 0.5
             },
             "pattern": {
              "fillmode": "overlay",
              "size": 10,
              "solidity": 0.2
             }
            },
            "type": "barpolar"
           }
          ],
          "carpet": [
           {
            "aaxis": {
             "endlinecolor": "rgb(36,36,36)",
             "gridcolor": "white",
             "linecolor": "white",
             "minorgridcolor": "white",
             "startlinecolor": "rgb(36,36,36)"
            },
            "baxis": {
             "endlinecolor": "rgb(36,36,36)",
             "gridcolor": "white",
             "linecolor": "white",
             "minorgridcolor": "white",
             "startlinecolor": "rgb(36,36,36)"
            },
            "type": "carpet"
           }
          ],
          "choropleth": [
           {
            "colorbar": {
             "outlinewidth": 1,
             "tickcolor": "rgb(36,36,36)",
             "ticks": "outside"
            },
            "type": "choropleth"
           }
          ],
          "contour": [
           {
            "colorbar": {
             "outlinewidth": 1,
             "tickcolor": "rgb(36,36,36)",
             "ticks": "outside"
            },
            "colorscale": [
             [
              0,
              "#440154"
             ],
             [
              0.1111111111111111,
              "#482878"
             ],
             [
              0.2222222222222222,
              "#3e4989"
             ],
             [
              0.3333333333333333,
              "#31688e"
             ],
             [
              0.4444444444444444,
              "#26828e"
             ],
             [
              0.5555555555555556,
              "#1f9e89"
             ],
             [
              0.6666666666666666,
              "#35b779"
             ],
             [
              0.7777777777777778,
              "#6ece58"
             ],
             [
              0.8888888888888888,
              "#b5de2b"
             ],
             [
              1,
              "#fde725"
             ]
            ],
            "type": "contour"
           }
          ],
          "contourcarpet": [
           {
            "colorbar": {
             "outlinewidth": 1,
             "tickcolor": "rgb(36,36,36)",
             "ticks": "outside"
            },
            "type": "contourcarpet"
           }
          ],
          "heatmap": [
           {
            "colorbar": {
             "outlinewidth": 1,
             "tickcolor": "rgb(36,36,36)",
             "ticks": "outside"
            },
            "colorscale": [
             [
              0,
              "#440154"
             ],
             [
              0.1111111111111111,
              "#482878"
             ],
             [
              0.2222222222222222,
              "#3e4989"
             ],
             [
              0.3333333333333333,
              "#31688e"
             ],
             [
              0.4444444444444444,
              "#26828e"
             ],
             [
              0.5555555555555556,
              "#1f9e89"
             ],
             [
              0.6666666666666666,
              "#35b779"
             ],
             [
              0.7777777777777778,
              "#6ece58"
             ],
             [
              0.8888888888888888,
              "#b5de2b"
             ],
             [
              1,
              "#fde725"
             ]
            ],
            "type": "heatmap"
           }
          ],
          "heatmapgl": [
           {
            "colorbar": {
             "outlinewidth": 1,
             "tickcolor": "rgb(36,36,36)",
             "ticks": "outside"
            },
            "colorscale": [
             [
              0,
              "#440154"
             ],
             [
              0.1111111111111111,
              "#482878"
             ],
             [
              0.2222222222222222,
              "#3e4989"
             ],
             [
              0.3333333333333333,
              "#31688e"
             ],
             [
              0.4444444444444444,
              "#26828e"
             ],
             [
              0.5555555555555556,
              "#1f9e89"
             ],
             [
              0.6666666666666666,
              "#35b779"
             ],
             [
              0.7777777777777778,
              "#6ece58"
             ],
             [
              0.8888888888888888,
              "#b5de2b"
             ],
             [
              1,
              "#fde725"
             ]
            ],
            "type": "heatmapgl"
           }
          ],
          "histogram": [
           {
            "marker": {
             "line": {
              "color": "white",
              "width": 0.6
             }
            },
            "type": "histogram"
           }
          ],
          "histogram2d": [
           {
            "colorbar": {
             "outlinewidth": 1,
             "tickcolor": "rgb(36,36,36)",
             "ticks": "outside"
            },
            "colorscale": [
             [
              0,
              "#440154"
             ],
             [
              0.1111111111111111,
              "#482878"
             ],
             [
              0.2222222222222222,
              "#3e4989"
             ],
             [
              0.3333333333333333,
              "#31688e"
             ],
             [
              0.4444444444444444,
              "#26828e"
             ],
             [
              0.5555555555555556,
              "#1f9e89"
             ],
             [
              0.6666666666666666,
              "#35b779"
             ],
             [
              0.7777777777777778,
              "#6ece58"
             ],
             [
              0.8888888888888888,
              "#b5de2b"
             ],
             [
              1,
              "#fde725"
             ]
            ],
            "type": "histogram2d"
           }
          ],
          "histogram2dcontour": [
           {
            "colorbar": {
             "outlinewidth": 1,
             "tickcolor": "rgb(36,36,36)",
             "ticks": "outside"
            },
            "colorscale": [
             [
              0,
              "#440154"
             ],
             [
              0.1111111111111111,
              "#482878"
             ],
             [
              0.2222222222222222,
              "#3e4989"
             ],
             [
              0.3333333333333333,
              "#31688e"
             ],
             [
              0.4444444444444444,
              "#26828e"
             ],
             [
              0.5555555555555556,
              "#1f9e89"
             ],
             [
              0.6666666666666666,
              "#35b779"
             ],
             [
              0.7777777777777778,
              "#6ece58"
             ],
             [
              0.8888888888888888,
              "#b5de2b"
             ],
             [
              1,
              "#fde725"
             ]
            ],
            "type": "histogram2dcontour"
           }
          ],
          "mesh3d": [
           {
            "colorbar": {
             "outlinewidth": 1,
             "tickcolor": "rgb(36,36,36)",
             "ticks": "outside"
            },
            "type": "mesh3d"
           }
          ],
          "parcoords": [
           {
            "line": {
             "colorbar": {
              "outlinewidth": 1,
              "tickcolor": "rgb(36,36,36)",
              "ticks": "outside"
             }
            },
            "type": "parcoords"
           }
          ],
          "pie": [
           {
            "automargin": true,
            "type": "pie"
           }
          ],
          "scatter": [
           {
            "fillpattern": {
             "fillmode": "overlay",
             "size": 10,
             "solidity": 0.2
            },
            "type": "scatter"
           }
          ],
          "scatter3d": [
           {
            "line": {
             "colorbar": {
              "outlinewidth": 1,
              "tickcolor": "rgb(36,36,36)",
              "ticks": "outside"
             }
            },
            "marker": {
             "colorbar": {
              "outlinewidth": 1,
              "tickcolor": "rgb(36,36,36)",
              "ticks": "outside"
             }
            },
            "type": "scatter3d"
           }
          ],
          "scattercarpet": [
           {
            "marker": {
             "colorbar": {
              "outlinewidth": 1,
              "tickcolor": "rgb(36,36,36)",
              "ticks": "outside"
             }
            },
            "type": "scattercarpet"
           }
          ],
          "scattergeo": [
           {
            "marker": {
             "colorbar": {
              "outlinewidth": 1,
              "tickcolor": "rgb(36,36,36)",
              "ticks": "outside"
             }
            },
            "type": "scattergeo"
           }
          ],
          "scattergl": [
           {
            "marker": {
             "colorbar": {
              "outlinewidth": 1,
              "tickcolor": "rgb(36,36,36)",
              "ticks": "outside"
             }
            },
            "type": "scattergl"
           }
          ],
          "scattermapbox": [
           {
            "marker": {
             "colorbar": {
              "outlinewidth": 1,
              "tickcolor": "rgb(36,36,36)",
              "ticks": "outside"
             }
            },
            "type": "scattermapbox"
           }
          ],
          "scatterpolar": [
           {
            "marker": {
             "colorbar": {
              "outlinewidth": 1,
              "tickcolor": "rgb(36,36,36)",
              "ticks": "outside"
             }
            },
            "type": "scatterpolar"
           }
          ],
          "scatterpolargl": [
           {
            "marker": {
             "colorbar": {
              "outlinewidth": 1,
              "tickcolor": "rgb(36,36,36)",
              "ticks": "outside"
             }
            },
            "type": "scatterpolargl"
           }
          ],
          "scatterternary": [
           {
            "marker": {
             "colorbar": {
              "outlinewidth": 1,
              "tickcolor": "rgb(36,36,36)",
              "ticks": "outside"
             }
            },
            "type": "scatterternary"
           }
          ],
          "surface": [
           {
            "colorbar": {
             "outlinewidth": 1,
             "tickcolor": "rgb(36,36,36)",
             "ticks": "outside"
            },
            "colorscale": [
             [
              0,
              "#440154"
             ],
             [
              0.1111111111111111,
              "#482878"
             ],
             [
              0.2222222222222222,
              "#3e4989"
             ],
             [
              0.3333333333333333,
              "#31688e"
             ],
             [
              0.4444444444444444,
              "#26828e"
             ],
             [
              0.5555555555555556,
              "#1f9e89"
             ],
             [
              0.6666666666666666,
              "#35b779"
             ],
             [
              0.7777777777777778,
              "#6ece58"
             ],
             [
              0.8888888888888888,
              "#b5de2b"
             ],
             [
              1,
              "#fde725"
             ]
            ],
            "type": "surface"
           }
          ],
          "table": [
           {
            "cells": {
             "fill": {
              "color": "rgb(237,237,237)"
             },
             "line": {
              "color": "white"
             }
            },
            "header": {
             "fill": {
              "color": "rgb(217,217,217)"
             },
             "line": {
              "color": "white"
             }
            },
            "type": "table"
           }
          ]
         },
         "layout": {
          "annotationdefaults": {
           "arrowhead": 0,
           "arrowwidth": 1
          },
          "autotypenumbers": "strict",
          "coloraxis": {
           "colorbar": {
            "outlinewidth": 1,
            "tickcolor": "rgb(36,36,36)",
            "ticks": "outside"
           }
          },
          "colorscale": {
           "diverging": [
            [
             0,
             "rgb(103,0,31)"
            ],
            [
             0.1,
             "rgb(178,24,43)"
            ],
            [
             0.2,
             "rgb(214,96,77)"
            ],
            [
             0.3,
             "rgb(244,165,130)"
            ],
            [
             0.4,
             "rgb(253,219,199)"
            ],
            [
             0.5,
             "rgb(247,247,247)"
            ],
            [
             0.6,
             "rgb(209,229,240)"
            ],
            [
             0.7,
             "rgb(146,197,222)"
            ],
            [
             0.8,
             "rgb(67,147,195)"
            ],
            [
             0.9,
             "rgb(33,102,172)"
            ],
            [
             1,
             "rgb(5,48,97)"
            ]
           ],
           "sequential": [
            [
             0,
             "#440154"
            ],
            [
             0.1111111111111111,
             "#482878"
            ],
            [
             0.2222222222222222,
             "#3e4989"
            ],
            [
             0.3333333333333333,
             "#31688e"
            ],
            [
             0.4444444444444444,
             "#26828e"
            ],
            [
             0.5555555555555556,
             "#1f9e89"
            ],
            [
             0.6666666666666666,
             "#35b779"
            ],
            [
             0.7777777777777778,
             "#6ece58"
            ],
            [
             0.8888888888888888,
             "#b5de2b"
            ],
            [
             1,
             "#fde725"
            ]
           ],
           "sequentialminus": [
            [
             0,
             "#440154"
            ],
            [
             0.1111111111111111,
             "#482878"
            ],
            [
             0.2222222222222222,
             "#3e4989"
            ],
            [
             0.3333333333333333,
             "#31688e"
            ],
            [
             0.4444444444444444,
             "#26828e"
            ],
            [
             0.5555555555555556,
             "#1f9e89"
            ],
            [
             0.6666666666666666,
             "#35b779"
            ],
            [
             0.7777777777777778,
             "#6ece58"
            ],
            [
             0.8888888888888888,
             "#b5de2b"
            ],
            [
             1,
             "#fde725"
            ]
           ]
          },
          "colorway": [
           "#1F77B4",
           "#FF7F0E",
           "#2CA02C",
           "#D62728",
           "#9467BD",
           "#8C564B",
           "#E377C2",
           "#7F7F7F",
           "#BCBD22",
           "#17BECF"
          ],
          "font": {
           "color": "rgb(36,36,36)"
          },
          "geo": {
           "bgcolor": "white",
           "lakecolor": "white",
           "landcolor": "white",
           "showlakes": true,
           "showland": true,
           "subunitcolor": "white"
          },
          "hoverlabel": {
           "align": "left"
          },
          "hovermode": "closest",
          "mapbox": {
           "style": "light"
          },
          "paper_bgcolor": "white",
          "plot_bgcolor": "white",
          "polar": {
           "angularaxis": {
            "gridcolor": "rgb(232,232,232)",
            "linecolor": "rgb(36,36,36)",
            "showgrid": false,
            "showline": true,
            "ticks": "outside"
           },
           "bgcolor": "white",
           "radialaxis": {
            "gridcolor": "rgb(232,232,232)",
            "linecolor": "rgb(36,36,36)",
            "showgrid": false,
            "showline": true,
            "ticks": "outside"
           }
          },
          "scene": {
           "xaxis": {
            "backgroundcolor": "white",
            "gridcolor": "rgb(232,232,232)",
            "gridwidth": 2,
            "linecolor": "rgb(36,36,36)",
            "showbackground": true,
            "showgrid": false,
            "showline": true,
            "ticks": "outside",
            "zeroline": false,
            "zerolinecolor": "rgb(36,36,36)"
           },
           "yaxis": {
            "backgroundcolor": "white",
            "gridcolor": "rgb(232,232,232)",
            "gridwidth": 2,
            "linecolor": "rgb(36,36,36)",
            "showbackground": true,
            "showgrid": false,
            "showline": true,
            "ticks": "outside",
            "zeroline": false,
            "zerolinecolor": "rgb(36,36,36)"
           },
           "zaxis": {
            "backgroundcolor": "white",
            "gridcolor": "rgb(232,232,232)",
            "gridwidth": 2,
            "linecolor": "rgb(36,36,36)",
            "showbackground": true,
            "showgrid": false,
            "showline": true,
            "ticks": "outside",
            "zeroline": false,
            "zerolinecolor": "rgb(36,36,36)"
           }
          },
          "shapedefaults": {
           "fillcolor": "black",
           "line": {
            "width": 0
           },
           "opacity": 0.3
          },
          "ternary": {
           "aaxis": {
            "gridcolor": "rgb(232,232,232)",
            "linecolor": "rgb(36,36,36)",
            "showgrid": false,
            "showline": true,
            "ticks": "outside"
           },
           "baxis": {
            "gridcolor": "rgb(232,232,232)",
            "linecolor": "rgb(36,36,36)",
            "showgrid": false,
            "showline": true,
            "ticks": "outside"
           },
           "bgcolor": "white",
           "caxis": {
            "gridcolor": "rgb(232,232,232)",
            "linecolor": "rgb(36,36,36)",
            "showgrid": false,
            "showline": true,
            "ticks": "outside"
           }
          },
          "title": {
           "x": 0.05
          },
          "xaxis": {
           "automargin": true,
           "gridcolor": "rgb(232,232,232)",
           "linecolor": "rgb(36,36,36)",
           "showgrid": false,
           "showline": true,
           "ticks": "outside",
           "title": {
            "standoff": 15
           },
           "zeroline": false,
           "zerolinecolor": "rgb(36,36,36)"
          },
          "yaxis": {
           "automargin": true,
           "gridcolor": "rgb(232,232,232)",
           "linecolor": "rgb(36,36,36)",
           "showgrid": false,
           "showline": true,
           "ticks": "outside",
           "title": {
            "standoff": 15
           },
           "zeroline": false,
           "zerolinecolor": "rgb(36,36,36)"
          }
         }
        },
        "xaxis": {
         "anchor": "y",
         "domain": [
          0,
          1
         ],
         "title": {
          "text": "culmen_length_mm"
         }
        },
        "yaxis": {
         "anchor": "x",
         "domain": [
          0,
          1
         ],
         "title": {
          "text": "flipper_length_mm"
         }
        }
       }
      }
     },
     "metadata": {},
     "output_type": "display_data"
    }
   ],
   "source": [
    "px.scatter(df, x='culmen_length_mm', y='flipper_length_mm', color='species', template='simple_white')"
   ]
  },
  {
   "cell_type": "code",
   "execution_count": 20,
   "metadata": {},
   "outputs": [
    {
     "data": {
      "application/vnd.plotly.v1+json": {
       "config": {
        "plotlyServerURL": "https://plot.ly"
       },
       "data": [
        {
         "alignmentgroup": "True",
         "box": {
          "visible": true
         },
         "customdata": [
          [
           116,
           38.6,
           17,
           2900,
           1,
           0,
           0,
           0,
           1
          ],
          [
           112,
           39.7,
           17.7,
           3200,
           1,
           0,
           1,
           0,
           0
          ],
          [
           136,
           35.6,
           17.5,
           3175,
           1,
           0,
           0,
           1,
           0
          ],
          [
           87,
           36.9,
           18.6,
           3500,
           1,
           0,
           0,
           1,
           0
          ],
          [
           298,
           45.2,
           13.8,
           4750,
           1,
           0,
           1,
           0,
           0
          ],
          [
           241,
           45.1,
           14.5,
           5000,
           1,
           0,
           1,
           0,
           0
          ],
          [
           78,
           36.2,
           16.1,
           3550,
           1,
           0,
           0,
           0,
           1
          ],
          [
           28,
           37.9,
           18.6,
           3150,
           1,
           0,
           1,
           0,
           0
          ],
          [
           216,
           43.5,
           18.1,
           3400,
           1,
           0,
           0,
           1,
           0
          ],
          [
           320,
           48.5,
           15,
           4850,
           1,
           0,
           1,
           0,
           0
          ],
          [
           296,
           47.5,
           14.2,
           4600,
           1,
           0,
           1,
           0,
           0
          ],
          [
           228,
           43.3,
           13.4,
           4400,
           1,
           0,
           1,
           0,
           0
          ],
          [
           34,
           36.4,
           17,
           3325,
           1,
           0,
           0,
           1,
           0
          ],
          [
           211,
           45.6,
           19.4,
           3525,
           1,
           0,
           0,
           1,
           0
          ],
          [
           68,
           35.9,
           16.6,
           3050,
           1,
           0,
           0,
           0,
           1
          ],
          [
           64,
           36.4,
           17.1,
           2850,
           1,
           0,
           1,
           0,
           0
          ],
          [
           302,
           47.4,
           14.6,
           4725,
           1,
           0,
           1,
           0,
           0
          ],
          [
           294,
           46.4,
           15,
           4700,
           1,
           0,
           1,
           0,
           0
          ],
          [
           157,
           45.2,
           17.8,
           3950,
           1,
           0,
           0,
           1,
           0
          ],
          [
           252,
           45.1,
           14.5,
           5050,
           1,
           0,
           1,
           0,
           0
          ],
          [
           54,
           34.5,
           18.1,
           2900,
           1,
           0,
           1,
           0,
           0
          ],
          [
           18,
           34.4,
           18.4,
           3325,
           1,
           0,
           0,
           0,
           1
          ],
          [
           25,
           35.3,
           18.9,
           3800,
           1,
           0,
           1,
           0,
           0
          ],
          [
           340,
           46.8,
           14.3,
           4850,
           1,
           0,
           1,
           0,
           0
          ],
          [
           244,
           42.9,
           13.1,
           5000,
           1,
           0,
           1,
           0,
           0
          ],
          [
           213,
           46.8,
           16.5,
           3650,
           1,
           0,
           0,
           1,
           0
          ],
          [
           310,
           47.5,
           15,
           4950,
           1,
           0,
           1,
           0,
           0
          ],
          [
           56,
           39,
           17.5,
           3550,
           1,
           0,
           1,
           0,
           0
          ],
          [
           258,
           44,
           13.6,
           4350,
           1,
           0,
           1,
           0,
           0
          ],
          [
           48,
           36,
           17.9,
           3450,
           1,
           0,
           0,
           1,
           0
          ],
          [
           30,
           39.5,
           16.7,
           3250,
           1,
           0,
           0,
           1,
           0
          ],
          [
           6,
           38.9,
           17.8,
           3625,
           1,
           0,
           0,
           0,
           1
          ],
          [
           2,
           40.3,
           18,
           3250,
           1,
           0,
           0,
           0,
           1
          ],
          [
           40,
           36.5,
           18,
           3150,
           1,
           0,
           0,
           1,
           0
          ],
          [
           220,
           46.1,
           13.2,
           4500,
           1,
           0,
           1,
           0,
           0
          ],
          [
           174,
           43.2,
           16.6,
           2900,
           1,
           0,
           0,
           1,
           0
          ],
          [
           190,
           46.9,
           16.6,
           2700,
           1,
           0,
           0,
           1,
           0
          ],
          [
           187,
           47.5,
           16.8,
           3900,
           1,
           0,
           0,
           1,
           0
          ],
          [
           288,
           43.5,
           14.2,
           4700,
           1,
           0,
           1,
           0,
           0
          ],
          [
           230,
           40.9,
           13.7,
           4650,
           1,
           0,
           1,
           0,
           0
          ],
          [
           268,
           44.9,
           13.3,
           5100,
           1,
           0,
           1,
           0,
           0
          ],
          [
           150,
           36,
           17.1,
           3700,
           1,
           0,
           0,
           1,
           0
          ],
          [
           74,
           35.5,
           17.5,
           3700,
           1,
           0,
           0,
           0,
           1
          ],
          [
           332,
           43.5,
           15.2,
           4650,
           1,
           0,
           1,
           0,
           0
          ],
          [
           208,
           45.2,
           16.6,
           3250,
           1,
           0,
           0,
           1,
           0
          ],
          [
           256,
           42.6,
           13.7,
           4950,
           1,
           0,
           1,
           0,
           0
          ],
          [
           314,
           44.5,
           14.7,
           4850,
           1,
           0,
           1,
           0,
           0
          ],
          [
           128,
           39,
           17.1,
           3050,
           1,
           0,
           0,
           0,
           1
          ],
          [
           196,
           50.9,
           17.9,
           3675,
           1,
           0,
           0,
           1,
           0
          ],
          [
           202,
           48.1,
           16.4,
           3325,
           1,
           0,
           0,
           1,
           0
          ],
          [
           312,
           45.5,
           14.5,
           4750,
           1,
           0,
           1,
           0,
           0
          ],
          [
           164,
           47,
           17.3,
           3700,
           1,
           0,
           0,
           1,
           0
          ],
          [
           96,
           38.1,
           18.6,
           3700,
           1,
           0,
           0,
           1,
           0
          ],
          [
           82,
           36.7,
           18.8,
           3800,
           1,
           0,
           0,
           0,
           1
          ],
          [
           120,
           36.2,
           17.2,
           3150,
           1,
           0,
           0,
           0,
           1
          ],
          [
           226,
           45.4,
           14.6,
           4800,
           1,
           0,
           1,
           0,
           0
          ],
          [
           152,
           46.5,
           17.9,
           3500,
           1,
           0,
           0,
           1,
           0
          ],
          [
           176,
           46.7,
           17.9,
           3300,
           1,
           0,
           0,
           1,
           0
          ],
          [
           293,
           46.5,
           14.8,
           5200,
           1,
           0,
           1,
           0,
           0
          ],
          [
           334,
           46.2,
           14.1,
           4375,
           1,
           0,
           1,
           0,
           0
          ],
          [
           306,
           43.4,
           14.4,
           4600,
           1,
           0,
           1,
           0,
           0
          ],
          [
           126,
           38.8,
           17.6,
           3275,
           1,
           0,
           0,
           0,
           1
          ],
          [
           50,
           39.6,
           17.7,
           3500,
           1,
           0,
           1,
           0,
           0
          ],
          [
           272,
           45.1,
           14.4,
           4400,
           1,
           0,
           1,
           0,
           0
          ],
          [
           338,
           47.2,
           13.7,
           4925,
           1,
           0,
           1,
           0,
           0
          ],
          [
           148,
           36,
           17.8,
           3450,
           1,
           0,
           0,
           1,
           0
          ],
          [
           138,
           37,
           16.5,
           3400,
           1,
           0,
           0,
           1,
           0
          ],
          [
           219,
           50.2,
           18.7,
           3775,
           1,
           0,
           0,
           1,
           0
          ],
          [
           265,
           43.6,
           13.9,
           4900,
           1,
           0,
           1,
           0,
           0
          ],
          [
           84,
           37.3,
           17.8,
           3350,
           1,
           0,
           0,
           1,
           0
          ],
          [
           12,
           41.1,
           17.6,
           3200,
           1,
           0,
           0,
           0,
           1
          ],
          [
           182,
           40.9,
           16.6,
           3200,
           1,
           0,
           0,
           1,
           0
          ],
          [
           27,
           40.5,
           17.9,
           3200,
           1,
           0,
           1,
           0,
           0
          ],
          [
           118,
           35.7,
           17,
           3350,
           1,
           0,
           0,
           0,
           1
          ],
          [
           304,
           44.9,
           13.8,
           4750,
           1,
           0,
           1,
           0,
           0
          ],
          [
           222,
           48.7,
           14.1,
           4450,
           1,
           0,
           1,
           0,
           0
          ],
          [
           62,
           37.6,
           17,
           3600,
           1,
           0,
           1,
           0,
           0
          ],
          [
           260,
           42.7,
           13.7,
           3950,
           1,
           0,
           1,
           0,
           0
          ],
          [
           282,
           45.7,
           13.9,
           4400,
           1,
           0,
           1,
           0,
           0
          ],
          [
           206,
           42.5,
           17.3,
           3350,
           1,
           0,
           0,
           1,
           0
          ],
          [
           166,
           45.9,
           17.1,
           3575,
           1,
           0,
           0,
           1,
           0
          ],
          [
           318,
           48.4,
           14.4,
           4625,
           1,
           0,
           1,
           0,
           0
          ],
          [
           140,
           40.2,
           17.1,
           3400,
           1,
           0,
           0,
           1,
           0
          ],
          [
           300,
           49.1,
           14.5,
           4625,
           1,
           0,
           1,
           0,
           0
          ],
          [
           110,
           38.1,
           16.5,
           3825,
           1,
           0,
           1,
           0,
           0
          ],
          [
           102,
           37.7,
           16,
           3075,
           1,
           0,
           1,
           0,
           0
          ],
          [
           180,
           46.4,
           17.8,
           3700,
           1,
           0,
           0,
           1,
           0
          ],
          [
           144,
           37.3,
           16.8,
           3000,
           1,
           0,
           0,
           1,
           0
          ],
          [
           132,
           36.8,
           18.5,
           3500,
           1,
           0,
           0,
           1,
           0
          ],
          [
           308,
           47.5,
           14,
           4875,
           1,
           0,
           1,
           0,
           0
          ],
          [
           198,
           50.1,
           17.9,
           3400,
           1,
           0,
           0,
           1,
           0
          ],
          [
           20,
           37.8,
           18.3,
           3400,
           1,
           0,
           1,
           0,
           0
          ],
          [
           178,
           50.5,
           18.4,
           3400,
           1,
           0,
           0,
           1,
           0
          ],
          [
           238,
           46.2,
           14.5,
           4800,
           1,
           0,
           1,
           0,
           0
          ],
          [
           76,
           40.9,
           16.8,
           3700,
           1,
           0,
           0,
           0,
           1
          ],
          [
           204,
           45.7,
           17.3,
           3600,
           1,
           0,
           0,
           1,
           0
          ],
          [
           94,
           36.2,
           17.3,
           3300,
           1,
           0,
           0,
           1,
           0
          ],
          [
           188,
           47.6,
           18.3,
           3850,
           1,
           0,
           0,
           1,
           0
          ],
          [
           66,
           35.5,
           16.2,
           3350,
           1,
           0,
           1,
           0,
           0
          ],
          [
           169,
           58,
           17.8,
           3700,
           1,
           0,
           0,
           1,
           0
          ],
          [
           158,
           46.1,
           18.2,
           3250,
           1,
           0,
           0,
           1,
           0
          ],
          [
           44,
           37,
           16.9,
           3000,
           1,
           0,
           0,
           1,
           0
          ],
          [
           108,
           38.1,
           17,
           3175,
           1,
           0,
           1,
           0,
           0
          ],
          [
           270,
           46.6,
           14.2,
           4850,
           1,
           0,
           1,
           0,
           0
          ],
          [
           266,
           45.5,
           13.9,
           4200,
           1,
           0,
           1,
           0,
           0
          ],
          [
           342,
           45.2,
           14.8,
           5200,
           1,
           0,
           1,
           0,
           0
          ],
          [
           134,
           38.1,
           17.6,
           3425,
           1,
           0,
           0,
           1,
           0
          ],
          [
           284,
           45.8,
           14.2,
           4700,
           1,
           0,
           1,
           0,
           0
          ],
          [
           52,
           35,
           17.9,
           3450,
           1,
           0,
           1,
           0,
           0
          ],
          [
           70,
           33.5,
           19,
           3600,
           1,
           0,
           0,
           0,
           1
          ],
          [
           37,
           42.2,
           18.5,
           3550,
           1,
           0,
           0,
           1,
           0
          ],
          [
           254,
           49.1,
           14.8,
           5150,
           1,
           0,
           1,
           0,
           0
          ],
          [
           274,
           46.5,
           14.4,
           4900,
           1,
           0,
           1,
           0,
           0
          ],
          [
           114,
           39.6,
           20.7,
           3900,
           1,
           0,
           1,
           0,
           0
          ],
          [
           201,
           49.8,
           17.3,
           3675,
           1,
           0,
           0,
           1,
           0
          ],
          [
           236,
           42,
           13.5,
           4150,
           1,
           0,
           1,
           0,
           0
          ],
          [
           106,
           38.6,
           17.2,
           3750,
           1,
           0,
           1,
           0,
           0
          ],
          [
           195,
           45.5,
           17,
           3500,
           1,
           0,
           0,
           1,
           0
          ],
          [
           317,
           46.9,
           14.6,
           4875,
           1,
           0,
           1,
           0,
           0
          ],
          [
           16,
           38.7,
           19,
           3450,
           1,
           0,
           0,
           0,
           1
          ],
          [
           4,
           36.7,
           19.3,
           3450,
           1,
           0,
           0,
           0,
           1
          ],
          [
           98,
           33.1,
           16.1,
           2900,
           1,
           0,
           0,
           1,
           0
          ],
          [
           147,
           36.6,
           18.4,
           3475,
           1,
           0,
           0,
           1,
           0
          ],
          [
           155,
           45.4,
           18.7,
           3525,
           1,
           0,
           0,
           1,
           0
          ],
          [
           280,
           45.3,
           13.8,
           4200,
           1,
           0,
           1,
           0,
           0
          ],
          [
           172,
           42.4,
           17.3,
           3600,
           1,
           0,
           0,
           1,
           0
          ],
          [
           124,
           35.2,
           15.9,
           3050,
           1,
           0,
           0,
           0,
           1
          ],
          [
           193,
           46.2,
           17.5,
           3650,
           1,
           0,
           0,
           1,
           0
          ],
          [
           90,
           35.7,
           18,
           3550,
           1,
           0,
           0,
           1,
           0
          ],
          [
           32,
           39.5,
           17.8,
           3300,
           1,
           0,
           0,
           1,
           0
          ]
         ],
         "hovertemplate": "SEX_MALE=%{customdata[4]}<br>species=%{x}<br>flipper_length_mm=%{y}<br>Unnamed: 0=%{customdata[0]}<br>culmen_length_mm=%{customdata[1]}<br>culmen_depth_mm=%{customdata[2]}<br>body_mass_g=%{customdata[3]}<br>SEX_FEMALE=%{customdata[5]}<br>island_Dream=%{customdata[6]}<br>island_Biscoe=%{customdata[7]}<br>island_Torgersen=%{customdata[8]}<extra></extra>",
         "legendgroup": "1.0",
         "marker": {
          "color": "#1F77B4"
         },
         "name": "1.0",
         "offsetgroup": "1.0",
         "orientation": "v",
         "scalegroup": "True",
         "showlegend": true,
         "type": "violin",
         "x": [
          0,
          0,
          0,
          0,
          1,
          1,
          0,
          0,
          2,
          1,
          1,
          1,
          0,
          2,
          0,
          0,
          1,
          1,
          2,
          1,
          0,
          0,
          0,
          1,
          1,
          2,
          1,
          0,
          1,
          0,
          0,
          0,
          0,
          0,
          1,
          2,
          2,
          2,
          1,
          1,
          1,
          0,
          0,
          1,
          2,
          1,
          1,
          0,
          2,
          2,
          1,
          2,
          0,
          0,
          0,
          1,
          2,
          2,
          1,
          1,
          1,
          0,
          0,
          1,
          1,
          0,
          0,
          2,
          1,
          0,
          0,
          2,
          0,
          0,
          1,
          1,
          0,
          1,
          1,
          2,
          2,
          1,
          0,
          1,
          0,
          0,
          2,
          0,
          0,
          1,
          2,
          0,
          2,
          1,
          0,
          2,
          0,
          2,
          0,
          2,
          2,
          0,
          0,
          1,
          1,
          1,
          0,
          1,
          0,
          0,
          0,
          1,
          1,
          0,
          2,
          1,
          0,
          2,
          1,
          0,
          0,
          0,
          0,
          2,
          1,
          2,
          0,
          2,
          0,
          0
         ],
         "x0": " ",
         "xaxis": "x",
         "y": [
          188,
          193,
          191,
          189,
          215,
          215,
          187,
          172,
          202,
          219,
          209,
          209,
          195,
          194,
          190,
          184,
          212,
          216,
          198,
          207,
          187,
          184,
          187,
          215,
          215,
          189,
          218,
          186,
          208,
          190,
          178,
          181,
          195,
          182,
          211,
          187,
          192,
          199,
          220,
          214,
          213,
          187,
          190,
          213,
          191,
          213,
          214,
          191,
          196,
          199,
          212,
          185,
          190,
          187,
          187,
          211,
          192,
          195,
          217,
          217,
          218,
          191,
          186,
          210,
          214,
          195,
          185,
          198,
          217,
          191,
          182,
          187,
          187,
          189,
          212,
          210,
          185,
          208,
          214,
          187,
          190,
          203,
          193,
          212,
          198,
          183,
          191,
          192,
          193,
          212,
          190,
          174,
          200,
          209,
          191,
          193,
          187,
          195,
          195,
          181,
          178,
          185,
          181,
          210,
          210,
          212,
          187,
          219,
          190,
          190,
          180,
          220,
          217,
          191,
          198,
          210,
          199,
          196,
          222,
          195,
          193,
          178,
          184,
          188,
          208,
          181,
          186,
          187,
          202,
          188
         ],
         "y0": " ",
         "yaxis": "y"
        },
        {
         "alignmentgroup": "True",
         "box": {
          "visible": true
         },
         "customdata": [
          [
           283,
           54.3,
           15.7,
           5650,
           0,
           1,
           1,
           0,
           0
          ],
          [
           63,
           41.1,
           18.2,
           4050,
           0,
           1,
           1,
           0,
           0
          ],
          [
           217,
           49.6,
           18.2,
           3775,
           0,
           1,
           0,
           1,
           0
          ],
          [
           46,
           41.1,
           19,
           3425,
           0,
           1,
           0,
           1,
           0
          ],
          [
           43,
           44.1,
           19.7,
           4400,
           0,
           1,
           0,
           1,
           0
          ],
          [
           61,
           41.3,
           21.1,
           4400,
           0,
           1,
           1,
           0,
           0
          ],
          [
           209,
           49.3,
           19.9,
           4050,
           0,
           1,
           0,
           1,
           0
          ],
          [
           23,
           38.2,
           18.1,
           3950,
           0,
           1,
           1,
           0,
           0
          ],
          [
           329,
           48.1,
           15.1,
           5500,
           0,
           1,
           1,
           0,
           0
          ],
          [
           81,
           42.9,
           17.6,
           4700,
           0,
           1,
           0,
           0,
           1
          ],
          [
           83,
           35.1,
           19.4,
           4200,
           0,
           1,
           0,
           0,
           1
          ],
          [
           297,
           51.1,
           16.3,
           6000,
           0,
           1,
           1,
           0,
           0
          ],
          [
           73,
           45.8,
           18.9,
           4150,
           0,
           1,
           0,
           0,
           1
          ],
          [
           141,
           40.6,
           17.2,
           3475,
           0,
           1,
           0,
           1,
           0
          ],
          [
           10,
           37.8,
           17.1,
           3300,
           0,
           1,
           0,
           0,
           1
          ],
          [
           111,
           45.6,
           20.3,
           4600,
           0,
           1,
           1,
           0,
           0
          ],
          [
           269,
           45.2,
           15.8,
           5300,
           0,
           1,
           1,
           0,
           0
          ],
          [
           97,
           40.3,
           18.5,
           4350,
           0,
           1,
           0,
           1,
           0
          ],
          [
           185,
           51,
           18.8,
           4100,
           0,
           1,
           0,
           1,
           0
          ],
          [
           221,
           50,
           16.3,
           5700,
           0,
           1,
           1,
           0,
           0
          ],
          [
           229,
           46.8,
           15.4,
           5150,
           0,
           1,
           1,
           0,
           0
          ],
          [
           17,
           42.5,
           20.7,
           4500,
           0,
           1,
           0,
           0,
           1
          ],
          [
           31,
           37.2,
           18.1,
           3900,
           0,
           1,
           0,
           1,
           0
          ],
          [
           33,
           40.9,
           18.9,
           3900,
           0,
           1,
           0,
           1,
           0
          ],
          [
           41,
           40.8,
           18.4,
           3900,
           0,
           1,
           0,
           1,
           0
          ],
          [
           125,
           40.6,
           19,
           4000,
           0,
           1,
           0,
           0,
           1
          ],
          [
           321,
           55.9,
           17,
           5600,
           0,
           1,
           1,
           0,
           0
          ],
          [
           337,
           48.8,
           16.2,
           6000,
           0,
           1,
           1,
           0,
           0
          ],
          [
           123,
           41.4,
           18.5,
           3875,
           0,
           1,
           0,
           0,
           1
          ],
          [
           343,
           49.9,
           16.1,
           5400,
           0,
           1,
           1,
           0,
           0
          ],
          [
           291,
           46.4,
           15.6,
           5000,
           0,
           1,
           1,
           0,
           0
          ],
          [
           223,
           50,
           15.2,
           5700,
           0,
           1,
           1,
           0,
           0
          ],
          [
           287,
           49.5,
           16.2,
           5800,
           0,
           1,
           1,
           0,
           0
          ],
          [
           105,
           39.7,
           18.9,
           3550,
           0,
           1,
           1,
           0,
           0
          ],
          [
           173,
           48.5,
           17.5,
           3400,
           0,
           1,
           0,
           1,
           0
          ],
          [
           186,
           49.7,
           18.6,
           3600,
           0,
           1,
           0,
           1,
           0
          ],
          [
           156,
           52.7,
           19.8,
           3725,
           0,
           1,
           0,
           1,
           0
          ],
          [
           79,
           42.1,
           19.1,
           4000,
           0,
           1,
           0,
           0,
           1
          ],
          [
           197,
           50.8,
           18.5,
           4450,
           0,
           1,
           0,
           1,
           0
          ],
          [
           286,
           46.2,
           14.4,
           4650,
           0,
           1,
           1,
           0,
           0
          ],
          [
           101,
           41,
           20,
           4725,
           0,
           1,
           1,
           0,
           0
          ],
          [
           257,
           44.4,
           17.3,
           5250,
           0,
           1,
           1,
           0,
           0
          ],
          [
           5,
           39.3,
           20.6,
           3650,
           0,
           1,
           0,
           0,
           1
          ],
          [
           192,
           49,
           19.5,
           3950,
           0,
           1,
           0,
           1,
           0
          ],
          [
           165,
           52,
           18.1,
           4050,
           0,
           1,
           0,
           1,
           0
          ],
          [
           289,
           50.7,
           15,
           5550,
           0,
           1,
           1,
           0,
           0
          ],
          [
           69,
           41.8,
           19.4,
           4450,
           0,
           1,
           0,
           0,
           1
          ],
          [
           218,
           50.8,
           19,
           4100,
           0,
           1,
           0,
           1,
           0
          ],
          [
           13,
           38.6,
           21.2,
           3800,
           0,
           1,
           0,
           0,
           1
          ],
          [
           139,
           39.7,
           17.9,
           4250,
           0,
           1,
           0,
           1,
           0
          ],
          [
           8,
           34.1,
           18.1,
           3475,
           0,
           1,
           0,
           0,
           1
          ],
          [
           19,
           46,
           21.5,
           4200,
           0,
           1,
           0,
           0,
           1
          ],
          [
           210,
           50.2,
           18.8,
           3800,
           0,
           1,
           0,
           1,
           0
          ],
          [
           246,
           44.5,
           14.3,
           4100,
           0,
           1,
           1,
           0,
           0
          ],
          [
           253,
           59.6,
           17,
           6050,
           0,
           1,
           1,
           0,
           0
          ],
          [
           235,
           49.3,
           15.7,
           5850,
           0,
           1,
           1,
           0,
           0
          ],
          [
           149,
           37.8,
           18.1,
           3750,
           0,
           1,
           0,
           1,
           0
          ],
          [
           181,
           52.8,
           20,
           4550,
           0,
           1,
           0,
           1,
           0
          ],
          [
           336,
           44.5,
           15.7,
           4875,
           0,
           1,
           1,
           0,
           0
          ],
          [
           167,
           50.5,
           19.6,
           4050,
           0,
           1,
           0,
           1,
           0
          ],
          [
           325,
           46.8,
           16.1,
           5500,
           0,
           1,
           1,
           0,
           0
          ],
          [
           86,
           36.3,
           19.5,
           3800,
           0,
           1,
           0,
           1,
           0
          ],
          [
           315,
           50.8,
           15.7,
           5200,
           0,
           1,
           1,
           0,
           0
          ],
          [
           299,
           45.2,
           16.4,
           5950,
           0,
           1,
           1,
           0,
           0
          ],
          [
           279,
           50.4,
           15.3,
           5550,
           0,
           1,
           1,
           0,
           0
          ],
          [
           9,
           42,
           20.2,
           4250,
           0,
           1,
           0,
           0,
           1
          ],
          [
           215,
           55.8,
           19.8,
           4000,
           0,
           1,
           0,
           1,
           0
          ],
          [
           301,
           52.5,
           15.6,
           5450,
           0,
           1,
           1,
           0,
           0
          ],
          [
           99,
           43.2,
           18.5,
           4100,
           0,
           1,
           0,
           1,
           0
          ],
          [
           277,
           45.5,
           15,
           5000,
           0,
           1,
           1,
           0,
           0
          ],
          [
           95,
           40.8,
           18.9,
           4300,
           0,
           1,
           0,
           1,
           0
          ],
          [
           71,
           39.7,
           18.4,
           3900,
           0,
           1,
           0,
           0,
           1
          ],
          [
           85,
           41.3,
           20.3,
           3550,
           0,
           1,
           0,
           1,
           0
          ],
          [
           224,
           47.6,
           14.5,
           5400,
           0,
           1,
           1,
           0,
           0
          ],
          [
           35,
           39.2,
           21.1,
           4150,
           0,
           1,
           0,
           1,
           0
          ],
          [
           127,
           41.5,
           18.3,
           4300,
           0,
           1,
           0,
           0,
           1
          ],
          [
           47,
           37.5,
           18.9,
           2975,
           0,
           1,
           0,
           1,
           0
          ],
          [
           77,
           37.2,
           19.4,
           3900,
           0,
           1,
           0,
           0,
           1
          ],
          [
           233,
           48.4,
           14.6,
           5850,
           0,
           1,
           1,
           0,
           0
          ],
          [
           331,
           49.8,
           15.9,
           5950,
           0,
           1,
           1,
           0,
           0
          ],
          [
           335,
           55.1,
           16,
           5850,
           0,
           1,
           1,
           0,
           0
          ],
          [
           341,
           50.4,
           15.7,
           5750,
           0,
           1,
           1,
           0,
           0
          ],
          [
           163,
           51.7,
           20.3,
           3775,
           0,
           1,
           0,
           1,
           0
          ],
          [
           135,
           41.1,
           17.5,
           3900,
           0,
           1,
           0,
           1,
           0
          ],
          [
           119,
           41.1,
           18.6,
           3325,
           0,
           1,
           0,
           0,
           1
          ],
          [
           57,
           40.6,
           18.8,
           3800,
           0,
           1,
           1,
           0,
           0
          ],
          [
           243,
           46.3,
           15.8,
           5050,
           0,
           1,
           1,
           0,
           0
          ],
          [
           227,
           46.7,
           15.3,
           5200,
           0,
           1,
           1,
           0,
           0
          ],
          [
           307,
           51.3,
           14.2,
           5300,
           0,
           1,
           1,
           0,
           0
          ],
          [
           39,
           39.8,
           19.1,
           4650,
           0,
           1,
           0,
           1,
           0
          ],
          [
           0,
           39.1,
           18.7,
           3750,
           0,
           1,
           0,
           0,
           1
          ],
          [
           194,
           50.9,
           19.1,
           3550,
           0,
           1,
           0,
           1,
           0
          ],
          [
           7,
           39.2,
           19.6,
           4675,
           0,
           1,
           0,
           0,
           1
          ],
          [
           189,
           52,
           20.7,
           4800,
           0,
           1,
           0,
           1,
           0
          ],
          [
           129,
           44.1,
           18,
           4000,
           0,
           1,
           0,
           0,
           1
          ],
          [
           183,
           54.2,
           20.8,
           4300,
           0,
           1,
           0,
           1,
           0
          ],
          [
           109,
           43.2,
           19,
           4775,
           0,
           1,
           1,
           0,
           0
          ],
          [
           14,
           34.6,
           21.1,
           4400,
           0,
           1,
           0,
           0,
           1
          ],
          [
           212,
           51.9,
           19.5,
           3950,
           0,
           1,
           0,
           1,
           0
          ],
          [
           121,
           37.7,
           19.8,
           3500,
           0,
           1,
           0,
           0,
           1
          ],
          [
           316,
           49.4,
           15.8,
           4925,
           0,
           1,
           1,
           0,
           0
          ],
          [
           271,
           48.5,
           14.1,
           5300,
           0,
           1,
           1,
           0,
           0
          ],
          [
           327,
           53.4,
           15.8,
           5500,
           0,
           1,
           1,
           0,
           0
          ],
          [
           240,
           50.2,
           14.3,
           5700,
           0,
           1,
           1,
           0,
           0
          ],
          [
           275,
           45,
           15.4,
           5050,
           0,
           1,
           1,
           0,
           0
          ],
          [
           273,
           50.1,
           15,
           5000,
           0,
           1,
           1,
           0,
           0
          ],
          [
           168,
           50.3,
           20,
           3300,
           0,
           1,
           0,
           1,
           0
          ],
          [
           24,
           38.8,
           17.2,
           3800,
           0,
           1,
           1,
           0,
           0
          ],
          [
           137,
           40.2,
           20.1,
           3975,
           0,
           1,
           0,
           1,
           0
          ],
          [
           237,
           49.2,
           15.2,
           6300,
           0,
           1,
           1,
           0,
           0
          ],
          [
           65,
           41.6,
           18,
           3950,
           0,
           1,
           1,
           0,
           0
          ],
          [
           26,
           40.6,
           18.6,
           3550,
           0,
           1,
           1,
           0,
           0
          ],
          [
           292,
           48.2,
           15.6,
           5100,
           0,
           1,
           1,
           0,
           0
          ],
          [
           45,
           39.6,
           18.8,
           4600,
           0,
           1,
           0,
           1,
           0
          ],
          [
           143,
           40.7,
           17,
           3725,
           0,
           1,
           0,
           1,
           0
          ],
          [
           161,
           51.3,
           19.9,
           3700,
           0,
           1,
           0,
           1,
           0
          ],
          [
           245,
           46.1,
           15.1,
           5100,
           0,
           1,
           1,
           0,
           0
          ],
          [
           145,
           39,
           18.7,
           3650,
           0,
           1,
           0,
           1,
           0
          ],
          [
           250,
           47.3,
           15.3,
           5250,
           0,
           1,
           1,
           0,
           0
          ],
          [
           153,
           50,
           19.5,
           3900,
           0,
           1,
           0,
           1,
           0
          ],
          [
           115,
           42.7,
           18.3,
           4075,
           0,
           1,
           1,
           0,
           0
          ],
          [
           311,
           52.2,
           17.1,
           5400,
           0,
           1,
           1,
           0,
           0
          ],
          [
           177,
           52,
           19,
           4150,
           0,
           1,
           0,
           1,
           0
          ],
          [
           239,
           48.7,
           15.1,
           5350,
           0,
           1,
           1,
           0,
           0
          ],
          [
           319,
           51.1,
           16.5,
           5250,
           0,
           1,
           1,
           0,
           0
          ],
          [
           231,
           49,
           16.1,
           5550,
           0,
           1,
           1,
           0,
           0
          ],
          [
           259,
           48.7,
           15.7,
           5350,
           0,
           1,
           1,
           0,
           0
          ],
          [
           36,
           38.8,
           20,
           3950,
           0,
           1,
           0,
           1,
           0
          ],
          [
           295,
           48.6,
           16,
           5800,
           0,
           1,
           1,
           0,
           0
          ],
          [
           55,
           41.4,
           18.6,
           3700,
           0,
           1,
           1,
           0,
           0
          ],
          [
           133,
           37.5,
           18.5,
           4475,
           0,
           1,
           0,
           1,
           0
          ],
          [
           324,
           47.3,
           13.8,
           4725,
           0,
           1,
           1,
           0,
           0
          ],
          [
           29,
           40.5,
           18.9,
           3950,
           0,
           1,
           1,
           0,
           0
          ],
          [
           113,
           42.2,
           19.5,
           4275,
           0,
           1,
           1,
           0,
           0
          ],
          [
           179,
           49.5,
           19,
           3800,
           0,
           1,
           0,
           1,
           0
          ],
          [
           267,
           50.5,
           15.9,
           5400,
           0,
           1,
           1,
           0,
           0
          ],
          [
           309,
           52.1,
           17,
           5550,
           0,
           1,
           1,
           0,
           0
          ],
          [
           51,
           40.1,
           18.9,
           4300,
           0,
           1,
           1,
           0,
           0
          ],
          [
           333,
           51.5,
           16.3,
           5500,
           0,
           1,
           1,
           0,
           0
          ],
          [
           191,
           53.5,
           19.9,
           4500,
           0,
           1,
           0,
           1,
           0
          ],
          [
           313,
           49.5,
           16.1,
           5650,
           0,
           1,
           1,
           0,
           0
          ],
          [
           67,
           41.1,
           19.1,
           4100,
           0,
           1,
           1,
           0,
           0
          ],
          [
           11,
           37.8,
           17.3,
           3700,
           0,
           1,
           0,
           0,
           1
          ]
         ],
         "hovertemplate": "SEX_MALE=%{customdata[4]}<br>species=%{x}<br>flipper_length_mm=%{y}<br>Unnamed: 0=%{customdata[0]}<br>culmen_length_mm=%{customdata[1]}<br>culmen_depth_mm=%{customdata[2]}<br>body_mass_g=%{customdata[3]}<br>SEX_FEMALE=%{customdata[5]}<br>island_Dream=%{customdata[6]}<br>island_Biscoe=%{customdata[7]}<br>island_Torgersen=%{customdata[8]}<extra></extra>",
         "legendgroup": "0.0",
         "marker": {
          "color": "#FF7F0E"
         },
         "name": "0.0",
         "offsetgroup": "0.0",
         "orientation": "v",
         "scalegroup": "True",
         "showlegend": true,
         "type": "violin",
         "x": [
          1,
          0,
          2,
          0,
          0,
          0,
          2,
          0,
          1,
          0,
          0,
          1,
          0,
          0,
          0,
          0,
          1,
          0,
          2,
          1,
          1,
          0,
          0,
          0,
          0,
          0,
          1,
          1,
          0,
          1,
          1,
          1,
          1,
          0,
          2,
          2,
          2,
          0,
          2,
          1,
          0,
          1,
          0,
          2,
          2,
          1,
          0,
          2,
          0,
          0,
          0,
          0,
          2,
          1,
          1,
          1,
          0,
          2,
          1,
          2,
          1,
          0,
          1,
          1,
          1,
          0,
          2,
          1,
          0,
          1,
          0,
          0,
          0,
          1,
          0,
          0,
          0,
          0,
          1,
          1,
          1,
          1,
          2,
          0,
          0,
          0,
          1,
          1,
          1,
          0,
          0,
          2,
          0,
          2,
          0,
          2,
          0,
          0,
          2,
          0,
          1,
          1,
          1,
          1,
          1,
          1,
          2,
          0,
          0,
          1,
          0,
          0,
          1,
          0,
          0,
          2,
          1,
          0,
          1,
          2,
          0,
          1,
          2,
          1,
          1,
          1,
          1,
          0,
          1,
          0,
          0,
          1,
          0,
          0,
          2,
          1,
          1,
          0,
          1,
          2,
          1,
          0,
          0
         ],
         "x0": " ",
         "xaxis": "x",
         "y": [
          231,
          192,
          193,
          182,
          196,
          195,
          203,
          185,
          209,
          196,
          193,
          220,
          197,
          187,
          186,
          191,
          215,
          196,
          203,
          230,
          215,
          197,
          178,
          184,
          195,
          199,
          228,
          222,
          202,
          213,
          221,
          218,
          229,
          184,
          191,
          195,
          197,
          195,
          201,
          214,
          203,
          219,
          190,
          210,
          201,
          223,
          198,
          210,
          191,
          193,
          193,
          194,
          202,
          216,
          230,
          217,
          193,
          205,
          217,
          201,
          215,
          190,
          226,
          223,
          224,
          190,
          207,
          221,
          192,
          220,
          208,
          190,
          194,
          215,
          196,
          195,
          179,
          184,
          213,
          229,
          230,
          222,
          194,
          190,
          189,
          193,
          215,
          219,
          218,
          184,
          181,
          196,
          195,
          210,
          210,
          201,
          197,
          198,
          206,
          198,
          216,
          220,
          219,
          218,
          220,
          225,
          197,
          180,
          200,
          221,
          192,
          183,
          221,
          190,
          190,
          198,
          215,
          185,
          222,
          196,
          196,
          228,
          197,
          222,
          225,
          216,
          208,
          190,
          230,
          191,
          199,
          216,
          180,
          197,
          200,
          225,
          230,
          188,
          230,
          205,
          224,
          188,
          180
         ],
         "y0": " ",
         "yaxis": "y"
        }
       ],
       "layout": {
        "legend": {
         "title": {
          "text": "SEX_MALE"
         },
         "tracegroupgap": 0
        },
        "margin": {
         "t": 60
        },
        "template": {
         "data": {
          "bar": [
           {
            "error_x": {
             "color": "rgb(36,36,36)"
            },
            "error_y": {
             "color": "rgb(36,36,36)"
            },
            "marker": {
             "line": {
              "color": "white",
              "width": 0.5
             },
             "pattern": {
              "fillmode": "overlay",
              "size": 10,
              "solidity": 0.2
             }
            },
            "type": "bar"
           }
          ],
          "barpolar": [
           {
            "marker": {
             "line": {
              "color": "white",
              "width": 0.5
             },
             "pattern": {
              "fillmode": "overlay",
              "size": 10,
              "solidity": 0.2
             }
            },
            "type": "barpolar"
           }
          ],
          "carpet": [
           {
            "aaxis": {
             "endlinecolor": "rgb(36,36,36)",
             "gridcolor": "white",
             "linecolor": "white",
             "minorgridcolor": "white",
             "startlinecolor": "rgb(36,36,36)"
            },
            "baxis": {
             "endlinecolor": "rgb(36,36,36)",
             "gridcolor": "white",
             "linecolor": "white",
             "minorgridcolor": "white",
             "startlinecolor": "rgb(36,36,36)"
            },
            "type": "carpet"
           }
          ],
          "choropleth": [
           {
            "colorbar": {
             "outlinewidth": 1,
             "tickcolor": "rgb(36,36,36)",
             "ticks": "outside"
            },
            "type": "choropleth"
           }
          ],
          "contour": [
           {
            "colorbar": {
             "outlinewidth": 1,
             "tickcolor": "rgb(36,36,36)",
             "ticks": "outside"
            },
            "colorscale": [
             [
              0,
              "#440154"
             ],
             [
              0.1111111111111111,
              "#482878"
             ],
             [
              0.2222222222222222,
              "#3e4989"
             ],
             [
              0.3333333333333333,
              "#31688e"
             ],
             [
              0.4444444444444444,
              "#26828e"
             ],
             [
              0.5555555555555556,
              "#1f9e89"
             ],
             [
              0.6666666666666666,
              "#35b779"
             ],
             [
              0.7777777777777778,
              "#6ece58"
             ],
             [
              0.8888888888888888,
              "#b5de2b"
             ],
             [
              1,
              "#fde725"
             ]
            ],
            "type": "contour"
           }
          ],
          "contourcarpet": [
           {
            "colorbar": {
             "outlinewidth": 1,
             "tickcolor": "rgb(36,36,36)",
             "ticks": "outside"
            },
            "type": "contourcarpet"
           }
          ],
          "heatmap": [
           {
            "colorbar": {
             "outlinewidth": 1,
             "tickcolor": "rgb(36,36,36)",
             "ticks": "outside"
            },
            "colorscale": [
             [
              0,
              "#440154"
             ],
             [
              0.1111111111111111,
              "#482878"
             ],
             [
              0.2222222222222222,
              "#3e4989"
             ],
             [
              0.3333333333333333,
              "#31688e"
             ],
             [
              0.4444444444444444,
              "#26828e"
             ],
             [
              0.5555555555555556,
              "#1f9e89"
             ],
             [
              0.6666666666666666,
              "#35b779"
             ],
             [
              0.7777777777777778,
              "#6ece58"
             ],
             [
              0.8888888888888888,
              "#b5de2b"
             ],
             [
              1,
              "#fde725"
             ]
            ],
            "type": "heatmap"
           }
          ],
          "heatmapgl": [
           {
            "colorbar": {
             "outlinewidth": 1,
             "tickcolor": "rgb(36,36,36)",
             "ticks": "outside"
            },
            "colorscale": [
             [
              0,
              "#440154"
             ],
             [
              0.1111111111111111,
              "#482878"
             ],
             [
              0.2222222222222222,
              "#3e4989"
             ],
             [
              0.3333333333333333,
              "#31688e"
             ],
             [
              0.4444444444444444,
              "#26828e"
             ],
             [
              0.5555555555555556,
              "#1f9e89"
             ],
             [
              0.6666666666666666,
              "#35b779"
             ],
             [
              0.7777777777777778,
              "#6ece58"
             ],
             [
              0.8888888888888888,
              "#b5de2b"
             ],
             [
              1,
              "#fde725"
             ]
            ],
            "type": "heatmapgl"
           }
          ],
          "histogram": [
           {
            "marker": {
             "line": {
              "color": "white",
              "width": 0.6
             }
            },
            "type": "histogram"
           }
          ],
          "histogram2d": [
           {
            "colorbar": {
             "outlinewidth": 1,
             "tickcolor": "rgb(36,36,36)",
             "ticks": "outside"
            },
            "colorscale": [
             [
              0,
              "#440154"
             ],
             [
              0.1111111111111111,
              "#482878"
             ],
             [
              0.2222222222222222,
              "#3e4989"
             ],
             [
              0.3333333333333333,
              "#31688e"
             ],
             [
              0.4444444444444444,
              "#26828e"
             ],
             [
              0.5555555555555556,
              "#1f9e89"
             ],
             [
              0.6666666666666666,
              "#35b779"
             ],
             [
              0.7777777777777778,
              "#6ece58"
             ],
             [
              0.8888888888888888,
              "#b5de2b"
             ],
             [
              1,
              "#fde725"
             ]
            ],
            "type": "histogram2d"
           }
          ],
          "histogram2dcontour": [
           {
            "colorbar": {
             "outlinewidth": 1,
             "tickcolor": "rgb(36,36,36)",
             "ticks": "outside"
            },
            "colorscale": [
             [
              0,
              "#440154"
             ],
             [
              0.1111111111111111,
              "#482878"
             ],
             [
              0.2222222222222222,
              "#3e4989"
             ],
             [
              0.3333333333333333,
              "#31688e"
             ],
             [
              0.4444444444444444,
              "#26828e"
             ],
             [
              0.5555555555555556,
              "#1f9e89"
             ],
             [
              0.6666666666666666,
              "#35b779"
             ],
             [
              0.7777777777777778,
              "#6ece58"
             ],
             [
              0.8888888888888888,
              "#b5de2b"
             ],
             [
              1,
              "#fde725"
             ]
            ],
            "type": "histogram2dcontour"
           }
          ],
          "mesh3d": [
           {
            "colorbar": {
             "outlinewidth": 1,
             "tickcolor": "rgb(36,36,36)",
             "ticks": "outside"
            },
            "type": "mesh3d"
           }
          ],
          "parcoords": [
           {
            "line": {
             "colorbar": {
              "outlinewidth": 1,
              "tickcolor": "rgb(36,36,36)",
              "ticks": "outside"
             }
            },
            "type": "parcoords"
           }
          ],
          "pie": [
           {
            "automargin": true,
            "type": "pie"
           }
          ],
          "scatter": [
           {
            "fillpattern": {
             "fillmode": "overlay",
             "size": 10,
             "solidity": 0.2
            },
            "type": "scatter"
           }
          ],
          "scatter3d": [
           {
            "line": {
             "colorbar": {
              "outlinewidth": 1,
              "tickcolor": "rgb(36,36,36)",
              "ticks": "outside"
             }
            },
            "marker": {
             "colorbar": {
              "outlinewidth": 1,
              "tickcolor": "rgb(36,36,36)",
              "ticks": "outside"
             }
            },
            "type": "scatter3d"
           }
          ],
          "scattercarpet": [
           {
            "marker": {
             "colorbar": {
              "outlinewidth": 1,
              "tickcolor": "rgb(36,36,36)",
              "ticks": "outside"
             }
            },
            "type": "scattercarpet"
           }
          ],
          "scattergeo": [
           {
            "marker": {
             "colorbar": {
              "outlinewidth": 1,
              "tickcolor": "rgb(36,36,36)",
              "ticks": "outside"
             }
            },
            "type": "scattergeo"
           }
          ],
          "scattergl": [
           {
            "marker": {
             "colorbar": {
              "outlinewidth": 1,
              "tickcolor": "rgb(36,36,36)",
              "ticks": "outside"
             }
            },
            "type": "scattergl"
           }
          ],
          "scattermapbox": [
           {
            "marker": {
             "colorbar": {
              "outlinewidth": 1,
              "tickcolor": "rgb(36,36,36)",
              "ticks": "outside"
             }
            },
            "type": "scattermapbox"
           }
          ],
          "scatterpolar": [
           {
            "marker": {
             "colorbar": {
              "outlinewidth": 1,
              "tickcolor": "rgb(36,36,36)",
              "ticks": "outside"
             }
            },
            "type": "scatterpolar"
           }
          ],
          "scatterpolargl": [
           {
            "marker": {
             "colorbar": {
              "outlinewidth": 1,
              "tickcolor": "rgb(36,36,36)",
              "ticks": "outside"
             }
            },
            "type": "scatterpolargl"
           }
          ],
          "scatterternary": [
           {
            "marker": {
             "colorbar": {
              "outlinewidth": 1,
              "tickcolor": "rgb(36,36,36)",
              "ticks": "outside"
             }
            },
            "type": "scatterternary"
           }
          ],
          "surface": [
           {
            "colorbar": {
             "outlinewidth": 1,
             "tickcolor": "rgb(36,36,36)",
             "ticks": "outside"
            },
            "colorscale": [
             [
              0,
              "#440154"
             ],
             [
              0.1111111111111111,
              "#482878"
             ],
             [
              0.2222222222222222,
              "#3e4989"
             ],
             [
              0.3333333333333333,
              "#31688e"
             ],
             [
              0.4444444444444444,
              "#26828e"
             ],
             [
              0.5555555555555556,
              "#1f9e89"
             ],
             [
              0.6666666666666666,
              "#35b779"
             ],
             [
              0.7777777777777778,
              "#6ece58"
             ],
             [
              0.8888888888888888,
              "#b5de2b"
             ],
             [
              1,
              "#fde725"
             ]
            ],
            "type": "surface"
           }
          ],
          "table": [
           {
            "cells": {
             "fill": {
              "color": "rgb(237,237,237)"
             },
             "line": {
              "color": "white"
             }
            },
            "header": {
             "fill": {
              "color": "rgb(217,217,217)"
             },
             "line": {
              "color": "white"
             }
            },
            "type": "table"
           }
          ]
         },
         "layout": {
          "annotationdefaults": {
           "arrowhead": 0,
           "arrowwidth": 1
          },
          "autotypenumbers": "strict",
          "coloraxis": {
           "colorbar": {
            "outlinewidth": 1,
            "tickcolor": "rgb(36,36,36)",
            "ticks": "outside"
           }
          },
          "colorscale": {
           "diverging": [
            [
             0,
             "rgb(103,0,31)"
            ],
            [
             0.1,
             "rgb(178,24,43)"
            ],
            [
             0.2,
             "rgb(214,96,77)"
            ],
            [
             0.3,
             "rgb(244,165,130)"
            ],
            [
             0.4,
             "rgb(253,219,199)"
            ],
            [
             0.5,
             "rgb(247,247,247)"
            ],
            [
             0.6,
             "rgb(209,229,240)"
            ],
            [
             0.7,
             "rgb(146,197,222)"
            ],
            [
             0.8,
             "rgb(67,147,195)"
            ],
            [
             0.9,
             "rgb(33,102,172)"
            ],
            [
             1,
             "rgb(5,48,97)"
            ]
           ],
           "sequential": [
            [
             0,
             "#440154"
            ],
            [
             0.1111111111111111,
             "#482878"
            ],
            [
             0.2222222222222222,
             "#3e4989"
            ],
            [
             0.3333333333333333,
             "#31688e"
            ],
            [
             0.4444444444444444,
             "#26828e"
            ],
            [
             0.5555555555555556,
             "#1f9e89"
            ],
            [
             0.6666666666666666,
             "#35b779"
            ],
            [
             0.7777777777777778,
             "#6ece58"
            ],
            [
             0.8888888888888888,
             "#b5de2b"
            ],
            [
             1,
             "#fde725"
            ]
           ],
           "sequentialminus": [
            [
             0,
             "#440154"
            ],
            [
             0.1111111111111111,
             "#482878"
            ],
            [
             0.2222222222222222,
             "#3e4989"
            ],
            [
             0.3333333333333333,
             "#31688e"
            ],
            [
             0.4444444444444444,
             "#26828e"
            ],
            [
             0.5555555555555556,
             "#1f9e89"
            ],
            [
             0.6666666666666666,
             "#35b779"
            ],
            [
             0.7777777777777778,
             "#6ece58"
            ],
            [
             0.8888888888888888,
             "#b5de2b"
            ],
            [
             1,
             "#fde725"
            ]
           ]
          },
          "colorway": [
           "#1F77B4",
           "#FF7F0E",
           "#2CA02C",
           "#D62728",
           "#9467BD",
           "#8C564B",
           "#E377C2",
           "#7F7F7F",
           "#BCBD22",
           "#17BECF"
          ],
          "font": {
           "color": "rgb(36,36,36)"
          },
          "geo": {
           "bgcolor": "white",
           "lakecolor": "white",
           "landcolor": "white",
           "showlakes": true,
           "showland": true,
           "subunitcolor": "white"
          },
          "hoverlabel": {
           "align": "left"
          },
          "hovermode": "closest",
          "mapbox": {
           "style": "light"
          },
          "paper_bgcolor": "white",
          "plot_bgcolor": "white",
          "polar": {
           "angularaxis": {
            "gridcolor": "rgb(232,232,232)",
            "linecolor": "rgb(36,36,36)",
            "showgrid": false,
            "showline": true,
            "ticks": "outside"
           },
           "bgcolor": "white",
           "radialaxis": {
            "gridcolor": "rgb(232,232,232)",
            "linecolor": "rgb(36,36,36)",
            "showgrid": false,
            "showline": true,
            "ticks": "outside"
           }
          },
          "scene": {
           "xaxis": {
            "backgroundcolor": "white",
            "gridcolor": "rgb(232,232,232)",
            "gridwidth": 2,
            "linecolor": "rgb(36,36,36)",
            "showbackground": true,
            "showgrid": false,
            "showline": true,
            "ticks": "outside",
            "zeroline": false,
            "zerolinecolor": "rgb(36,36,36)"
           },
           "yaxis": {
            "backgroundcolor": "white",
            "gridcolor": "rgb(232,232,232)",
            "gridwidth": 2,
            "linecolor": "rgb(36,36,36)",
            "showbackground": true,
            "showgrid": false,
            "showline": true,
            "ticks": "outside",
            "zeroline": false,
            "zerolinecolor": "rgb(36,36,36)"
           },
           "zaxis": {
            "backgroundcolor": "white",
            "gridcolor": "rgb(232,232,232)",
            "gridwidth": 2,
            "linecolor": "rgb(36,36,36)",
            "showbackground": true,
            "showgrid": false,
            "showline": true,
            "ticks": "outside",
            "zeroline": false,
            "zerolinecolor": "rgb(36,36,36)"
           }
          },
          "shapedefaults": {
           "fillcolor": "black",
           "line": {
            "width": 0
           },
           "opacity": 0.3
          },
          "ternary": {
           "aaxis": {
            "gridcolor": "rgb(232,232,232)",
            "linecolor": "rgb(36,36,36)",
            "showgrid": false,
            "showline": true,
            "ticks": "outside"
           },
           "baxis": {
            "gridcolor": "rgb(232,232,232)",
            "linecolor": "rgb(36,36,36)",
            "showgrid": false,
            "showline": true,
            "ticks": "outside"
           },
           "bgcolor": "white",
           "caxis": {
            "gridcolor": "rgb(232,232,232)",
            "linecolor": "rgb(36,36,36)",
            "showgrid": false,
            "showline": true,
            "ticks": "outside"
           }
          },
          "title": {
           "x": 0.05
          },
          "xaxis": {
           "automargin": true,
           "gridcolor": "rgb(232,232,232)",
           "linecolor": "rgb(36,36,36)",
           "showgrid": false,
           "showline": true,
           "ticks": "outside",
           "title": {
            "standoff": 15
           },
           "zeroline": false,
           "zerolinecolor": "rgb(36,36,36)"
          },
          "yaxis": {
           "automargin": true,
           "gridcolor": "rgb(232,232,232)",
           "linecolor": "rgb(36,36,36)",
           "showgrid": false,
           "showline": true,
           "ticks": "outside",
           "title": {
            "standoff": 15
           },
           "zeroline": false,
           "zerolinecolor": "rgb(36,36,36)"
          }
         }
        },
        "violinmode": "group",
        "xaxis": {
         "anchor": "y",
         "domain": [
          0,
          1
         ],
         "title": {
          "text": "species"
         }
        },
        "yaxis": {
         "anchor": "x",
         "domain": [
          0,
          1
         ],
         "title": {
          "text": "flipper_length_mm"
         }
        }
       }
      }
     },
     "metadata": {},
     "output_type": "display_data"
    }
   ],
   "source": [
    "fig = px.violin(df, y=\"flipper_length_mm\", x=\"species\", color=\"SEX_MALE\", box=True,\n",
    "                hover_data=df.columns, template='simple_white')\n",
    "\n",
    "fig.show()\n"
   ]
  },
  {
   "cell_type": "code",
   "execution_count": 21,
   "metadata": {},
   "outputs": [
    {
     "data": {
      "application/vnd.plotly.v1+json": {
       "config": {
        "plotlyServerURL": "https://plot.ly"
       },
       "data": [
        {
         "alignmentgroup": "True",
         "bingroup": "x",
         "hovertemplate": "body_mass_g=%{x}<br>count=%{y}<extra></extra>",
         "legendgroup": "",
         "marker": {
          "color": "#1F77B4",
          "pattern": {
           "shape": ""
          }
         },
         "name": "",
         "offsetgroup": "",
         "orientation": "v",
         "showlegend": false,
         "type": "histogram",
         "x": [
          2900,
          3200,
          5650,
          4050,
          3775,
          3175,
          3425,
          4400,
          3500,
          4750,
          4400,
          5000,
          4050,
          3550,
          3150,
          3400,
          3950,
          5500,
          4850,
          4700,
          4200,
          6000,
          4600,
          4150,
          4400,
          3325,
          3475,
          3525,
          3300,
          3050,
          4600,
          5300,
          4350,
          4100,
          5700,
          2850,
          4725,
          5150,
          4500,
          4700,
          3950,
          3900,
          3900,
          3900,
          4000,
          5050,
          2900,
          3325,
          3800,
          5600,
          4850,
          6000,
          3875,
          5000,
          5400,
          3650,
          5000,
          5700,
          5800,
          4950,
          3550,
          3400,
          3550,
          3600,
          4350,
          3450,
          3250,
          3725,
          3625,
          3250,
          3150,
          4000,
          4500,
          2900,
          4450,
          4650,
          4725,
          2700,
          3900,
          4700,
          4650,
          5100,
          3700,
          5250,
          3700,
          3650,
          4650,
          3950,
          4050,
          5550,
          3250,
          4950,
          4450,
          4850,
          4100,
          3050,
          3675,
          3800,
          3325,
          4250,
          3475,
          4750,
          3700,
          4200,
          3700,
          3800,
          4100,
          3800,
          3150,
          4800,
          6050,
          3500,
          5850,
          3750,
          3300,
          4550,
          4875,
          4050,
          5200,
          5500,
          3800,
          4375,
          5200,
          5950,
          4600,
          5550,
          3275,
          4250,
          4000,
          3500,
          4400,
          5450,
          4925,
          4100,
          5000,
          4300,
          3900,
          3550,
          3450,
          3400,
          3775,
          5400,
          4150,
          4300,
          2975,
          4900,
          3350,
          3200,
          3900,
          5850,
          5950,
          5850,
          5750,
          3200,
          3775,
          3200,
          3900,
          3325,
          3350,
          4750,
          4450,
          3800,
          5050,
          3600,
          5200,
          5300,
          3950,
          4650,
          4400,
          3350,
          3575,
          4625,
          3400,
          4625,
          3750,
          3550,
          3825,
          3075,
          3700,
          4675,
          4800,
          4000,
          3000,
          3500,
          4300,
          4775,
          4875,
          4400,
          3950,
          3400,
          3400,
          3500,
          3400,
          4800,
          3700,
          4925,
          5300,
          3600,
          5500,
          5700,
          5050,
          3300,
          5000,
          3850,
          3350,
          3300,
          3700,
          3250,
          3800,
          3975,
          3000,
          6300,
          3175,
          4850,
          4200,
          5200,
          3950,
          3550,
          3425,
          4700,
          3450,
          3600,
          5100,
          4600,
          3550,
          5150,
          4900,
          3900,
          3675,
          3725,
          4150,
          3700,
          3750,
          5100,
          3650,
          5250,
          3900,
          3500,
          4075,
          5400,
          4875,
          4150,
          5350,
          5250,
          5550,
          5350,
          3950,
          5800,
          3450,
          3700,
          4475,
          4725,
          3450,
          2900,
          3950,
          4275,
          3800,
          3475,
          5400,
          3525,
          4200,
          3600,
          5550,
          4300,
          5500,
          4500,
          3050,
          5650,
          4100,
          3650,
          3550,
          3300,
          3700
         ],
         "xaxis": "x",
         "yaxis": "y"
        }
       ],
       "layout": {
        "barmode": "relative",
        "legend": {
         "tracegroupgap": 0
        },
        "margin": {
         "t": 60
        },
        "template": {
         "data": {
          "bar": [
           {
            "error_x": {
             "color": "rgb(36,36,36)"
            },
            "error_y": {
             "color": "rgb(36,36,36)"
            },
            "marker": {
             "line": {
              "color": "white",
              "width": 0.5
             },
             "pattern": {
              "fillmode": "overlay",
              "size": 10,
              "solidity": 0.2
             }
            },
            "type": "bar"
           }
          ],
          "barpolar": [
           {
            "marker": {
             "line": {
              "color": "white",
              "width": 0.5
             },
             "pattern": {
              "fillmode": "overlay",
              "size": 10,
              "solidity": 0.2
             }
            },
            "type": "barpolar"
           }
          ],
          "carpet": [
           {
            "aaxis": {
             "endlinecolor": "rgb(36,36,36)",
             "gridcolor": "white",
             "linecolor": "white",
             "minorgridcolor": "white",
             "startlinecolor": "rgb(36,36,36)"
            },
            "baxis": {
             "endlinecolor": "rgb(36,36,36)",
             "gridcolor": "white",
             "linecolor": "white",
             "minorgridcolor": "white",
             "startlinecolor": "rgb(36,36,36)"
            },
            "type": "carpet"
           }
          ],
          "choropleth": [
           {
            "colorbar": {
             "outlinewidth": 1,
             "tickcolor": "rgb(36,36,36)",
             "ticks": "outside"
            },
            "type": "choropleth"
           }
          ],
          "contour": [
           {
            "colorbar": {
             "outlinewidth": 1,
             "tickcolor": "rgb(36,36,36)",
             "ticks": "outside"
            },
            "colorscale": [
             [
              0,
              "#440154"
             ],
             [
              0.1111111111111111,
              "#482878"
             ],
             [
              0.2222222222222222,
              "#3e4989"
             ],
             [
              0.3333333333333333,
              "#31688e"
             ],
             [
              0.4444444444444444,
              "#26828e"
             ],
             [
              0.5555555555555556,
              "#1f9e89"
             ],
             [
              0.6666666666666666,
              "#35b779"
             ],
             [
              0.7777777777777778,
              "#6ece58"
             ],
             [
              0.8888888888888888,
              "#b5de2b"
             ],
             [
              1,
              "#fde725"
             ]
            ],
            "type": "contour"
           }
          ],
          "contourcarpet": [
           {
            "colorbar": {
             "outlinewidth": 1,
             "tickcolor": "rgb(36,36,36)",
             "ticks": "outside"
            },
            "type": "contourcarpet"
           }
          ],
          "heatmap": [
           {
            "colorbar": {
             "outlinewidth": 1,
             "tickcolor": "rgb(36,36,36)",
             "ticks": "outside"
            },
            "colorscale": [
             [
              0,
              "#440154"
             ],
             [
              0.1111111111111111,
              "#482878"
             ],
             [
              0.2222222222222222,
              "#3e4989"
             ],
             [
              0.3333333333333333,
              "#31688e"
             ],
             [
              0.4444444444444444,
              "#26828e"
             ],
             [
              0.5555555555555556,
              "#1f9e89"
             ],
             [
              0.6666666666666666,
              "#35b779"
             ],
             [
              0.7777777777777778,
              "#6ece58"
             ],
             [
              0.8888888888888888,
              "#b5de2b"
             ],
             [
              1,
              "#fde725"
             ]
            ],
            "type": "heatmap"
           }
          ],
          "heatmapgl": [
           {
            "colorbar": {
             "outlinewidth": 1,
             "tickcolor": "rgb(36,36,36)",
             "ticks": "outside"
            },
            "colorscale": [
             [
              0,
              "#440154"
             ],
             [
              0.1111111111111111,
              "#482878"
             ],
             [
              0.2222222222222222,
              "#3e4989"
             ],
             [
              0.3333333333333333,
              "#31688e"
             ],
             [
              0.4444444444444444,
              "#26828e"
             ],
             [
              0.5555555555555556,
              "#1f9e89"
             ],
             [
              0.6666666666666666,
              "#35b779"
             ],
             [
              0.7777777777777778,
              "#6ece58"
             ],
             [
              0.8888888888888888,
              "#b5de2b"
             ],
             [
              1,
              "#fde725"
             ]
            ],
            "type": "heatmapgl"
           }
          ],
          "histogram": [
           {
            "marker": {
             "line": {
              "color": "white",
              "width": 0.6
             }
            },
            "type": "histogram"
           }
          ],
          "histogram2d": [
           {
            "colorbar": {
             "outlinewidth": 1,
             "tickcolor": "rgb(36,36,36)",
             "ticks": "outside"
            },
            "colorscale": [
             [
              0,
              "#440154"
             ],
             [
              0.1111111111111111,
              "#482878"
             ],
             [
              0.2222222222222222,
              "#3e4989"
             ],
             [
              0.3333333333333333,
              "#31688e"
             ],
             [
              0.4444444444444444,
              "#26828e"
             ],
             [
              0.5555555555555556,
              "#1f9e89"
             ],
             [
              0.6666666666666666,
              "#35b779"
             ],
             [
              0.7777777777777778,
              "#6ece58"
             ],
             [
              0.8888888888888888,
              "#b5de2b"
             ],
             [
              1,
              "#fde725"
             ]
            ],
            "type": "histogram2d"
           }
          ],
          "histogram2dcontour": [
           {
            "colorbar": {
             "outlinewidth": 1,
             "tickcolor": "rgb(36,36,36)",
             "ticks": "outside"
            },
            "colorscale": [
             [
              0,
              "#440154"
             ],
             [
              0.1111111111111111,
              "#482878"
             ],
             [
              0.2222222222222222,
              "#3e4989"
             ],
             [
              0.3333333333333333,
              "#31688e"
             ],
             [
              0.4444444444444444,
              "#26828e"
             ],
             [
              0.5555555555555556,
              "#1f9e89"
             ],
             [
              0.6666666666666666,
              "#35b779"
             ],
             [
              0.7777777777777778,
              "#6ece58"
             ],
             [
              0.8888888888888888,
              "#b5de2b"
             ],
             [
              1,
              "#fde725"
             ]
            ],
            "type": "histogram2dcontour"
           }
          ],
          "mesh3d": [
           {
            "colorbar": {
             "outlinewidth": 1,
             "tickcolor": "rgb(36,36,36)",
             "ticks": "outside"
            },
            "type": "mesh3d"
           }
          ],
          "parcoords": [
           {
            "line": {
             "colorbar": {
              "outlinewidth": 1,
              "tickcolor": "rgb(36,36,36)",
              "ticks": "outside"
             }
            },
            "type": "parcoords"
           }
          ],
          "pie": [
           {
            "automargin": true,
            "type": "pie"
           }
          ],
          "scatter": [
           {
            "fillpattern": {
             "fillmode": "overlay",
             "size": 10,
             "solidity": 0.2
            },
            "type": "scatter"
           }
          ],
          "scatter3d": [
           {
            "line": {
             "colorbar": {
              "outlinewidth": 1,
              "tickcolor": "rgb(36,36,36)",
              "ticks": "outside"
             }
            },
            "marker": {
             "colorbar": {
              "outlinewidth": 1,
              "tickcolor": "rgb(36,36,36)",
              "ticks": "outside"
             }
            },
            "type": "scatter3d"
           }
          ],
          "scattercarpet": [
           {
            "marker": {
             "colorbar": {
              "outlinewidth": 1,
              "tickcolor": "rgb(36,36,36)",
              "ticks": "outside"
             }
            },
            "type": "scattercarpet"
           }
          ],
          "scattergeo": [
           {
            "marker": {
             "colorbar": {
              "outlinewidth": 1,
              "tickcolor": "rgb(36,36,36)",
              "ticks": "outside"
             }
            },
            "type": "scattergeo"
           }
          ],
          "scattergl": [
           {
            "marker": {
             "colorbar": {
              "outlinewidth": 1,
              "tickcolor": "rgb(36,36,36)",
              "ticks": "outside"
             }
            },
            "type": "scattergl"
           }
          ],
          "scattermapbox": [
           {
            "marker": {
             "colorbar": {
              "outlinewidth": 1,
              "tickcolor": "rgb(36,36,36)",
              "ticks": "outside"
             }
            },
            "type": "scattermapbox"
           }
          ],
          "scatterpolar": [
           {
            "marker": {
             "colorbar": {
              "outlinewidth": 1,
              "tickcolor": "rgb(36,36,36)",
              "ticks": "outside"
             }
            },
            "type": "scatterpolar"
           }
          ],
          "scatterpolargl": [
           {
            "marker": {
             "colorbar": {
              "outlinewidth": 1,
              "tickcolor": "rgb(36,36,36)",
              "ticks": "outside"
             }
            },
            "type": "scatterpolargl"
           }
          ],
          "scatterternary": [
           {
            "marker": {
             "colorbar": {
              "outlinewidth": 1,
              "tickcolor": "rgb(36,36,36)",
              "ticks": "outside"
             }
            },
            "type": "scatterternary"
           }
          ],
          "surface": [
           {
            "colorbar": {
             "outlinewidth": 1,
             "tickcolor": "rgb(36,36,36)",
             "ticks": "outside"
            },
            "colorscale": [
             [
              0,
              "#440154"
             ],
             [
              0.1111111111111111,
              "#482878"
             ],
             [
              0.2222222222222222,
              "#3e4989"
             ],
             [
              0.3333333333333333,
              "#31688e"
             ],
             [
              0.4444444444444444,
              "#26828e"
             ],
             [
              0.5555555555555556,
              "#1f9e89"
             ],
             [
              0.6666666666666666,
              "#35b779"
             ],
             [
              0.7777777777777778,
              "#6ece58"
             ],
             [
              0.8888888888888888,
              "#b5de2b"
             ],
             [
              1,
              "#fde725"
             ]
            ],
            "type": "surface"
           }
          ],
          "table": [
           {
            "cells": {
             "fill": {
              "color": "rgb(237,237,237)"
             },
             "line": {
              "color": "white"
             }
            },
            "header": {
             "fill": {
              "color": "rgb(217,217,217)"
             },
             "line": {
              "color": "white"
             }
            },
            "type": "table"
           }
          ]
         },
         "layout": {
          "annotationdefaults": {
           "arrowhead": 0,
           "arrowwidth": 1
          },
          "autotypenumbers": "strict",
          "coloraxis": {
           "colorbar": {
            "outlinewidth": 1,
            "tickcolor": "rgb(36,36,36)",
            "ticks": "outside"
           }
          },
          "colorscale": {
           "diverging": [
            [
             0,
             "rgb(103,0,31)"
            ],
            [
             0.1,
             "rgb(178,24,43)"
            ],
            [
             0.2,
             "rgb(214,96,77)"
            ],
            [
             0.3,
             "rgb(244,165,130)"
            ],
            [
             0.4,
             "rgb(253,219,199)"
            ],
            [
             0.5,
             "rgb(247,247,247)"
            ],
            [
             0.6,
             "rgb(209,229,240)"
            ],
            [
             0.7,
             "rgb(146,197,222)"
            ],
            [
             0.8,
             "rgb(67,147,195)"
            ],
            [
             0.9,
             "rgb(33,102,172)"
            ],
            [
             1,
             "rgb(5,48,97)"
            ]
           ],
           "sequential": [
            [
             0,
             "#440154"
            ],
            [
             0.1111111111111111,
             "#482878"
            ],
            [
             0.2222222222222222,
             "#3e4989"
            ],
            [
             0.3333333333333333,
             "#31688e"
            ],
            [
             0.4444444444444444,
             "#26828e"
            ],
            [
             0.5555555555555556,
             "#1f9e89"
            ],
            [
             0.6666666666666666,
             "#35b779"
            ],
            [
             0.7777777777777778,
             "#6ece58"
            ],
            [
             0.8888888888888888,
             "#b5de2b"
            ],
            [
             1,
             "#fde725"
            ]
           ],
           "sequentialminus": [
            [
             0,
             "#440154"
            ],
            [
             0.1111111111111111,
             "#482878"
            ],
            [
             0.2222222222222222,
             "#3e4989"
            ],
            [
             0.3333333333333333,
             "#31688e"
            ],
            [
             0.4444444444444444,
             "#26828e"
            ],
            [
             0.5555555555555556,
             "#1f9e89"
            ],
            [
             0.6666666666666666,
             "#35b779"
            ],
            [
             0.7777777777777778,
             "#6ece58"
            ],
            [
             0.8888888888888888,
             "#b5de2b"
            ],
            [
             1,
             "#fde725"
            ]
           ]
          },
          "colorway": [
           "#1F77B4",
           "#FF7F0E",
           "#2CA02C",
           "#D62728",
           "#9467BD",
           "#8C564B",
           "#E377C2",
           "#7F7F7F",
           "#BCBD22",
           "#17BECF"
          ],
          "font": {
           "color": "rgb(36,36,36)"
          },
          "geo": {
           "bgcolor": "white",
           "lakecolor": "white",
           "landcolor": "white",
           "showlakes": true,
           "showland": true,
           "subunitcolor": "white"
          },
          "hoverlabel": {
           "align": "left"
          },
          "hovermode": "closest",
          "mapbox": {
           "style": "light"
          },
          "paper_bgcolor": "white",
          "plot_bgcolor": "white",
          "polar": {
           "angularaxis": {
            "gridcolor": "rgb(232,232,232)",
            "linecolor": "rgb(36,36,36)",
            "showgrid": false,
            "showline": true,
            "ticks": "outside"
           },
           "bgcolor": "white",
           "radialaxis": {
            "gridcolor": "rgb(232,232,232)",
            "linecolor": "rgb(36,36,36)",
            "showgrid": false,
            "showline": true,
            "ticks": "outside"
           }
          },
          "scene": {
           "xaxis": {
            "backgroundcolor": "white",
            "gridcolor": "rgb(232,232,232)",
            "gridwidth": 2,
            "linecolor": "rgb(36,36,36)",
            "showbackground": true,
            "showgrid": false,
            "showline": true,
            "ticks": "outside",
            "zeroline": false,
            "zerolinecolor": "rgb(36,36,36)"
           },
           "yaxis": {
            "backgroundcolor": "white",
            "gridcolor": "rgb(232,232,232)",
            "gridwidth": 2,
            "linecolor": "rgb(36,36,36)",
            "showbackground": true,
            "showgrid": false,
            "showline": true,
            "ticks": "outside",
            "zeroline": false,
            "zerolinecolor": "rgb(36,36,36)"
           },
           "zaxis": {
            "backgroundcolor": "white",
            "gridcolor": "rgb(232,232,232)",
            "gridwidth": 2,
            "linecolor": "rgb(36,36,36)",
            "showbackground": true,
            "showgrid": false,
            "showline": true,
            "ticks": "outside",
            "zeroline": false,
            "zerolinecolor": "rgb(36,36,36)"
           }
          },
          "shapedefaults": {
           "fillcolor": "black",
           "line": {
            "width": 0
           },
           "opacity": 0.3
          },
          "ternary": {
           "aaxis": {
            "gridcolor": "rgb(232,232,232)",
            "linecolor": "rgb(36,36,36)",
            "showgrid": false,
            "showline": true,
            "ticks": "outside"
           },
           "baxis": {
            "gridcolor": "rgb(232,232,232)",
            "linecolor": "rgb(36,36,36)",
            "showgrid": false,
            "showline": true,
            "ticks": "outside"
           },
           "bgcolor": "white",
           "caxis": {
            "gridcolor": "rgb(232,232,232)",
            "linecolor": "rgb(36,36,36)",
            "showgrid": false,
            "showline": true,
            "ticks": "outside"
           }
          },
          "title": {
           "x": 0.05
          },
          "xaxis": {
           "automargin": true,
           "gridcolor": "rgb(232,232,232)",
           "linecolor": "rgb(36,36,36)",
           "showgrid": false,
           "showline": true,
           "ticks": "outside",
           "title": {
            "standoff": 15
           },
           "zeroline": false,
           "zerolinecolor": "rgb(36,36,36)"
          },
          "yaxis": {
           "automargin": true,
           "gridcolor": "rgb(232,232,232)",
           "linecolor": "rgb(36,36,36)",
           "showgrid": false,
           "showline": true,
           "ticks": "outside",
           "title": {
            "standoff": 15
           },
           "zeroline": false,
           "zerolinecolor": "rgb(36,36,36)"
          }
         }
        },
        "xaxis": {
         "anchor": "y",
         "domain": [
          0,
          1
         ],
         "title": {
          "text": "body_mass_g"
         }
        },
        "yaxis": {
         "anchor": "x",
         "domain": [
          0,
          1
         ],
         "title": {
          "text": "count"
         }
        }
       }
      }
     },
     "metadata": {},
     "output_type": "display_data"
    }
   ],
   "source": [
    "fig2 = px.histogram(df, x=\"body_mass_g\", template='simple_white')\n",
    "fig2.show()\n"
   ]
  },
  {
   "cell_type": "code",
   "execution_count": null,
   "metadata": {},
   "outputs": [],
   "source": []
  }
 ],
 "metadata": {
  "kernelspec": {
   "display_name": "Python 3.8.8 ('base')",
   "language": "python",
   "name": "python3"
  },
  "language_info": {
   "codemirror_mode": {
    "name": "ipython",
    "version": 3
   },
   "file_extension": ".py",
   "mimetype": "text/x-python",
   "name": "python",
   "nbconvert_exporter": "python",
   "pygments_lexer": "ipython3",
   "version": "3.8.8"
  },
  "orig_nbformat": 4,
  "vscode": {
   "interpreter": {
    "hash": "29eb490d9d566e339a907465d8c8896fb9fe01910bb21282fb1f6325ea9a51e7"
   }
  }
 },
 "nbformat": 4,
 "nbformat_minor": 2
}
